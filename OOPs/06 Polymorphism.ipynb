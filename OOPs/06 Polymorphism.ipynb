{
 "cells": [
  {
   "cell_type": "markdown",
   "metadata": {},
   "source": [
    "# Chapter 6: Polymorphism\n",
    "\n",
    "## What is Polymorphism?\n",
    "Polymorphism allows methods or operators to take multiple forms. It enables the same method to behave differently based on the object calling it.\n",
    "\n",
    "---\n",
    "\n",
    "## Types of Polymorphism\n",
    "\n",
    "### 1. **Method Overriding** (Runtime Polymorphism)\n",
    "A subclass provides its own version of a method already defined in the superclass."
   ]
  },
  {
   "cell_type": "code",
   "execution_count": 5,
   "metadata": {},
   "outputs": [
    {
     "name": "stdout",
     "output_type": "stream",
     "text": [
      "This is a pump used in chemical processes.\n"
     ]
    }
   ],
   "source": [
    "class Equipment:\n",
    "    def display_info(self):\n",
    "        print(\"This is a piece of equipment.\")\n",
    "\n",
    "class Pump(Equipment):\n",
    "    def display_info(self):\n",
    "        print(\"This is a pump used in chemical processes.\")\n",
    "\n",
    "# Using overridden methods\n",
    "pump1 = Pump()\n",
    "pump1.display_info()  # Output: This is a pump used in chemical processes."
   ]
  },
  {
   "cell_type": "markdown",
   "metadata": {},
   "source": [
    "### 2. **Method Overloading (Simulated)**\n",
    "Python does not support true method overloading but can be simulated using default arguments."
   ]
  },
  {
   "cell_type": "code",
   "execution_count": 6,
   "metadata": {},
   "outputs": [
    {
     "name": "stdout",
     "output_type": "stream",
     "text": [
      "Mixing at 100 RPM\n",
      "Mixing at 200 RPM\n"
     ]
    }
   ],
   "source": [
    "class Mixer:\n",
    "    def mix(self, speed=100):\n",
    "        print(f\"Mixing at {speed} RPM\")\n",
    "\n",
    "mixer1 = Mixer()\n",
    "mixer1.mix()          # Default speed: 100 RPM\n",
    "mixer1.mix(200)       # Custom speed: 200 RPM"
   ]
  },
  {
   "cell_type": "markdown",
   "metadata": {},
   "source": [
    "### 3. **Operator Overloading**\n",
    "Python allows operators like `+`, `-`, and `*` to be overloaded using special methods."
   ]
  },
  {
   "cell_type": "code",
   "execution_count": 7,
   "metadata": {},
   "outputs": [
    {
     "name": "stdout",
     "output_type": "stream",
     "text": [
      "Combined Reactor Volume: 30 m^3\n"
     ]
    }
   ],
   "source": [
    "class Reactor:\n",
    "    def __init__(self, volume):\n",
    "        self.volume = volume\n",
    "\n",
    "    def __add__(self, other):\n",
    "        return Reactor(self.volume + other.volume)\n",
    "\n",
    "# Creating reactors\n",
    "reactor1 = Reactor(10)\n",
    "reactor2 = Reactor(20)\n",
    "reactor3 = reactor1 + reactor2\n",
    "\n",
    "print(f\"Combined Reactor Volume: {reactor3.volume} m^3\")"
   ]
  },
  {
   "cell_type": "markdown",
   "metadata": {},
   "source": [
    "## Practical Example: Equipment Performance Testing"
   ]
  },
  {
   "cell_type": "code",
   "execution_count": 8,
   "metadata": {},
   "outputs": [
    {
     "name": "stdout",
     "output_type": "stream",
     "text": [
      "Testing heat exchanger efficiency\n",
      "Testing pump flow rate\n"
     ]
    }
   ],
   "source": [
    "class Equipment:\n",
    "    def test_performance(self):\n",
    "        print(\"Testing generic equipment performance\")\n",
    "\n",
    "class HeatExchanger(Equipment):\n",
    "    def test_performance(self):\n",
    "        print(\"Testing heat exchanger efficiency\")\n",
    "\n",
    "class Pump(Equipment):\n",
    "    def test_performance(self):\n",
    "        print(\"Testing pump flow rate\")\n",
    "\n",
    "# Polymorphic behavior\n",
    "for equipment in [HeatExchanger(), Pump()]:\n",
    "    equipment.test_performance()"
   ]
  },
  {
   "cell_type": "markdown",
   "metadata": {},
   "source": [
    "## Summary\n",
    "- **Polymorphism** allows the same method to have different behaviors based on the object calling it.\n",
    "- Types include **Method Overriding**, **Method Overloading (Simulated)**, and **Operator Overloading**.\n",
    "\n",
    "---\n",
    "\n",
    "## Next Steps\n",
    "In the next chapter, we will explore **Encapsulation**, which focuses on data hiding and protecting attributes within a class. Stay tuned!\n",
    "\n"
   ]
  }
 ],
 "metadata": {
  "kernelspec": {
   "display_name": "Python 3",
   "language": "python",
   "name": "python3"
  },
  "language_info": {
   "codemirror_mode": {
    "name": "ipython",
    "version": 3
   },
   "file_extension": ".py",
   "mimetype": "text/x-python",
   "name": "python",
   "nbconvert_exporter": "python",
   "pygments_lexer": "ipython3",
   "version": "3.12.3"
  }
 },
 "nbformat": 4,
 "nbformat_minor": 2
}
