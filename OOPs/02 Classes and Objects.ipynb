{
 "cells": [
  {
   "cell_type": "markdown",
   "metadata": {},
   "source": [
    "# Chapter 2: Classes and Objects\n",
    "\n",
    "## What are Classes and Objects?\n",
    "Classes and objects are the foundation of object-oriented programming.\n",
    "\n",
    "### Definitions:\n",
    "- **Class**: A blueprint for creating objects. It defines attributes (data) and methods (functions) that the objects created from the class will have.\n",
    "- **Object**: An instance of a class. It represents a specific realization of the class blueprint.\n",
    "\n",
    "### Real-World Analogy:\n",
    "- A **class** is like a blueprint of a reactor.\n",
    "- An **object** is a specific reactor built using the blueprint, such as a packed bed reactor or CSTR.\n",
    "\n",
    "---\n",
    "\n",
    "## Defining a Class\n",
    "To define a class in Python, use the `class` keyword:"
   ]
  },
  {
   "cell_type": "code",
   "execution_count": 1,
   "metadata": {},
   "outputs": [],
   "source": [
    "class Reactor:\n",
    "    pass  # An empty class"
   ]
  },
  {
   "cell_type": "markdown",
   "metadata": {},
   "source": [
    "### Adding Attributes and Methods:\n",
    "Attributes store data, while methods define behavior. For example:"
   ]
  },
  {
   "cell_type": "code",
   "execution_count": 2,
   "metadata": {},
   "outputs": [],
   "source": [
    "class Reactor:\n",
    "    def __init__(self, volume, pressure):  # Constructor method\n",
    "        self.volume = volume              # Instance attribute\n",
    "        self.pressure = pressure\n",
    "\n",
    "    def display_details(self):            # Method\n",
    "        print(f\"Reactor Volume: {self.volume} m^3\")\n",
    "        print(f\"Reactor Pressure: {self.pressure} bar\")"
   ]
  },
  {
   "cell_type": "markdown",
   "metadata": {},
   "source": [
    "## Creating Objects\n",
    "Objects are created by instantiating a class. For example:"
   ]
  },
  {
   "cell_type": "code",
   "execution_count": 3,
   "metadata": {},
   "outputs": [
    {
     "name": "stdout",
     "output_type": "stream",
     "text": [
      "10\n",
      "15\n",
      "Reactor Volume: 10 m^3\n",
      "Reactor Pressure: 15 bar\n"
     ]
    }
   ],
   "source": [
    "# Create an object of the Reactor class\n",
    "reactor1 = Reactor(volume=10, pressure=15)\n",
    "\n",
    "# Access object attributes\n",
    "print(reactor1.volume)  # Output: 10\n",
    "print(reactor1.pressure)  # Output: 15\n",
    "\n",
    "# Call methods\n",
    "reactor1.display_details()"
   ]
  },
  {
   "cell_type": "markdown",
   "metadata": {},
   "source": [
    "## Practical Example: Pump Class\n",
    "Here’s a practical example relevant to chemical engineering:"
   ]
  },
  {
   "cell_type": "code",
   "execution_count": 5,
   "metadata": {},
   "outputs": [],
   "source": [
    "class Pump:\n",
    "    def __init__(self, flow_rate, head):\n",
    "        self.flow_rate = flow_rate  # m^3/h\n",
    "        self.head = head            # m\n",
    "\n",
    "    def calculate_power(self):\n",
    "        # Simplified power calculation: P = Q * H * constant\n",
    "        power = self.flow_rate * self.head * 0.1  # Assume a constant of 0.1 for simplicity\n",
    "        return power\n",
    "\n",
    "    def display_details(self):\n",
    "        print(f\"Pump Flow Rate: {self.flow_rate} m^3/h\")\n",
    "        print(f\"Pump Head: {self.head} m\")"
   ]
  },
  {
   "cell_type": "markdown",
   "metadata": {},
   "source": [
    "### Using the Pump Class:"
   ]
  },
  {
   "cell_type": "code",
   "execution_count": 6,
   "metadata": {},
   "outputs": [
    {
     "name": "stdout",
     "output_type": "stream",
     "text": [
      "Pump Flow Rate: 50 m^3/h\n",
      "Pump Head: 25 m\n",
      "Pump Power: 125.0 kW\n"
     ]
    }
   ],
   "source": [
    "# Create a pump object\n",
    "pump1 = Pump(flow_rate=50, head=25)\n",
    "\n",
    "# Display details\n",
    "pump1.display_details()\n",
    "\n",
    "# Calculate and print power\n",
    "power = pump1.calculate_power()\n",
    "print(f\"Pump Power: {power} kW\")"
   ]
  },
  {
   "cell_type": "markdown",
   "metadata": {},
   "source": [
    "## Summary\n",
    "- A **class** is a blueprint, and an **object** is an instance of that blueprint.\n",
    "- Attributes store object-specific data, while methods define the object’s behavior.\n",
    "- Chemical engineering applications of classes include defining process equipment and performing calculations.\n",
    "\n",
    "---"
   ]
  }
 ],
 "metadata": {
  "kernelspec": {
   "display_name": "Python 3",
   "language": "python",
   "name": "python3"
  },
  "language_info": {
   "codemirror_mode": {
    "name": "ipython",
    "version": 3
   },
   "file_extension": ".py",
   "mimetype": "text/x-python",
   "name": "python",
   "nbconvert_exporter": "python",
   "pygments_lexer": "ipython3",
   "version": "3.12.3"
  }
 },
 "nbformat": 4,
 "nbformat_minor": 2
}
