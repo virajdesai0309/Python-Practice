{
 "cells": [
  {
   "cell_type": "markdown",
   "metadata": {},
   "source": [
    "# Chapter 1: Introduction to Object-Oriented Programming\n",
    "\n",
    "## What is Object-Oriented Programming (OOP)?\n",
    "Object-Oriented Programming (OOP) is a programming paradigm based on the concept of \"objects,\" which can contain data in the form of fields (often called attributes) and code in the form of procedures (often called methods).\n",
    "\n",
    "### Key Features of OOP:\n",
    "1. **Encapsulation**: Bundling data and methods that operate on the data within a single unit (class).\n",
    "2. **Inheritance**: Creating new classes based on existing ones, enabling code reuse.\n",
    "3. **Polymorphism**: Allowing entities to take on more than one form (e.g., method overloading).\n",
    "4. **Abstraction**: Hiding complex implementation details and showing only essential features.\n",
    "\n",
    "### Procedural vs. Object-Oriented Programming:\n",
    "| **Feature**            | **Procedural Programming**       | **Object-Oriented Programming** |\n",
    "|------------------------|----------------------------------|----------------------------------|\n",
    "| Code Organization      | Functions and modules           | Classes and objects             |\n",
    "| Data Handling          | Separate from functions         | Encapsulated within objects     |\n",
    "| Reusability            | Moderate                        | High                            |\n",
    "| Example                | C, Fortran                      | Python, C++, Java               |\n",
    "\n",
    "---\n",
    "\n",
    "## Why Chemical Engineers Need OOP?\n",
    "OOP provides a systematic way to model and solve engineering problems. For instance:\n",
    "\n",
    "- **Process Simulation**: Classes can represent equipment like pumps, compressors, and separators.\n",
    "- **Data Management**: Encapsulation ensures that process data is logically grouped.\n",
    "- **Reusability**: Inheritance allows for creating specialized equipment based on general templates.\n",
    "- **Modular Design**: Abstraction simplifies complex systems into manageable components.\n",
    "\n",
    "---\n",
    "\n",
    "## Setting Up the Environment\n",
    "Before diving into Python programming, let’s ensure your setup is ready:\n",
    "\n",
    "### Installing Python and Jupyter Notebook:\n",
    "1. **Install Python**:\n",
    "   Open the terminal and run:\n",
    "   ```bash\n",
    "   sudo apt update\n",
    "   sudo apt install python3 python3-pip\n",
    "   sudo apt install python3-ipykernel\n",
    "   ```\n",
    "2. **Install Jupyter Notebook**:\n",
    "   Use `pip` to install:\n",
    "   ```bash\n",
    "   pip3 install notebook\n",
    "   ```\n",
    "\n",
    "### Setting Up Jupyter in VS Code:\n",
    "1. **Install VS Code**:\n",
    "   Download and install from [Visual Studio Code](https://code.visualstudio.com/).\n",
    "2. **Install Python Extension**:\n",
    "   - Open VS Code.\n",
    "   - Go to Extensions (`Ctrl+Shift+X`).\n",
    "   - Search for \"Python\" and install it.\n",
    "   - [Python Extension Link](https://marketplace.visualstudio.com/items?itemName=ms-python.python)\n",
    "   - Search for \"Jupter\" and install it.\n",
    "   - [Jupyter](https://marketplace.visualstudio.com/items?itemName=ms-toolsai.jupyter)\n",
    "3. **Launch Jupyter Notebooks**:\n",
    "   - Open a terminal in VS Code.\n",
    "   - Start Jupyter:\n",
    "     ```bash\n",
    "     jupyter notebook\n",
    "     ```\n",
    "   - Open the `.ipynb` file in VS Code.\n",
    "\n",
    "---\n",
    "\n",
    "## Writing Your First Python Program\n",
    "Let’s test your setup with a simple program in Jupyter Notebook:\n",
    "\n",
    "1. Open Jupyter Notebook and create a new notebook.\n",
    "2. In the first cell, type:\n",
    "   ```python\n",
    "   print(\"Hello, Chemical Engineers! Welcome to OOP.\")\n",
    "   ```\n",
    "3. Run the cell by pressing `Shift + Enter`.\n",
    "\n",
    "If you see the output \"Hello, Chemical Engineers! Welcome to OOP,\" congratulations! Your setup is ready.\n",
    "\n",
    "---\n",
    "\n"
   ]
  },
  {
   "cell_type": "code",
   "execution_count": 1,
   "metadata": {},
   "outputs": [
    {
     "name": "stdout",
     "output_type": "stream",
     "text": [
      "Hello, Chemical Engineers! Welcome to OOP.\n"
     ]
    }
   ],
   "source": [
    "print(\"Hello, Chemical Engineers! Welcome to OOP.\")"
   ]
  },
  {
   "cell_type": "markdown",
   "metadata": {},
   "source": [
    "## Next Steps\n",
    "In the next chapter, we will dive into **Classes and Objects**, the building blocks of OOP. Get ready to create your first class and instantiate objects that represent real-world chemical engineering equipment!"
   ]
  }
 ],
 "metadata": {
  "kernelspec": {
   "display_name": "Python 3",
   "language": "python",
   "name": "python3"
  },
  "language_info": {
   "codemirror_mode": {
    "name": "ipython",
    "version": 3
   },
   "file_extension": ".py",
   "mimetype": "text/x-python",
   "name": "python",
   "nbconvert_exporter": "python",
   "pygments_lexer": "ipython3",
   "version": "3.12.3"
  }
 },
 "nbformat": 4,
 "nbformat_minor": 2
}
