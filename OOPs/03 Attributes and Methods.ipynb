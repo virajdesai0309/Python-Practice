{
 "cells": [
  {
   "cell_type": "markdown",
   "metadata": {},
   "source": [
    "# Chapter 3: Attributes and Methods\n",
    "\n",
    "## What are Attributes and Methods?\n",
    "Attributes and methods are essential parts of a class in OOP:\n",
    "- **Attributes**: Variables that store data about the object.\n",
    "- **Methods**: Functions defined inside a class that describe the behavior of an object.\n",
    "\n",
    "Attributes and methods make objects functional and customizable.\n",
    "\n",
    "---\n",
    "\n",
    "## Types of Attributes\n",
    "\n",
    "### 1. **Instance Attributes**\n",
    "- Specific to each object.\n",
    "- Defined using the `self` keyword inside the `__init__` method.\n",
    "\n",
    "Example:"
   ]
  },
  {
   "cell_type": "code",
   "execution_count": 1,
   "metadata": {},
   "outputs": [
    {
     "name": "stdout",
     "output_type": "stream",
     "text": [
      "10\n",
      "10\n"
     ]
    }
   ],
   "source": [
    "class Reactor:\n",
    "    def __init__(self, volume, pressure):\n",
    "        self.volume = volume  # Instance attribute\n",
    "        self.pressure = pressure\n",
    "\n",
    "# Create objects\n",
    "reactor1 = Reactor(10, 15)\n",
    "reactor2 = Reactor(20, 10)\n",
    "\n",
    "print(reactor1.volume)  # Output: 10\n",
    "print(reactor2.pressure)  # Output: 10"
   ]
  },
  {
   "cell_type": "markdown",
   "metadata": {},
   "source": [
    "### 2. **Class Attributes**\n",
    "- Shared across all instances of the class.\n",
    "- Defined outside the `__init__` method.\n",
    "\n",
    "Example:"
   ]
  },
  {
   "cell_type": "code",
   "execution_count": 2,
   "metadata": {},
   "outputs": [
    {
     "name": "stdout",
     "output_type": "stream",
     "text": [
      "Stainless Steel\n",
      "Stainless Steel\n",
      "Stainless Steel\n"
     ]
    }
   ],
   "source": [
    "class Reactor:\n",
    "    material = \"Stainless Steel\"  # Class attribute\n",
    "\n",
    "    def __init__(self, volume):\n",
    "        self.volume = volume\n",
    "\n",
    "# Access class attribute\n",
    "print(Reactor.material)  # Output: Stainless Steel\n",
    "\n",
    "# Create objects\n",
    "reactor1 = Reactor(10)\n",
    "reactor2 = Reactor(20)\n",
    "\n",
    "# Class attribute is shared\n",
    "print(reactor1.material)  # Output: Stainless Steel\n",
    "print(reactor2.material)  # Output: Stainless Steel"
   ]
  },
  {
   "cell_type": "markdown",
   "metadata": {},
   "source": [
    "## Methods\n",
    "\n",
    "### 1. **Instance Methods**\n",
    "- Operate on instance attributes.\n",
    "- The first parameter is always `self`, referring to the current object.\n",
    "\n",
    "Example:"
   ]
  },
  {
   "cell_type": "code",
   "execution_count": 3,
   "metadata": {},
   "outputs": [
    {
     "name": "stdout",
     "output_type": "stream",
     "text": [
      "Volume: 10 m^3\n",
      "Pressure: 15 bar\n"
     ]
    }
   ],
   "source": [
    "class Reactor:\n",
    "    def __init__(self, volume, pressure):\n",
    "        self.volume = volume\n",
    "        self.pressure = pressure\n",
    "\n",
    "    def display_details(self):\n",
    "        print(f\"Volume: {self.volume} m^3\")\n",
    "        print(f\"Pressure: {self.pressure} bar\")\n",
    "\n",
    "# Create object and call method\n",
    "reactor1 = Reactor(10, 15)\n",
    "reactor1.display_details()"
   ]
  },
  {
   "cell_type": "markdown",
   "metadata": {},
   "source": [
    "### 2. **Class Methods**\n",
    "- Operate on class attributes.\n",
    "- Use the `@classmethod` decorator.\n",
    "- The first parameter is `cls`, referring to the class itself.\n",
    "\n",
    "Example:"
   ]
  },
  {
   "cell_type": "code",
   "execution_count": 4,
   "metadata": {},
   "outputs": [
    {
     "name": "stdout",
     "output_type": "stream",
     "text": [
      "Stainless Steel\n",
      "Carbon Steel\n"
     ]
    }
   ],
   "source": [
    "class Reactor:\n",
    "    material = \"Stainless Steel\"\n",
    "\n",
    "    @classmethod\n",
    "    def change_material(cls, new_material):\n",
    "        cls.material = new_material\n",
    "\n",
    "# Access and modify class attribute via class method\n",
    "print(Reactor.material)  # Output: Stainless Steel\n",
    "Reactor.change_material(\"Carbon Steel\")\n",
    "print(Reactor.material)  # Output: Carbon Steel"
   ]
  },
  {
   "cell_type": "markdown",
   "metadata": {},
   "source": [
    "### 3. **Static Methods**\n",
    "- Do not operate on instance or class attributes.\n",
    "- Use the `@staticmethod` decorator.\n",
    "\n",
    "Example:"
   ]
  },
  {
   "cell_type": "code",
   "execution_count": 5,
   "metadata": {},
   "outputs": [
    {
     "name": "stdout",
     "output_type": "stream",
     "text": [
      "Ensure proper pressure relief systems are in place.\n"
     ]
    }
   ],
   "source": [
    "class Reactor:\n",
    "    @staticmethod\n",
    "    def safety_guideline():\n",
    "        print(\"Ensure proper pressure relief systems are in place.\")\n",
    "\n",
    "# Call static method\n",
    "Reactor.safety_guideline()"
   ]
  },
  {
   "cell_type": "markdown",
   "metadata": {},
   "source": [
    "## Practical Example: Binary Mixture Properties\n",
    "Here is an example class for calculating properties of a binary mixture:"
   ]
  },
  {
   "cell_type": "code",
   "execution_count": 6,
   "metadata": {},
   "outputs": [
    {
     "name": "stdout",
     "output_type": "stream",
     "text": [
      "Average Molecular Weight: 23.63 g/mol\n",
      "Handle volatile components with care.\n"
     ]
    }
   ],
   "source": [
    "class BinaryMixture:\n",
    "    def __init__(self, component1, component2, mole_fraction1):\n",
    "        self.component1 = component1\n",
    "        self.component2 = component2\n",
    "        self.mole_fraction1 = mole_fraction1\n",
    "        self.mole_fraction2 = 1 - mole_fraction1\n",
    "\n",
    "    def average_molecular_weight(self, mw1, mw2):\n",
    "        return self.mole_fraction1 * mw1 + self.mole_fraction2 * mw2\n",
    "\n",
    "    @staticmethod\n",
    "    def safety_warning():\n",
    "        print(\"Handle volatile components with care.\")\n",
    "\n",
    "# Create an object for a binary mixture\n",
    "mixture = BinaryMixture(\"Methanol\", \"Water\", 0.4)\n",
    "\n",
    "# Calculate average molecular weight\n",
    "mw_avg = mixture.average_molecular_weight(32.04, 18.02)\n",
    "print(f\"Average Molecular Weight: {mw_avg:.2f} g/mol\")\n",
    "\n",
    "# Display safety warning\n",
    "mixture.safety_warning()"
   ]
  },
  {
   "cell_type": "markdown",
   "metadata": {},
   "source": [
    "## Summary\n",
    "- **Instance Attributes** are unique to each object, while **Class Attributes** are shared.\n",
    "- Use **Instance Methods** to operate on object-specific data.\n",
    "- Use **Class Methods** for operations related to the class as a whole.\n",
    "- Use **Static Methods** for general utility functions.\n",
    "\n",
    "---\n",
    "\n",
    "## Next Steps\n",
    "In the next chapter, we’ll explore **Constructors and Destructors**, focusing on initializing and cleaning up objects efficiently. Stay tuned!"
   ]
  }
 ],
 "metadata": {
  "kernelspec": {
   "display_name": "Python 3",
   "language": "python",
   "name": "python3"
  },
  "language_info": {
   "codemirror_mode": {
    "name": "ipython",
    "version": 3
   },
   "file_extension": ".py",
   "mimetype": "text/x-python",
   "name": "python",
   "nbconvert_exporter": "python",
   "pygments_lexer": "ipython3",
   "version": "3.12.3"
  }
 },
 "nbformat": 4,
 "nbformat_minor": 2
}
