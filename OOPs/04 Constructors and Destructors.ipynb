{
 "cells": [
  {
   "cell_type": "markdown",
   "metadata": {},
   "source": [
    "# Chapter 4: Constructors and Destructors\n",
    "\n",
    "## What are Constructors and Destructors?\n",
    "Constructors and destructors are special methods used to initialize and clean up objects in a class.\n",
    "\n",
    "---\n",
    "\n",
    "## Constructors\n",
    "### Definition:\n",
    "A **constructor** is a special method called automatically when an object is created. In Python, it is defined using `__init__`."
   ]
  },
  {
   "cell_type": "code",
   "execution_count": 3,
   "metadata": {},
   "outputs": [],
   "source": [
    "class Reactor:\n",
    "    def __init__(self, volume, pressure):\n",
    "        self.volume = volume\n",
    "        self.pressure = pressure\n",
    "\n",
    "    def display_details(self):\n",
    "        print(f\"Volume: {self.volume} m^3\")\n",
    "        print(f\"Pressure: {self.pressure} bar\")"
   ]
  },
  {
   "cell_type": "code",
   "execution_count": 4,
   "metadata": {},
   "outputs": [
    {
     "name": "stdout",
     "output_type": "stream",
     "text": [
      "Volume: 10 m^3\n",
      "Pressure: 15 bar\n"
     ]
    }
   ],
   "source": [
    "# Create an object\n",
    "reactor1 = Reactor(10, 15)\n",
    "reactor1.display_details()"
   ]
  },
  {
   "cell_type": "markdown",
   "metadata": {},
   "source": [
    "## Destructors\n",
    "### Definition:\n",
    "A **destructor** is a special method called automatically when an object is destroyed or goes out of scope. In Python, it is defined using `__del__`.\n"
   ]
  },
  {
   "cell_type": "code",
   "execution_count": 5,
   "metadata": {},
   "outputs": [],
   "source": [
    "class Reactor:\n",
    "    def __init__(self, volume, pressure):\n",
    "        self.volume = volume\n",
    "        self.pressure = pressure\n",
    "\n",
    "    def __del__(self):\n",
    "        print(\"Reactor object is being destroyed\")"
   ]
  },
  {
   "cell_type": "code",
   "execution_count": 6,
   "metadata": {},
   "outputs": [
    {
     "name": "stdout",
     "output_type": "stream",
     "text": [
      "Reactor object is being destroyed\n"
     ]
    }
   ],
   "source": [
    "# Create and delete an object\n",
    "reactor2 = Reactor(20, 10)\n",
    "del reactor2"
   ]
  },
  {
   "cell_type": "markdown",
   "metadata": {},
   "source": [
    "## Practical Example: Process Equipment Lifecycle"
   ]
  },
  {
   "cell_type": "code",
   "execution_count": 7,
   "metadata": {},
   "outputs": [],
   "source": [
    "class Pump:\n",
    "    def __init__(self, flow_rate):\n",
    "        self.flow_rate = flow_rate\n",
    "        print(\"Pump initialized\")\n",
    "\n",
    "    def __del__(self):\n",
    "        print(\"Pump object is being removed\")\n"
   ]
  },
  {
   "cell_type": "code",
   "execution_count": 8,
   "metadata": {},
   "outputs": [
    {
     "name": "stdout",
     "output_type": "stream",
     "text": [
      "Pump initialized\n",
      "Pump object is being removed\n"
     ]
    }
   ],
   "source": [
    "# Creating and deleting an object\n",
    "pump1 = Pump(50)\n",
    "del pump1"
   ]
  },
  {
   "cell_type": "markdown",
   "metadata": {},
   "source": [
    "## Summary\n",
    "- **Constructors** initialize objects with user-defined values.\n",
    "- **Destructors** handle cleanup tasks before an object is destroyed.\n",
    "\n",
    "---\n",
    "\n",
    "## Next Steps\n",
    "In the next chapter, we will explore **Inheritance**, a powerful feature that allows creating new classes from existing ones. Stay tuned!\n"
   ]
  }
 ],
 "metadata": {
  "kernelspec": {
   "display_name": "Python 3",
   "language": "python",
   "name": "python3"
  },
  "language_info": {
   "codemirror_mode": {
    "name": "ipython",
    "version": 3
   },
   "file_extension": ".py",
   "mimetype": "text/x-python",
   "name": "python",
   "nbconvert_exporter": "python",
   "pygments_lexer": "ipython3",
   "version": "3.12.3"
  }
 },
 "nbformat": 4,
 "nbformat_minor": 2
}
