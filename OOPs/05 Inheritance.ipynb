{
 "cells": [
  {
   "cell_type": "markdown",
   "metadata": {},
   "source": [
    "# Chapter 5: Inheritance\n",
    "\n",
    "## What is Inheritance?\n",
    "Inheritance is a fundamental principle of object-oriented programming that allows a class to inherit attributes and methods from another class.\n",
    "\n",
    "---\n",
    "\n",
    "## Benefits of Inheritance\n",
    "- **Code Reusability**: Avoid duplicating code by reusing existing classes.\n",
    "- **Simpler Code Maintenance**: Changes made in the parent class reflect in the child classes.\n",
    "- **Hierarchical Structuring**: Represent relationships between objects.\n",
    "\n",
    "---\n",
    "\n",
    "## Defining Inheritance in Python"
   ]
  },
  {
   "cell_type": "code",
   "execution_count": 5,
   "metadata": {},
   "outputs": [],
   "source": [
    "# Base class\n",
    "class Equipment:\n",
    "    def __init__(self, name):\n",
    "        self.name = name\n",
    "\n",
    "    def display_info(self):\n",
    "        print(f\"Equipment Name: {self.name}\")\n",
    "\n",
    "# Derived class inheriting from Equipment\n",
    "class Pump(Equipment):\n",
    "    def __init__(self, name, flow_rate):\n",
    "        super().__init__(name)\n",
    "        self.flow_rate = flow_rate\n",
    "\n",
    "    def display_info(self):\n",
    "        super().display_info()\n",
    "        print(f\"Flow Rate: {self.flow_rate} m^3/h\")"
   ]
  },
  {
   "cell_type": "code",
   "execution_count": 6,
   "metadata": {},
   "outputs": [
    {
     "name": "stdout",
     "output_type": "stream",
     "text": [
      "Equipment Name: Centrifugal Pump\n",
      "Flow Rate: 50 m^3/h\n"
     ]
    }
   ],
   "source": [
    "# Creating an object\n",
    "pump1 = Pump(\"Centrifugal Pump\", 50)\n",
    "pump1.display_info()"
   ]
  },
  {
   "cell_type": "markdown",
   "metadata": {},
   "source": [
    "## Types of Inheritance\n",
    "### 1. **Single Inheritance**\n",
    "One child class inherits from a single parent class.\n",
    "\n",
    "### 2. **Multiple Inheritance**\n",
    "A child class inherits from more than one parent class."
   ]
  },
  {
   "cell_type": "code",
   "execution_count": 7,
   "metadata": {},
   "outputs": [
    {
     "name": "stdout",
     "output_type": "stream",
     "text": [
      "Equipment Name: Multistage Pump\n",
      "Powered by electricity\n"
     ]
    }
   ],
   "source": [
    "class ElectricDevice:\n",
    "    def power_source(self):\n",
    "        print(\"Powered by electricity\")\n",
    "\n",
    "class Pump(Equipment, ElectricDevice):\n",
    "    pass\n",
    "\n",
    "pump2 = Pump(\"Multistage Pump\")\n",
    "pump2.display_info()\n",
    "pump2.power_source()"
   ]
  },
  {
   "cell_type": "markdown",
   "metadata": {},
   "source": [
    "### 3. **Multilevel Inheritance**\n",
    "A class derived from another derived class."
   ]
  },
  {
   "cell_type": "code",
   "execution_count": 10,
   "metadata": {},
   "outputs": [
    {
     "name": "stdout",
     "output_type": "stream",
     "text": [
      "Equipment Name: Well Pump\n",
      "Flow Rate: 30 m^3/h\n",
      "Submersible Pump\n"
     ]
    }
   ],
   "source": [
    "class Equipment:\n",
    "    def __init__(self, name):\n",
    "        self.name = name\n",
    "\n",
    "    def display_info(self):\n",
    "        print(f\"Equipment Name: {self.name}\")\n",
    "\n",
    "class Pump(Equipment):\n",
    "    def __init__(self, name, flow_rate):\n",
    "        super().__init__(name)\n",
    "        self.flow_rate = flow_rate\n",
    "\n",
    "    def display_info(self):\n",
    "        super().display_info()\n",
    "        print(f\"Flow Rate: {self.flow_rate} m^3/h\")\n",
    "\n",
    "class SubmersiblePump(Pump):\n",
    "    def __init__(self, name, flow_rate):\n",
    "        super().__init__(name, flow_rate)\n",
    "\n",
    "    def pump_type(self):\n",
    "        print(\"Submersible Pump\")\n",
    "\n",
    "# Create an object for SubmersiblePump\n",
    "pump3 = SubmersiblePump(\"Well Pump\", 30)\n",
    "pump3.display_info()\n",
    "pump3.pump_type()"
   ]
  },
  {
   "cell_type": "markdown",
   "metadata": {},
   "source": [
    "## Summary\n",
    "- **Inheritance** allows a class to reuse code from another class.\n",
    "- Types include **Single**, **Multiple**, and **Multilevel** inheritance.\n",
    "\n",
    "---\n",
    "\n",
    "## Next Steps\n",
    "In the next chapter, we will explore **Polymorphism**, which allows methods to take multiple forms for greater flexibility in object-oriented design.\n",
    "\n"
   ]
  }
 ],
 "metadata": {
  "kernelspec": {
   "display_name": "Python 3",
   "language": "python",
   "name": "python3"
  },
  "language_info": {
   "codemirror_mode": {
    "name": "ipython",
    "version": 3
   },
   "file_extension": ".py",
   "mimetype": "text/x-python",
   "name": "python",
   "nbconvert_exporter": "python",
   "pygments_lexer": "ipython3",
   "version": "3.12.3"
  }
 },
 "nbformat": 4,
 "nbformat_minor": 2
}
