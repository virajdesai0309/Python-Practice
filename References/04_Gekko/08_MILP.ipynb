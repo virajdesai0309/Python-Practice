{
 "cells": [
  {
   "cell_type": "code",
   "execution_count": 4,
   "id": "efd6d4aa",
   "metadata": {},
   "outputs": [
    {
     "name": "stdout",
     "output_type": "stream",
     "text": [
      " ----------------------------------------------------------------\n",
      " APMonitor, Version 1.0.3\n",
      " APMonitor Optimization Suite\n",
      " ----------------------------------------------------------------\n",
      " \n",
      " \n",
      " --------- APM Model Size ------------\n",
      " Each time step contains\n",
      "   Objects      :  0\n",
      "   Constants    :  0\n",
      "   Variables    :  5\n",
      "   Intermediates:  0\n",
      "   Connections  :  0\n",
      "   Equations    :  3\n",
      "   Residuals    :  3\n",
      " \n",
      " Number of state variables:    5\n",
      " Number of total equations: -  2\n",
      " Number of slack variables: -  1\n",
      " ---------------------------------------\n",
      " Degrees of freedom       :    2\n",
      " \n",
      " ----------------------------------------------\n",
      " Steady State Optimization with APOPT Solver\n",
      " ----------------------------------------------\n",
      "Iter:     1 I:  0 Tm:      0.00 NLPi:   17 Dpth:    0 Lvs:    3 Obj:  2.71E+01 Gap:       NaN\n",
      "--Integer Solution:   5.62E+01 Lowest Leaf:   2.71E+01 Gap:   6.98E-01\n",
      "Iter:     2 I:  0 Tm:      0.00 NLPi:    6 Dpth:    1 Lvs:    2 Obj:  5.62E+01 Gap:  6.98E-01\n",
      "Iter:     3 I:  0 Tm:      0.00 NLPi:    5 Dpth:    1 Lvs:    3 Obj:  2.92E+01 Gap:  6.98E-01\n",
      "Iter:     4 I:  0 Tm:      0.00 NLPi:   12 Dpth:    1 Lvs:    5 Obj:  1.70E+01 Gap:  6.98E-01\n",
      "--Integer Solution:   1.75E+01 Lowest Leaf:   1.70E+01 Gap:   3.00E-02\n",
      "Iter:     5 I:  0 Tm:      0.00 NLPi:    5 Dpth:    2 Lvs:    4 Obj:  1.75E+01 Gap:  3.00E-02\n",
      "Iter:     6 I:  0 Tm:      0.00 NLPi:    5 Dpth:    2 Lvs:    3 Obj:  2.15E+01 Gap:  3.00E-02\n",
      "Iter:     7 I:  0 Tm:      0.00 NLPi:    6 Dpth:    2 Lvs:    3 Obj:  1.75E+01 Gap:  3.00E-02\n",
      "--Integer Solution:   1.75E+01 Lowest Leaf:   2.59E+01 Gap:  -3.85E-01\n",
      "Iter:     8 I:  0 Tm:      0.00 NLPi:    6 Dpth:    3 Lvs:    3 Obj:  2.59E+01 Gap: -3.85E-01\n",
      " Successful solution\n",
      " \n",
      " ---------------------------------------------------\n",
      " Solver         :  APOPT (v1.0)\n",
      " Solution time  :  0.0228 sec\n",
      " Objective      :  17.532267301251213\n",
      " Successful solution\n",
      " ---------------------------------------------------\n",
      " \n",
      "\n",
      "1.3589086474 4.5992789966 4.0 1.0\n"
     ]
    }
   ],
   "source": [
    "from gekko import GEKKO\n",
    "\n",
    "m = GEKKO(remote=False)\n",
    "m.options.SOLVER = 1\n",
    "x1 = m.Var(value=1.0, lb=1.0, ub=5.0)\n",
    "x2 = m.Var(value=1.0, lb=1.0, ub=5.0)\n",
    "x3 = m.Var(value=1.0, lb=1.0, ub=5.0, integer=True)\n",
    "x4 = m.Var(value=1.0, lb=1.0, ub=5.0, integer=True)\n",
    "\n",
    "m.Equation(x1*x2*x3*x4>=25)\n",
    "m.Equation(x1**2+x2**2+x3**2+x4**2==40)\n",
    "m.Obj(x1*x4*(x1+x2+x3)+x3)\n",
    "\n",
    "m.solve(disp=True)\n",
    "\n",
    "print(x1.value[0], x2.value[0], x3.value[0], x4.value[0])"
   ]
  },
  {
   "cell_type": "code",
   "execution_count": null,
   "id": "1dfa1dde",
   "metadata": {},
   "outputs": [],
   "source": []
  }
 ],
 "metadata": {
  "kernelspec": {
   "display_name": "Python 3",
   "language": "python",
   "name": "python3"
  },
  "language_info": {
   "codemirror_mode": {
    "name": "ipython",
    "version": 3
   },
   "file_extension": ".py",
   "mimetype": "text/x-python",
   "name": "python",
   "nbconvert_exporter": "python",
   "pygments_lexer": "ipython3",
   "version": "3.12.4"
  }
 },
 "nbformat": 4,
 "nbformat_minor": 5
}
