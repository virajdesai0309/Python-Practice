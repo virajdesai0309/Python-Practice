{
 "cells": [
  {
   "cell_type": "markdown",
   "id": "d5e34c55",
   "metadata": {},
   "source": [
    "# 01 — NumPy for Engineers\n",
    "\n",
    "1. Introduction\n",
    "\n",
    "- What is NumPy?\n",
    "\n",
    "  - A Python library for numerical computing.\n",
    "\n",
    "  - Optimized for array operations (faster than Python lists).\n",
    "\n",
    "- Why Engineers Use It:\n",
    "\n",
    "  - Efficient handling of large datasets.\n",
    "\n",
    "  - Vectorized operations for simulations, process calculations, etc.\n",
    "\n",
    "2. Importing NumPy"
   ]
  },
  {
   "cell_type": "code",
   "execution_count": 1,
   "id": "103f27ee",
   "metadata": {},
   "outputs": [],
   "source": [
    "import numpy as np"
   ]
  },
  {
   "cell_type": "markdown",
   "id": "b4804c42",
   "metadata": {},
   "source": [
    "3. Creating Arrays\n",
    "\n",
    "1D Array"
   ]
  },
  {
   "cell_type": "code",
   "execution_count": 2,
   "id": "090a0394",
   "metadata": {},
   "outputs": [
    {
     "name": "stdout",
     "output_type": "stream",
     "text": [
      "[1 2 3 4]\n"
     ]
    }
   ],
   "source": [
    "arr1 = np.array([1, 2, 3, 4])\n",
    "print(arr1)"
   ]
  },
  {
   "cell_type": "markdown",
   "id": "54911499",
   "metadata": {},
   "source": [
    "2D Array"
   ]
  },
  {
   "cell_type": "code",
   "execution_count": 3,
   "id": "9c5fe7a5",
   "metadata": {},
   "outputs": [
    {
     "name": "stdout",
     "output_type": "stream",
     "text": [
      "[[1 2 3]\n",
      " [4 5 6]]\n"
     ]
    }
   ],
   "source": [
    "arr2 = np.array([[1, 2, 3], [4, 5, 6]])\n",
    "print(arr2)"
   ]
  },
  {
   "cell_type": "markdown",
   "id": "fd97beb0",
   "metadata": {},
   "source": [
    "Special Arrays"
   ]
  },
  {
   "cell_type": "code",
   "execution_count": 5,
   "id": "c286759c",
   "metadata": {},
   "outputs": [
    {
     "name": "stdout",
     "output_type": "stream",
     "text": [
      "Zeros:\n",
      " [[0. 0. 0.]\n",
      " [0. 0. 0.]\n",
      " [0. 0. 0.]]\n",
      "Ones:\n",
      " [[1. 1. 1. 1.]\n",
      " [1. 1. 1. 1.]]\n",
      "Identity:\n",
      " [[1. 0. 0.]\n",
      " [0. 1. 0.]\n",
      " [0. 0. 1.]]\n"
     ]
    }
   ],
   "source": [
    "zeros = np.zeros((3, 3))\n",
    "ones = np.ones((2, 4))\n",
    "identity = np.eye(3)\n",
    "\n",
    "print(\"Zeros:\\n\", zeros)\n",
    "print(\"Ones:\\n\", ones)\n",
    "print(\"Identity:\\n\", identity)"
   ]
  },
  {
   "cell_type": "markdown",
   "id": "eb186a7a",
   "metadata": {},
   "source": [
    "4. Array Attributes"
   ]
  },
  {
   "cell_type": "code",
   "execution_count": 6,
   "id": "1174265c",
   "metadata": {},
   "outputs": [
    {
     "name": "stdout",
     "output_type": "stream",
     "text": [
      "(2, 3)\n",
      "6\n",
      "2\n"
     ]
    }
   ],
   "source": [
    "print(arr2.shape)   # dimensions\n",
    "print(arr2.size)    # number of elements\n",
    "print(arr2.ndim)    # number of dimensions"
   ]
  },
  {
   "cell_type": "markdown",
   "id": "13c55c89",
   "metadata": {},
   "source": [
    "5. Indexing & Slicing"
   ]
  },
  {
   "cell_type": "code",
   "execution_count": 7,
   "id": "2c77f401",
   "metadata": {},
   "outputs": [
    {
     "name": "stdout",
     "output_type": "stream",
     "text": [
      "10\n",
      "[20 30 40]\n"
     ]
    }
   ],
   "source": [
    "A = np.array([10, 20, 30, 40, 50])\n",
    "print(A[0])      # first element\n",
    "print(A[1:4])    # slicing"
   ]
  },
  {
   "cell_type": "markdown",
   "id": "bc4df781",
   "metadata": {},
   "source": [
    "6. Mathematical Operations\n",
    "Element-wise"
   ]
  },
  {
   "cell_type": "code",
   "execution_count": 8,
   "id": "a6359b7d",
   "metadata": {},
   "outputs": [
    {
     "name": "stdout",
     "output_type": "stream",
     "text": [
      "[5 7 9]\n",
      "[ 4 10 18]\n",
      "[1.         1.41421356 1.73205081]\n"
     ]
    }
   ],
   "source": [
    "x = np.array([1, 2, 3])\n",
    "y = np.array([4, 5, 6])\n",
    "\n",
    "print(x + y)\n",
    "print(x * y)\n",
    "print(np.sqrt(x))\n"
   ]
  },
  {
   "cell_type": "markdown",
   "id": "f3501489",
   "metadata": {},
   "source": [
    "Chemical Engineering Example — Pressure Drop\n",
    "\n",
    "$$\n",
    "\\Delta P = f \\cdot \\frac{L}{D} \\cdot \\frac{\\rho v^2}{2}\n",
    "$$\n",
    "\n"
   ]
  },
  {
   "cell_type": "code",
   "execution_count": 9,
   "id": "d3a463bf",
   "metadata": {},
   "outputs": [
    {
     "name": "stdout",
     "output_type": "stream",
     "text": [
      "[ 4500. 10000. 18750.]\n"
     ]
    }
   ],
   "source": [
    "f = np.array([0.02, 0.025, 0.03])   # friction factors\n",
    "L = 100                             # pipe length (m)\n",
    "D = 0.5                             # diameter (m)\n",
    "rho = 1000                          # density (kg/m³)\n",
    "v = np.array([1.5, 2.0, 2.5])       # velocity (m/s)\n",
    "\n",
    "delta_P = f * (L/D) * (rho * v**2 / 2)\n",
    "print(delta_P)\n"
   ]
  },
  {
   "cell_type": "markdown",
   "id": "0daa4b15",
   "metadata": {},
   "source": [
    "7. Useful Functions"
   ]
  },
  {
   "cell_type": "code",
   "execution_count": 10,
   "id": "0023ed9e",
   "metadata": {},
   "outputs": [
    {
     "name": "stdout",
     "output_type": "stream",
     "text": [
      "25.0\n",
      "40\n",
      "10\n",
      "100\n"
     ]
    }
   ],
   "source": [
    "a = np.array([10, 20, 30, 40])\n",
    "print(np.mean(a))\n",
    "print(np.max(a))\n",
    "print(np.min(a))\n",
    "print(np.sum(a))\n"
   ]
  },
  {
   "cell_type": "markdown",
   "id": "8dc7e0b8",
   "metadata": {},
   "source": [
    "9. Vectorization vs Loops (Performance Demo)"
   ]
  },
  {
   "cell_type": "code",
   "execution_count": 11,
   "id": "06bf390a",
   "metadata": {},
   "outputs": [
    {
     "name": "stdout",
     "output_type": "stream",
     "text": [
      "Loop time: 0.08522343635559082\n",
      "NumPy time: 0.006073951721191406\n"
     ]
    }
   ],
   "source": [
    "import time\n",
    "\n",
    "# Using loop\n",
    "start = time.time()\n",
    "result_loop = [i**2 for i in range(1000000)]\n",
    "end = time.time()\n",
    "print(\"Loop time:\", end - start)\n",
    "\n",
    "# Using NumPy\n",
    "start = time.time()\n",
    "arr = np.arange(1000000)\n",
    "result_numpy = arr**2\n",
    "end = time.time()\n",
    "print(\"NumPy time:\", end - start)\n"
   ]
  },
  {
   "cell_type": "markdown",
   "id": "23b9f89d",
   "metadata": {},
   "source": [
    "10. Mini Chemical Engineering Exercise\n",
    "\n",
    "Heat Duty Calculation\n",
    "\n",
    "$$\n",
    "Q = \\dot{m} \\cdot C_p \\cdot \\Delta T\n",
    "$$"
   ]
  },
  {
   "cell_type": "code",
   "execution_count": 12,
   "id": "90a30b0a",
   "metadata": {},
   "outputs": [
    {
     "name": "stdout",
     "output_type": "stream",
     "text": [
      "[156.75 250.8  365.75]\n"
     ]
    }
   ],
   "source": [
    "m_dot = np.array([2.5, 3.0, 3.5])    # mass flow rate (kg/s)\n",
    "Cp = 4.18                            # kJ/kg.K\n",
    "delta_T = np.array([15, 20, 25])     # temperature rise (K)\n",
    "\n",
    "Q = m_dot * Cp * delta_T  # kW\n",
    "print(Q)\n"
   ]
  }
 ],
 "metadata": {
  "kernelspec": {
   "display_name": "Python 3",
   "language": "python",
   "name": "python3"
  },
  "language_info": {
   "codemirror_mode": {
    "name": "ipython",
    "version": 3
   },
   "file_extension": ".py",
   "mimetype": "text/x-python",
   "name": "python",
   "nbconvert_exporter": "python",
   "pygments_lexer": "ipython3",
   "version": "3.12.4"
  }
 },
 "nbformat": 4,
 "nbformat_minor": 5
}
