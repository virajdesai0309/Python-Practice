{
 "cells": [
  {
   "cell_type": "markdown",
   "id": "4e6ff0a9",
   "metadata": {},
   "source": [
    "# Units and Conversions in Python ⚖️\n",
    "\n",
    "1. Introduction\n",
    "\n",
    "- Engineers constantly convert between SI and English units.\n",
    "\n",
    "- Example: Flowrates (m³/h → gpm), Pressure (Pa → bar), Energy (J → kcal).\n",
    "\n",
    "- Python has libraries like pint to handle units easily.\n",
    "\n",
    "---\n",
    "\n",
    "2. Using pint for Unit Conversions"
   ]
  },
  {
   "cell_type": "code",
   "execution_count": 1,
   "id": "621a056b",
   "metadata": {},
   "outputs": [
    {
     "name": "stdout",
     "output_type": "stream",
     "text": [
      "Requirement already satisfied: pint in c:\\users\\desai\\appdata\\local\\programs\\python\\python312\\lib\\site-packages (0.23)\n",
      "Requirement already satisfied: typing-extensions in c:\\users\\desai\\appdata\\local\\programs\\python\\python312\\lib\\site-packages (from pint) (4.12.2)\n"
     ]
    },
    {
     "name": "stderr",
     "output_type": "stream",
     "text": [
      "\n",
      "[notice] A new release of pip is available: 24.3.1 -> 25.2\n",
      "[notice] To update, run: python.exe -m pip install --upgrade pip\n"
     ]
    }
   ],
   "source": [
    "!pip install pint"
   ]
  },
  {
   "cell_type": "code",
   "execution_count": 2,
   "id": "ad511c63",
   "metadata": {},
   "outputs": [
    {
     "name": "stdout",
     "output_type": "stream",
     "text": [
      "Flowrate: 10.0 meter ** 3 / hour = 44.028675393024756 gallon / minute\n"
     ]
    }
   ],
   "source": [
    "import pint\n",
    "\n",
    "# Create a unit registry\n",
    "ureg = pint.UnitRegistry()\n",
    "\n",
    "# Example: flowrate\n",
    "flow_si = 10 * ureg('meter**3/hour')   # 10 m³/h\n",
    "flow_eng = flow_si.to('gallon/minute')\n",
    "\n",
    "print(\"Flowrate:\", flow_si, \"=\", flow_eng)\n"
   ]
  },
  {
   "cell_type": "markdown",
   "id": "86697f11",
   "metadata": {},
   "source": [
    "3. Pressure Conversion"
   ]
  },
  {
   "cell_type": "code",
   "execution_count": 3,
   "id": "52e1f5a1",
   "metadata": {},
   "outputs": [
    {
     "name": "stdout",
     "output_type": "stream",
     "text": [
      "Pressure in Pa: 200000.0 pascal\n",
      "Pressure in psi: 29.007547546041845 pound_force_per_square_inch\n"
     ]
    }
   ],
   "source": [
    "P = 2 * ureg.bar   # 2 bar\n",
    "P_pa = P.to('pascal')\n",
    "P_psi = P.to('psi')\n",
    "\n",
    "print(\"Pressure in Pa:\", P_pa)\n",
    "print(\"Pressure in psi:\", P_psi)\n"
   ]
  },
  {
   "cell_type": "markdown",
   "id": "f8260560",
   "metadata": {},
   "source": [
    "4. Temperature Conversion"
   ]
  },
  {
   "cell_type": "code",
   "execution_count": 4,
   "id": "9bb1d3ca",
   "metadata": {},
   "outputs": [
    {
     "name": "stdout",
     "output_type": "stream",
     "text": [
      "Kelvin to °C: 76.85000000000002 degree_Celsius\n",
      "Kelvin to °F: 170.32999999999998 degree_Fahrenheit\n"
     ]
    }
   ],
   "source": [
    "T = 350 * ureg.kelvin\n",
    "print(\"Kelvin to °C:\", T.to('degC'))\n",
    "print(\"Kelvin to °F:\", T.to('degF'))\n"
   ]
  },
  {
   "cell_type": "markdown",
   "id": "053a4729",
   "metadata": {},
   "source": [
    "5. Energy & Power"
   ]
  },
  {
   "cell_type": "code",
   "execution_count": 5,
   "id": "17471785",
   "metadata": {},
   "outputs": [
    {
     "name": "stdout",
     "output_type": "stream",
     "text": [
      "Energy in kcal: 1.1950286806883366 kilocalorie\n",
      "Power in hp: 67.05110447975142 horsepower\n"
     ]
    }
   ],
   "source": [
    "Q = 5000 * ureg.joule\n",
    "print(\"Energy in kcal:\", Q.to('kilocalorie'))\n",
    "\n",
    "Power = 50 * ureg.kilowatt\n",
    "print(\"Power in hp:\", Power.to('horsepower'))\n"
   ]
  },
  {
   "cell_type": "markdown",
   "id": "a89faf30",
   "metadata": {},
   "source": [
    "6. Custom Conversion Functions\n",
    "\n",
    "If we don’t want external libraries, we can define functions:"
   ]
  },
  {
   "cell_type": "code",
   "execution_count": 6,
   "id": "78936d27",
   "metadata": {},
   "outputs": [
    {
     "name": "stdout",
     "output_type": "stream",
     "text": [
      "Flowrate: 44.028999999999996 gpm\n",
      "Pressure: 29.0076 psi\n"
     ]
    }
   ],
   "source": [
    "def m3h_to_gpm(flow_m3h):\n",
    "    return flow_m3h * 4.4029   # 1 m³/h = 4.4029 gpm\n",
    "\n",
    "def bar_to_psi(P_bar):\n",
    "    return P_bar * 14.5038\n",
    "\n",
    "print(\"Flowrate:\", m3h_to_gpm(10), \"gpm\")\n",
    "print(\"Pressure:\", bar_to_psi(2), \"psi\")\n"
   ]
  },
  {
   "cell_type": "markdown",
   "id": "1f8c7d29",
   "metadata": {},
   "source": [
    "7. Practical Chemical Engineering Example\n",
    "\n",
    "Let’s say we pump 20 m³/h of water at 3 bar to a heat exchanger.\n",
    "\n",
    "We want the flowrate in gpm and pressure in psi."
   ]
  },
  {
   "cell_type": "code",
   "execution_count": 7,
   "id": "badb11f2",
   "metadata": {},
   "outputs": [
    {
     "name": "stdout",
     "output_type": "stream",
     "text": [
      "Flowrate: 88.05735078604951 gallon / minute\n",
      "Pressure: 43.511321319062766 pound_force_per_square_inch\n"
     ]
    }
   ],
   "source": [
    "flow = 20 * ureg('meter**3/hour')\n",
    "P = 3 * ureg.bar\n",
    "\n",
    "print(\"Flowrate:\", flow.to('gallon/minute'))\n",
    "print(\"Pressure:\", P.to('psi'))\n"
   ]
  }
 ],
 "metadata": {
  "kernelspec": {
   "display_name": "Python 3",
   "language": "python",
   "name": "python3"
  },
  "language_info": {
   "codemirror_mode": {
    "name": "ipython",
    "version": 3
   },
   "file_extension": ".py",
   "mimetype": "text/x-python",
   "name": "python",
   "nbconvert_exporter": "python",
   "pygments_lexer": "ipython3",
   "version": "3.12.4"
  }
 },
 "nbformat": 4,
 "nbformat_minor": 5
}
