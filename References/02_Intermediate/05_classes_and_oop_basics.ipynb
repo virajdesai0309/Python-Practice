{
 "cells": [
  {
   "cell_type": "markdown",
   "id": "cd5de3f6",
   "metadata": {},
   "source": [
    "# Classes and OOP Basics in Python 🏗️\n",
    "\n",
    "1. Introduction\n",
    "\n",
    "- OOP (Object-Oriented Programming) = A way to structure code using classes and objects.\n",
    "\n",
    "- Useful in engineering when we want to model equipment (pumps, heat exchangers, reactors, etc.).\n",
    "\n",
    "---\n",
    "\n",
    "2. Creating a Simple Class"
   ]
  },
  {
   "cell_type": "code",
   "execution_count": 1,
   "id": "a8f6f156",
   "metadata": {},
   "outputs": [],
   "source": [
    "class Pump:\n",
    "    def __init__(self, flowrate, head, efficiency):\n",
    "        self.flowrate = flowrate      # m³/s\n",
    "        self.head = head              # m\n",
    "        self.efficiency = efficiency  # %\n",
    "    \n",
    "    def calculate_power(self):\n",
    "        rho = 1000   # kg/m³\n",
    "        g = 9.81     # m/s²\n",
    "        power = (rho * g * self.flowrate * self.head) / (self.efficiency/100)\n",
    "        return power"
   ]
  },
  {
   "cell_type": "markdown",
   "id": "a3a45515",
   "metadata": {},
   "source": [
    "3. Using the Class"
   ]
  },
  {
   "cell_type": "code",
   "execution_count": 2,
   "id": "77135a90",
   "metadata": {},
   "outputs": [
    {
     "name": "stdout",
     "output_type": "stream",
     "text": [
      "Pump 1 Power (W): 19620.0\n",
      "Pump 2 Power (W): 28028.57142857143\n"
     ]
    }
   ],
   "source": [
    "# Create pump objects\n",
    "pump1 = Pump(flowrate=0.05, head=30, efficiency=75)\n",
    "pump2 = Pump(flowrate=0.08, head=25, efficiency=70)\n",
    "\n",
    "print(\"Pump 1 Power (W):\", pump1.calculate_power())\n",
    "print(\"Pump 2 Power (W):\", pump2.calculate_power())\n"
   ]
  },
  {
   "cell_type": "markdown",
   "id": "f9f6ef87",
   "metadata": {},
   "source": [
    "4. Adding Methods"
   ]
  },
  {
   "cell_type": "code",
   "execution_count": 3,
   "id": "ab0a9696",
   "metadata": {},
   "outputs": [],
   "source": [
    "class HeatExchanger:\n",
    "    def __init__(self, area, U):\n",
    "        self.area = area   # m²\n",
    "        self.U = U         # W/m²·K\n",
    "    \n",
    "    def calculate_duty(self, dT):\n",
    "        \"\"\"Calculate heat duty Q = U * A * ΔT\"\"\"\n",
    "        Q = self.U * self.area * dT\n",
    "        return Q\n"
   ]
  },
  {
   "cell_type": "code",
   "execution_count": 4,
   "id": "9499d5d6",
   "metadata": {},
   "outputs": [
    {
     "name": "stdout",
     "output_type": "stream",
     "text": [
      "Heat Duty (W): 625000\n"
     ]
    }
   ],
   "source": [
    "hx1 = HeatExchanger(area=50, U=500)\n",
    "print(\"Heat Duty (W):\", hx1.calculate_duty(25))\n"
   ]
  },
  {
   "cell_type": "markdown",
   "id": "481d6557",
   "metadata": {},
   "source": [
    "5. Inheritance\n",
    "\n",
    "One class can inherit from another (e.g., a CentrifugalPump is a type of Pump)."
   ]
  },
  {
   "cell_type": "code",
   "execution_count": 5,
   "id": "c10228cb",
   "metadata": {},
   "outputs": [],
   "source": [
    "class CentrifugalPump(Pump):\n",
    "    def __init__(self, flowrate, head, efficiency, speed):\n",
    "        super().__init__(flowrate, head, efficiency)\n",
    "        self.speed = speed  # rpm\n",
    "    \n",
    "    def pump_info(self):\n",
    "        return f\"Centrifugal Pump at {self.speed} rpm, Power = {self.calculate_power():.2f} W\"\n"
   ]
  },
  {
   "cell_type": "code",
   "execution_count": 6,
   "id": "0a8a21ee",
   "metadata": {},
   "outputs": [
    {
     "name": "stdout",
     "output_type": "stream",
     "text": [
      "Centrifugal Pump at 2900 rpm, Power = 28612.50 W\n"
     ]
    }
   ],
   "source": [
    "cpump = CentrifugalPump(0.06, 35, 72, 2900)\n",
    "print(cpump.pump_info())\n"
   ]
  },
  {
   "cell_type": "markdown",
   "id": "84313c72",
   "metadata": {},
   "source": [
    "6. Encapsulation (Protecting Data)"
   ]
  },
  {
   "cell_type": "code",
   "execution_count": 7,
   "id": "a159f527",
   "metadata": {},
   "outputs": [],
   "source": [
    "class Reactor:\n",
    "    def __init__(self, temperature):\n",
    "        self.__temperature = temperature  # private attribute\n",
    "    \n",
    "    def get_temperature(self):\n",
    "        return self.__temperature\n",
    "    \n",
    "    def set_temperature(self, temp):\n",
    "        if temp > 500:\n",
    "            print(\"Warning: Temperature too high!\")\n",
    "        else:\n",
    "            self.__temperature = temp\n"
   ]
  },
  {
   "cell_type": "code",
   "execution_count": 8,
   "id": "fda6b8bb",
   "metadata": {},
   "outputs": [
    {
     "name": "stdout",
     "output_type": "stream",
     "text": [
      "Reactor Temp: 300\n",
      "Warning: Temperature too high!\n"
     ]
    }
   ],
   "source": [
    "r1 = Reactor(300)\n",
    "print(\"Reactor Temp:\", r1.get_temperature())\n",
    "r1.set_temperature(550)  # will trigger warning\n"
   ]
  },
  {
   "cell_type": "code",
   "execution_count": null,
   "id": "3e17a2bc",
   "metadata": {},
   "outputs": [],
   "source": []
  }
 ],
 "metadata": {
  "kernelspec": {
   "display_name": "Python 3",
   "language": "python",
   "name": "python3"
  },
  "language_info": {
   "codemirror_mode": {
    "name": "ipython",
    "version": 3
   },
   "file_extension": ".py",
   "mimetype": "text/x-python",
   "name": "python",
   "nbconvert_exporter": "python",
   "pygments_lexer": "ipython3",
   "version": "3.12.4"
  }
 },
 "nbformat": 4,
 "nbformat_minor": 5
}
