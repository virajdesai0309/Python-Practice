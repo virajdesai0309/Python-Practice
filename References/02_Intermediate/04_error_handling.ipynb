{
 "cells": [
  {
   "cell_type": "markdown",
   "id": "8523311e",
   "metadata": {},
   "source": [
    "# Error Handling in Python ⚠️\n",
    "\n",
    "1. Introduction\n",
    "\n",
    "In real engineering calculations, errors are common:\n",
    "\n",
    "- Dividing by zero in formulas\n",
    "\n",
    "- Wrong data type (e.g., string instead of number)\n",
    "\n",
    "- Missing files when reading data\n",
    "\n",
    "Python provides try / except blocks to handle errors gracefully.\n",
    "\n",
    "---\n",
    "\n",
    "2. Basic Example – Division by Zero"
   ]
  },
  {
   "cell_type": "code",
   "execution_count": 1,
   "id": "89dd6b1e",
   "metadata": {},
   "outputs": [
    {
     "name": "stdout",
     "output_type": "stream",
     "text": [
      "Error: Division by zero! Check the area value.\n"
     ]
    }
   ],
   "source": [
    "try:\n",
    "    flowrate = 10  # kg/s\n",
    "    area = 0       # m²\n",
    "    velocity = flowrate / area\n",
    "    print(f\"Velocity = {velocity} m/s\")\n",
    "except ZeroDivisionError:\n",
    "    print(\"Error: Division by zero! Check the area value.\")\n"
   ]
  },
  {
   "cell_type": "markdown",
   "id": "d31a328e",
   "metadata": {},
   "source": [
    "3. Multiple Error Handling"
   ]
  },
  {
   "cell_type": "code",
   "execution_count": 2,
   "id": "b547e6ac",
   "metadata": {},
   "outputs": [
    {
     "name": "stdout",
     "output_type": "stream",
     "text": [
      "Error: Temperature must be a number.\n"
     ]
    }
   ],
   "source": [
    "try:\n",
    "    temp = int(\"three hundred\")  # wrong conversion\n",
    "except ValueError:\n",
    "    print(\"Error: Temperature must be a number.\")\n",
    "except TypeError:\n",
    "    print(\"Error: Wrong type used.\")\n"
   ]
  },
  {
   "cell_type": "markdown",
   "id": "67a7337d",
   "metadata": {},
   "source": [
    "4. Using finally\n",
    "\n",
    "The finally block always runs – useful for cleanup."
   ]
  },
  {
   "cell_type": "code",
   "execution_count": 3,
   "id": "fbcd814c",
   "metadata": {},
   "outputs": [
    {
     "name": "stdout",
     "output_type": "stream",
     "text": [
      "Error: File not found.\n",
      "File handling attempt complete.\n"
     ]
    }
   ],
   "source": [
    "try:\n",
    "    f = open(\"non_existing_file.csv\", \"r\")\n",
    "except FileNotFoundError:\n",
    "    print(\"Error: File not found.\")\n",
    "finally:\n",
    "    print(\"File handling attempt complete.\")\n"
   ]
  },
  {
   "cell_type": "markdown",
   "id": "2f6e70b2",
   "metadata": {},
   "source": [
    "5. Engineering Example – Pump Power Calculation"
   ]
  },
  {
   "cell_type": "code",
   "execution_count": 4,
   "id": "e2a5be05",
   "metadata": {},
   "outputs": [
    {
     "name": "stdout",
     "output_type": "stream",
     "text": [
      "14014.285714285716\n",
      "Error: Efficiency cannot be zero.\n",
      "Error: Input values must be numbers.\n"
     ]
    }
   ],
   "source": [
    "def pump_power(flow, head, efficiency):\n",
    "    try:\n",
    "        rho = 1000  # kg/m³, water\n",
    "        g = 9.81    # m/s²\n",
    "        power = (rho * g * flow * head) / (efficiency/100)\n",
    "        return power\n",
    "    except ZeroDivisionError:\n",
    "        return \"Error: Efficiency cannot be zero.\"\n",
    "    except TypeError:\n",
    "        return \"Error: Input values must be numbers.\"\n",
    "\n",
    "# Correct input\n",
    "print(pump_power(0.05, 20, 70))  # flow in m³/s, head in m\n",
    "\n",
    "# Wrong input\n",
    "print(pump_power(0.05, 20, 0))   # efficiency = 0\n",
    "print(pump_power(\"flow\", 20, 70))  # wrong type\n"
   ]
  },
  {
   "cell_type": "markdown",
   "id": "dfbc0656",
   "metadata": {},
   "source": [
    "6. Custom Error Messages\n",
    "\n",
    "We can raise our own errors to guide engineers."
   ]
  },
  {
   "cell_type": "code",
   "execution_count": 5,
   "id": "3eedb5a3",
   "metadata": {},
   "outputs": [
    {
     "name": "stdout",
     "output_type": "stream",
     "text": [
      "Reactor temperature is safe.\n"
     ]
    },
    {
     "ename": "ValueError",
     "evalue": "Reactor Overheating! Temperature too high.",
     "output_type": "error",
     "traceback": [
      "\u001b[1;31m---------------------------------------------------------------------------\u001b[0m",
      "\u001b[1;31mValueError\u001b[0m                                Traceback (most recent call last)",
      "Cell \u001b[1;32mIn[5], line 9\u001b[0m\n\u001b[0;32m      7\u001b[0m \u001b[38;5;66;03m# Try with values\u001b[39;00m\n\u001b[0;32m      8\u001b[0m reactor_temp_check(\u001b[38;5;241m450\u001b[39m)\n\u001b[1;32m----> 9\u001b[0m \u001b[43mreactor_temp_check\u001b[49m\u001b[43m(\u001b[49m\u001b[38;5;241;43m550\u001b[39;49m\u001b[43m)\u001b[49m  \u001b[38;5;66;03m# will raise an error\u001b[39;00m\n",
      "Cell \u001b[1;32mIn[5], line 3\u001b[0m, in \u001b[0;36mreactor_temp_check\u001b[1;34m(temp)\u001b[0m\n\u001b[0;32m      1\u001b[0m \u001b[38;5;28;01mdef\u001b[39;00m \u001b[38;5;21mreactor_temp_check\u001b[39m(temp):\n\u001b[0;32m      2\u001b[0m     \u001b[38;5;28;01mif\u001b[39;00m temp \u001b[38;5;241m>\u001b[39m \u001b[38;5;241m500\u001b[39m:\n\u001b[1;32m----> 3\u001b[0m         \u001b[38;5;28;01mraise\u001b[39;00m \u001b[38;5;167;01mValueError\u001b[39;00m(\u001b[38;5;124m\"\u001b[39m\u001b[38;5;124mReactor Overheating! Temperature too high.\u001b[39m\u001b[38;5;124m\"\u001b[39m)\n\u001b[0;32m      4\u001b[0m     \u001b[38;5;28;01melse\u001b[39;00m:\n\u001b[0;32m      5\u001b[0m         \u001b[38;5;28mprint\u001b[39m(\u001b[38;5;124m\"\u001b[39m\u001b[38;5;124mReactor temperature is safe.\u001b[39m\u001b[38;5;124m\"\u001b[39m)\n",
      "\u001b[1;31mValueError\u001b[0m: Reactor Overheating! Temperature too high."
     ]
    }
   ],
   "source": [
    "def reactor_temp_check(temp):\n",
    "    if temp > 500:\n",
    "        raise ValueError(\"Reactor Overheating! Temperature too high.\")\n",
    "    else:\n",
    "        print(\"Reactor temperature is safe.\")\n",
    "\n",
    "# Try with values\n",
    "reactor_temp_check(450)\n",
    "reactor_temp_check(550)  # will raise an error\n"
   ]
  },
  {
   "cell_type": "code",
   "execution_count": null,
   "id": "d1ba8fba",
   "metadata": {},
   "outputs": [],
   "source": []
  }
 ],
 "metadata": {
  "kernelspec": {
   "display_name": "Python 3",
   "language": "python",
   "name": "python3"
  },
  "language_info": {
   "codemirror_mode": {
    "name": "ipython",
    "version": 3
   },
   "file_extension": ".py",
   "mimetype": "text/x-python",
   "name": "python",
   "nbconvert_exporter": "python",
   "pygments_lexer": "ipython3",
   "version": "3.12.4"
  }
 },
 "nbformat": 4,
 "nbformat_minor": 5
}
