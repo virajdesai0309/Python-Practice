{
 "cells": [
  {
   "cell_type": "markdown",
   "id": "2d099024",
   "metadata": {},
   "source": [
    "# 02 — Pandas for Data Analysis (Python for Chemical Engineers)\n",
    "\n",
    "1. Introduction\n",
    "\n",
    "Pandas is a data analysis and manipulation library.\n",
    "It’s like Excel in Python — but faster, more flexible, and more powerful."
   ]
  },
  {
   "cell_type": "code",
   "execution_count": 1,
   "id": "038a46d0",
   "metadata": {},
   "outputs": [],
   "source": [
    "import pandas as pd\n",
    "import numpy as np"
   ]
  },
  {
   "cell_type": "markdown",
   "id": "c8231066",
   "metadata": {},
   "source": [
    "2. Creating a DataFrame"
   ]
  },
  {
   "cell_type": "code",
   "execution_count": 2,
   "id": "2670b683",
   "metadata": {},
   "outputs": [
    {
     "data": {
      "text/html": [
       "<div>\n",
       "<style scoped>\n",
       "    .dataframe tbody tr th:only-of-type {\n",
       "        vertical-align: middle;\n",
       "    }\n",
       "\n",
       "    .dataframe tbody tr th {\n",
       "        vertical-align: top;\n",
       "    }\n",
       "\n",
       "    .dataframe thead th {\n",
       "        text-align: right;\n",
       "    }\n",
       "</style>\n",
       "<table border=\"1\" class=\"dataframe\">\n",
       "  <thead>\n",
       "    <tr style=\"text-align: right;\">\n",
       "      <th></th>\n",
       "      <th>Date</th>\n",
       "      <th>Production (m³)</th>\n",
       "      <th>Energy Used (kWh)</th>\n",
       "    </tr>\n",
       "  </thead>\n",
       "  <tbody>\n",
       "    <tr>\n",
       "      <th>0</th>\n",
       "      <td>2025-01-01</td>\n",
       "      <td>120</td>\n",
       "      <td>500</td>\n",
       "    </tr>\n",
       "    <tr>\n",
       "      <th>1</th>\n",
       "      <td>2025-01-02</td>\n",
       "      <td>135</td>\n",
       "      <td>520</td>\n",
       "    </tr>\n",
       "    <tr>\n",
       "      <th>2</th>\n",
       "      <td>2025-01-03</td>\n",
       "      <td>128</td>\n",
       "      <td>510</td>\n",
       "    </tr>\n",
       "    <tr>\n",
       "      <th>3</th>\n",
       "      <td>2025-01-04</td>\n",
       "      <td>140</td>\n",
       "      <td>530</td>\n",
       "    </tr>\n",
       "    <tr>\n",
       "      <th>4</th>\n",
       "      <td>2025-01-05</td>\n",
       "      <td>150</td>\n",
       "      <td>550</td>\n",
       "    </tr>\n",
       "  </tbody>\n",
       "</table>\n",
       "</div>"
      ],
      "text/plain": [
       "        Date  Production (m³)  Energy Used (kWh)\n",
       "0 2025-01-01              120                500\n",
       "1 2025-01-02              135                520\n",
       "2 2025-01-03              128                510\n",
       "3 2025-01-04              140                530\n",
       "4 2025-01-05              150                550"
      ]
     },
     "execution_count": 2,
     "metadata": {},
     "output_type": "execute_result"
    }
   ],
   "source": [
    "# Example: Process plant daily production data\n",
    "data = {\n",
    "    'Date': pd.date_range(start='2025-01-01', periods=5, freq='D'),\n",
    "    'Production (m³)': [120, 135, 128, 140, 150],\n",
    "    'Energy Used (kWh)': [500, 520, 510, 530, 550]\n",
    "}\n",
    "\n",
    "df = pd.DataFrame(data)\n",
    "df"
   ]
  },
  {
   "cell_type": "markdown",
   "id": "1a793c66",
   "metadata": {},
   "source": [
    "3. Reading Data from a CSV"
   ]
  },
  {
   "cell_type": "code",
   "execution_count": 3,
   "id": "bea049fc",
   "metadata": {},
   "outputs": [
    {
     "data": {
      "text/html": [
       "<div>\n",
       "<style scoped>\n",
       "    .dataframe tbody tr th:only-of-type {\n",
       "        vertical-align: middle;\n",
       "    }\n",
       "\n",
       "    .dataframe tbody tr th {\n",
       "        vertical-align: top;\n",
       "    }\n",
       "\n",
       "    .dataframe thead th {\n",
       "        text-align: right;\n",
       "    }\n",
       "</style>\n",
       "<table border=\"1\" class=\"dataframe\">\n",
       "  <thead>\n",
       "    <tr style=\"text-align: right;\">\n",
       "      <th></th>\n",
       "      <th>Date</th>\n",
       "      <th>Production (m³)</th>\n",
       "      <th>Energy Used (kWh)</th>\n",
       "    </tr>\n",
       "  </thead>\n",
       "  <tbody>\n",
       "    <tr>\n",
       "      <th>0</th>\n",
       "      <td>2025-01-01</td>\n",
       "      <td>120</td>\n",
       "      <td>500</td>\n",
       "    </tr>\n",
       "    <tr>\n",
       "      <th>1</th>\n",
       "      <td>2025-01-02</td>\n",
       "      <td>135</td>\n",
       "      <td>520</td>\n",
       "    </tr>\n",
       "    <tr>\n",
       "      <th>2</th>\n",
       "      <td>2025-01-03</td>\n",
       "      <td>128</td>\n",
       "      <td>510</td>\n",
       "    </tr>\n",
       "    <tr>\n",
       "      <th>3</th>\n",
       "      <td>2025-01-04</td>\n",
       "      <td>140</td>\n",
       "      <td>530</td>\n",
       "    </tr>\n",
       "    <tr>\n",
       "      <th>4</th>\n",
       "      <td>2025-01-05</td>\n",
       "      <td>150</td>\n",
       "      <td>550</td>\n",
       "    </tr>\n",
       "  </tbody>\n",
       "</table>\n",
       "</div>"
      ],
      "text/plain": [
       "         Date  Production (m³)  Energy Used (kWh)\n",
       "0  2025-01-01              120                500\n",
       "1  2025-01-02              135                520\n",
       "2  2025-01-03              128                510\n",
       "3  2025-01-04              140                530\n",
       "4  2025-01-05              150                550"
      ]
     },
     "execution_count": 3,
     "metadata": {},
     "output_type": "execute_result"
    }
   ],
   "source": [
    "# Save to CSV\n",
    "df.to_csv(\"plant_data.csv\", index=False)\n",
    "\n",
    "# Read from CSV\n",
    "df_read = pd.read_csv(\"plant_data.csv\")\n",
    "df_read\n"
   ]
  },
  {
   "cell_type": "markdown",
   "id": "a84dc800",
   "metadata": {},
   "source": [
    "4. Selecting Data"
   ]
  },
  {
   "cell_type": "code",
   "execution_count": 4,
   "id": "eaee39a8",
   "metadata": {},
   "outputs": [
    {
     "data": {
      "text/html": [
       "<div>\n",
       "<style scoped>\n",
       "    .dataframe tbody tr th:only-of-type {\n",
       "        vertical-align: middle;\n",
       "    }\n",
       "\n",
       "    .dataframe tbody tr th {\n",
       "        vertical-align: top;\n",
       "    }\n",
       "\n",
       "    .dataframe thead th {\n",
       "        text-align: right;\n",
       "    }\n",
       "</style>\n",
       "<table border=\"1\" class=\"dataframe\">\n",
       "  <thead>\n",
       "    <tr style=\"text-align: right;\">\n",
       "      <th></th>\n",
       "      <th>Date</th>\n",
       "      <th>Production (m³)</th>\n",
       "      <th>Energy Used (kWh)</th>\n",
       "    </tr>\n",
       "  </thead>\n",
       "  <tbody>\n",
       "    <tr>\n",
       "      <th>1</th>\n",
       "      <td>2025-01-02</td>\n",
       "      <td>135</td>\n",
       "      <td>520</td>\n",
       "    </tr>\n",
       "    <tr>\n",
       "      <th>3</th>\n",
       "      <td>2025-01-04</td>\n",
       "      <td>140</td>\n",
       "      <td>530</td>\n",
       "    </tr>\n",
       "    <tr>\n",
       "      <th>4</th>\n",
       "      <td>2025-01-05</td>\n",
       "      <td>150</td>\n",
       "      <td>550</td>\n",
       "    </tr>\n",
       "  </tbody>\n",
       "</table>\n",
       "</div>"
      ],
      "text/plain": [
       "        Date  Production (m³)  Energy Used (kWh)\n",
       "1 2025-01-02              135                520\n",
       "3 2025-01-04              140                530\n",
       "4 2025-01-05              150                550"
      ]
     },
     "execution_count": 4,
     "metadata": {},
     "output_type": "execute_result"
    }
   ],
   "source": [
    "# Select a column\n",
    "df['Production (m³)']\n",
    "\n",
    "# Select multiple columns\n",
    "df[['Date', 'Production (m³)']]\n",
    "\n",
    "# Select rows by index\n",
    "df.iloc[0]      # First row\n",
    "df.iloc[0:3]    # First three rows\n",
    "\n",
    "# Select rows by condition\n",
    "df[df['Production (m³)'] > 130]\n"
   ]
  },
  {
   "cell_type": "markdown",
   "id": "2b6c0121",
   "metadata": {},
   "source": [
    "5. Basic Statistics"
   ]
  },
  {
   "cell_type": "code",
   "execution_count": 5,
   "id": "50208665",
   "metadata": {},
   "outputs": [
    {
     "data": {
      "text/plain": [
       "550"
      ]
     },
     "execution_count": 5,
     "metadata": {},
     "output_type": "execute_result"
    }
   ],
   "source": [
    "# Summary statistics\n",
    "df.describe()\n",
    "\n",
    "# Mean production\n",
    "df['Production (m³)'].mean()\n",
    "\n",
    "# Max energy used\n",
    "df['Energy Used (kWh)'].max()\n"
   ]
  },
  {
   "cell_type": "markdown",
   "id": "1ef2d69b",
   "metadata": {},
   "source": [
    "6. Adding New Columns"
   ]
  },
  {
   "cell_type": "code",
   "execution_count": 6,
   "id": "c9df639b",
   "metadata": {},
   "outputs": [
    {
     "data": {
      "text/html": [
       "<div>\n",
       "<style scoped>\n",
       "    .dataframe tbody tr th:only-of-type {\n",
       "        vertical-align: middle;\n",
       "    }\n",
       "\n",
       "    .dataframe tbody tr th {\n",
       "        vertical-align: top;\n",
       "    }\n",
       "\n",
       "    .dataframe thead th {\n",
       "        text-align: right;\n",
       "    }\n",
       "</style>\n",
       "<table border=\"1\" class=\"dataframe\">\n",
       "  <thead>\n",
       "    <tr style=\"text-align: right;\">\n",
       "      <th></th>\n",
       "      <th>Date</th>\n",
       "      <th>Production (m³)</th>\n",
       "      <th>Energy Used (kWh)</th>\n",
       "      <th>Efficiency (m³/kWh)</th>\n",
       "    </tr>\n",
       "  </thead>\n",
       "  <tbody>\n",
       "    <tr>\n",
       "      <th>0</th>\n",
       "      <td>2025-01-01</td>\n",
       "      <td>120</td>\n",
       "      <td>500</td>\n",
       "      <td>0.240000</td>\n",
       "    </tr>\n",
       "    <tr>\n",
       "      <th>1</th>\n",
       "      <td>2025-01-02</td>\n",
       "      <td>135</td>\n",
       "      <td>520</td>\n",
       "      <td>0.259615</td>\n",
       "    </tr>\n",
       "    <tr>\n",
       "      <th>2</th>\n",
       "      <td>2025-01-03</td>\n",
       "      <td>128</td>\n",
       "      <td>510</td>\n",
       "      <td>0.250980</td>\n",
       "    </tr>\n",
       "    <tr>\n",
       "      <th>3</th>\n",
       "      <td>2025-01-04</td>\n",
       "      <td>140</td>\n",
       "      <td>530</td>\n",
       "      <td>0.264151</td>\n",
       "    </tr>\n",
       "    <tr>\n",
       "      <th>4</th>\n",
       "      <td>2025-01-05</td>\n",
       "      <td>150</td>\n",
       "      <td>550</td>\n",
       "      <td>0.272727</td>\n",
       "    </tr>\n",
       "  </tbody>\n",
       "</table>\n",
       "</div>"
      ],
      "text/plain": [
       "        Date  Production (m³)  Energy Used (kWh)  Efficiency (m³/kWh)\n",
       "0 2025-01-01              120                500             0.240000\n",
       "1 2025-01-02              135                520             0.259615\n",
       "2 2025-01-03              128                510             0.250980\n",
       "3 2025-01-04              140                530             0.264151\n",
       "4 2025-01-05              150                550             0.272727"
      ]
     },
     "execution_count": 6,
     "metadata": {},
     "output_type": "execute_result"
    }
   ],
   "source": [
    "# Calculate production efficiency (m³/kWh)\n",
    "df['Efficiency (m³/kWh)'] = df['Production (m³)'] / df['Energy Used (kWh)']\n",
    "df\n"
   ]
  },
  {
   "cell_type": "markdown",
   "id": "dec0c9be",
   "metadata": {},
   "source": [
    "7. Handling Missing Data"
   ]
  },
  {
   "cell_type": "code",
   "execution_count": 7,
   "id": "04ecccbf",
   "metadata": {},
   "outputs": [
    {
     "name": "stderr",
     "output_type": "stream",
     "text": [
      "C:\\Users\\desai\\AppData\\Local\\Temp\\ipykernel_4204\\442857612.py:8: FutureWarning: A value is trying to be set on a copy of a DataFrame or Series through chained assignment using an inplace method.\n",
      "The behavior will change in pandas 3.0. This inplace method will never work because the intermediate object on which we are setting values always behaves as a copy.\n",
      "\n",
      "For example, when doing 'df[col].method(value, inplace=True)', try using 'df.method({col: value}, inplace=True)' or df[col] = df[col].method(value) instead, to perform the operation inplace on the original object.\n",
      "\n",
      "\n",
      "  df['Production (m³)'].fillna(df['Production (m³)'].mean(), inplace=True)\n"
     ]
    },
    {
     "data": {
      "text/html": [
       "<div>\n",
       "<style scoped>\n",
       "    .dataframe tbody tr th:only-of-type {\n",
       "        vertical-align: middle;\n",
       "    }\n",
       "\n",
       "    .dataframe tbody tr th {\n",
       "        vertical-align: top;\n",
       "    }\n",
       "\n",
       "    .dataframe thead th {\n",
       "        text-align: right;\n",
       "    }\n",
       "</style>\n",
       "<table border=\"1\" class=\"dataframe\">\n",
       "  <thead>\n",
       "    <tr style=\"text-align: right;\">\n",
       "      <th></th>\n",
       "      <th>Date</th>\n",
       "      <th>Production (m³)</th>\n",
       "      <th>Energy Used (kWh)</th>\n",
       "      <th>Efficiency (m³/kWh)</th>\n",
       "    </tr>\n",
       "  </thead>\n",
       "  <tbody>\n",
       "    <tr>\n",
       "      <th>0</th>\n",
       "      <td>2025-01-01</td>\n",
       "      <td>120.00</td>\n",
       "      <td>500</td>\n",
       "      <td>0.240000</td>\n",
       "    </tr>\n",
       "    <tr>\n",
       "      <th>1</th>\n",
       "      <td>2025-01-02</td>\n",
       "      <td>135.00</td>\n",
       "      <td>520</td>\n",
       "      <td>0.259615</td>\n",
       "    </tr>\n",
       "    <tr>\n",
       "      <th>2</th>\n",
       "      <td>2025-01-03</td>\n",
       "      <td>136.25</td>\n",
       "      <td>510</td>\n",
       "      <td>0.250980</td>\n",
       "    </tr>\n",
       "    <tr>\n",
       "      <th>3</th>\n",
       "      <td>2025-01-04</td>\n",
       "      <td>140.00</td>\n",
       "      <td>530</td>\n",
       "      <td>0.264151</td>\n",
       "    </tr>\n",
       "    <tr>\n",
       "      <th>4</th>\n",
       "      <td>2025-01-05</td>\n",
       "      <td>150.00</td>\n",
       "      <td>550</td>\n",
       "      <td>0.272727</td>\n",
       "    </tr>\n",
       "  </tbody>\n",
       "</table>\n",
       "</div>"
      ],
      "text/plain": [
       "        Date  Production (m³)  Energy Used (kWh)  Efficiency (m³/kWh)\n",
       "0 2025-01-01           120.00                500             0.240000\n",
       "1 2025-01-02           135.00                520             0.259615\n",
       "2 2025-01-03           136.25                510             0.250980\n",
       "3 2025-01-04           140.00                530             0.264151\n",
       "4 2025-01-05           150.00                550             0.272727"
      ]
     },
     "execution_count": 7,
     "metadata": {},
     "output_type": "execute_result"
    }
   ],
   "source": [
    "# Introduce NaN\n",
    "df.loc[2, 'Production (m³)'] = np.nan\n",
    "\n",
    "# Check for missing values\n",
    "df.isnull()\n",
    "\n",
    "# Fill missing values with average\n",
    "df['Production (m³)'].fillna(df['Production (m³)'].mean(), inplace=True)\n",
    "df\n"
   ]
  },
  {
   "cell_type": "markdown",
   "id": "a7d891d7",
   "metadata": {},
   "source": [
    "8. Grouping and Aggregation"
   ]
  },
  {
   "cell_type": "code",
   "execution_count": 8,
   "id": "f50125db",
   "metadata": {},
   "outputs": [
    {
     "data": {
      "text/plain": [
       "Shift\n",
       "Evening    137.500000\n",
       "Morning    135.416667\n",
       "Name: Production (m³), dtype: float64"
      ]
     },
     "execution_count": 8,
     "metadata": {},
     "output_type": "execute_result"
    }
   ],
   "source": [
    "# Example: Assume a 'Shift' column\n",
    "df['Shift'] = ['Morning', 'Evening', 'Morning', 'Evening', 'Morning']\n",
    "\n",
    "# Group by Shift and get average production\n",
    "df.groupby('Shift')['Production (m³)'].mean()\n"
   ]
  },
  {
   "cell_type": "markdown",
   "id": "fc1d93b7",
   "metadata": {},
   "source": [
    "9. Merging DataFrames"
   ]
  },
  {
   "cell_type": "code",
   "execution_count": 9,
   "id": "17802ecc",
   "metadata": {},
   "outputs": [
    {
     "data": {
      "text/html": [
       "<div>\n",
       "<style scoped>\n",
       "    .dataframe tbody tr th:only-of-type {\n",
       "        vertical-align: middle;\n",
       "    }\n",
       "\n",
       "    .dataframe tbody tr th {\n",
       "        vertical-align: top;\n",
       "    }\n",
       "\n",
       "    .dataframe thead th {\n",
       "        text-align: right;\n",
       "    }\n",
       "</style>\n",
       "<table border=\"1\" class=\"dataframe\">\n",
       "  <thead>\n",
       "    <tr style=\"text-align: right;\">\n",
       "      <th></th>\n",
       "      <th>Date</th>\n",
       "      <th>Production (m³)</th>\n",
       "      <th>Energy Used (kWh)</th>\n",
       "      <th>Efficiency (m³/kWh)</th>\n",
       "      <th>Shift</th>\n",
       "      <th>Downtime (hrs)</th>\n",
       "    </tr>\n",
       "  </thead>\n",
       "  <tbody>\n",
       "    <tr>\n",
       "      <th>0</th>\n",
       "      <td>2025-01-01</td>\n",
       "      <td>120.00</td>\n",
       "      <td>500</td>\n",
       "      <td>0.240000</td>\n",
       "      <td>Morning</td>\n",
       "      <td>0.0</td>\n",
       "    </tr>\n",
       "    <tr>\n",
       "      <th>1</th>\n",
       "      <td>2025-01-02</td>\n",
       "      <td>135.00</td>\n",
       "      <td>520</td>\n",
       "      <td>0.259615</td>\n",
       "      <td>Evening</td>\n",
       "      <td>1.0</td>\n",
       "    </tr>\n",
       "    <tr>\n",
       "      <th>2</th>\n",
       "      <td>2025-01-03</td>\n",
       "      <td>136.25</td>\n",
       "      <td>510</td>\n",
       "      <td>0.250980</td>\n",
       "      <td>Morning</td>\n",
       "      <td>0.5</td>\n",
       "    </tr>\n",
       "    <tr>\n",
       "      <th>3</th>\n",
       "      <td>2025-01-04</td>\n",
       "      <td>140.00</td>\n",
       "      <td>530</td>\n",
       "      <td>0.264151</td>\n",
       "      <td>Evening</td>\n",
       "      <td>0.0</td>\n",
       "    </tr>\n",
       "    <tr>\n",
       "      <th>4</th>\n",
       "      <td>2025-01-05</td>\n",
       "      <td>150.00</td>\n",
       "      <td>550</td>\n",
       "      <td>0.272727</td>\n",
       "      <td>Morning</td>\n",
       "      <td>1.5</td>\n",
       "    </tr>\n",
       "  </tbody>\n",
       "</table>\n",
       "</div>"
      ],
      "text/plain": [
       "        Date  Production (m³)  Energy Used (kWh)  Efficiency (m³/kWh)  \\\n",
       "0 2025-01-01           120.00                500             0.240000   \n",
       "1 2025-01-02           135.00                520             0.259615   \n",
       "2 2025-01-03           136.25                510             0.250980   \n",
       "3 2025-01-04           140.00                530             0.264151   \n",
       "4 2025-01-05           150.00                550             0.272727   \n",
       "\n",
       "     Shift  Downtime (hrs)  \n",
       "0  Morning             0.0  \n",
       "1  Evening             1.0  \n",
       "2  Morning             0.5  \n",
       "3  Evening             0.0  \n",
       "4  Morning             1.5  "
      ]
     },
     "execution_count": 9,
     "metadata": {},
     "output_type": "execute_result"
    }
   ],
   "source": [
    "# Example: Add maintenance data\n",
    "maintenance = pd.DataFrame({\n",
    "    'Date': pd.date_range(start='2025-01-01', periods=5, freq='D'),\n",
    "    'Downtime (hrs)': [0, 1, 0.5, 0, 1.5]\n",
    "})\n",
    "\n",
    "# Merge with production data\n",
    "df_merged = pd.merge(df, maintenance, on='Date')\n",
    "df_merged\n"
   ]
  },
  {
   "cell_type": "markdown",
   "id": "54f58dc2",
   "metadata": {},
   "source": [
    "10. Plotting with Pandas"
   ]
  },
  {
   "cell_type": "code",
   "execution_count": 10,
   "id": "ad7ec37c",
   "metadata": {},
   "outputs": [
    {
     "data": {
      "image/png": "[encoded data removed]",
      "text/plain": [
       "<Figure size 640x480 with 1 Axes>"
      ]
     },
     "metadata": {},
     "output_type": "display_data"
    },
    {
     "data": {
      "image/png": "[encoded data removed]",
      "text/plain": [
       "<Figure size 640x480 with 1 Axes>"
      ]
     },
     "metadata": {},
     "output_type": "display_data"
    }
   ],
   "source": [
    "import matplotlib.pyplot as plt\n",
    "\n",
    "# Production trend\n",
    "df.plot(x='Date', y='Production (m³)', marker='o', title='Daily Production')\n",
    "plt.show()\n",
    "\n",
    "# Efficiency trend\n",
    "df.plot(x='Date', y='Efficiency (m³/kWh)', marker='s', color='green', title='Production Efficiency')\n",
    "plt.show()\n"
   ]
  }
 ],
 "metadata": {
  "kernelspec": {
   "display_name": "Python 3",
   "language": "python",
   "name": "python3"
  },
  "language_info": {
   "codemirror_mode": {
    "name": "ipython",
    "version": 3
   },
   "file_extension": ".py",
   "mimetype": "text/x-python",
   "name": "python",
   "nbconvert_exporter": "python",
   "pygments_lexer": "ipython3",
   "version": "3.12.4"
  }
 },
 "nbformat": 4,
 "nbformat_minor": 5
}
