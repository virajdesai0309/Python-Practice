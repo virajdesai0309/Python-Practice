{
 "cells": [
  {
   "cell_type": "markdown",
   "id": "6fc507da",
   "metadata": {},
   "source": [
    "# File Handling in Python – CSV and Excel 📂\n",
    "\n",
    "1. Introduction\n",
    "\n",
    "File handling is important for chemical engineers because process data, lab reports, and simulation results are often stored in CSV or Excel files.\n",
    "In this notebook, we will cover:\n",
    "\n",
    "- Reading and writing CSV files\n",
    "\n",
    "- Reading and writing Excel files\n",
    "\n",
    "- Simple data analysis\n",
    "\n",
    "---\n",
    "\n",
    "2. Reading and Writing CSV Files"
   ]
  },
  {
   "cell_type": "code",
   "execution_count": 1,
   "id": "b1cf1dc9",
   "metadata": {},
   "outputs": [
    {
     "name": "stdout",
     "output_type": "stream",
     "text": [
      "CSV File Saved!\n"
     ]
    }
   ],
   "source": [
    "import pandas as pd\n",
    "\n",
    "# Example: Process data (temperature, pressure, flowrate)\n",
    "data = {\n",
    "    \"Temperature (K)\": [298, 310, 320, 330],\n",
    "    \"Pressure (bar)\": [1.0, 1.2, 1.5, 1.8],\n",
    "    \"Flowrate (kg/s)\": [2.5, 2.8, 3.0, 3.2]\n",
    "}\n",
    "\n",
    "# Convert dictionary to DataFrame\n",
    "df = pd.DataFrame(data)\n",
    "\n",
    "# Save to CSV\n",
    "df.to_csv(\"process_data.csv\", index=False)\n",
    "\n",
    "print(\"CSV File Saved!\")\n"
   ]
  },
  {
   "cell_type": "code",
   "execution_count": 2,
   "id": "719bf847",
   "metadata": {},
   "outputs": [
    {
     "name": "stdout",
     "output_type": "stream",
     "text": [
      "   Temperature (K)  Pressure (bar)  Flowrate (kg/s)\n",
      "0              298             1.0              2.5\n",
      "1              310             1.2              2.8\n",
      "2              320             1.5              3.0\n",
      "3              330             1.8              3.2\n"
     ]
    }
   ],
   "source": [
    "# Read CSV back into DataFrame\n",
    "df_read = pd.read_csv(\"process_data.csv\")\n",
    "print(df_read)"
   ]
  },
  {
   "cell_type": "markdown",
   "id": "77bc8345",
   "metadata": {},
   "source": [
    "3. Reading and Writing Excel Files"
   ]
  },
  {
   "cell_type": "code",
   "execution_count": 3,
   "id": "86c51c81",
   "metadata": {},
   "outputs": [
    {
     "name": "stdout",
     "output_type": "stream",
     "text": [
      "Excel File Saved!\n"
     ]
    }
   ],
   "source": [
    "# Save DataFrame to Excel\n",
    "df.to_excel(\"process_data.xlsx\", index=False, sheet_name=\"Sheet1\")\n",
    "\n",
    "print(\"Excel File Saved!\")\n"
   ]
  },
  {
   "cell_type": "code",
   "execution_count": 4,
   "id": "891d95ab",
   "metadata": {},
   "outputs": [
    {
     "name": "stdout",
     "output_type": "stream",
     "text": [
      "   Temperature (K)  Pressure (bar)  Flowrate (kg/s)\n",
      "0              298             1.0              2.5\n",
      "1              310             1.2              2.8\n",
      "2              320             1.5              3.0\n",
      "3              330             1.8              3.2\n"
     ]
    }
   ],
   "source": [
    "# Read Excel file\n",
    "df_excel = pd.read_excel(\"process_data.xlsx\")\n",
    "print(df_excel)"
   ]
  },
  {
   "cell_type": "markdown",
   "id": "e9f46ff7",
   "metadata": {},
   "source": [
    "4. Engineering Example – Heat Exchanger Data 📊\n",
    "\n",
    "Imagine we have heat exchanger log data:"
   ]
  },
  {
   "cell_type": "code",
   "execution_count": 5,
   "id": "4e6bbb48",
   "metadata": {},
   "outputs": [
    {
     "data": {
      "text/html": [
       "<div>\n",
       "<style scoped>\n",
       "    .dataframe tbody tr th:only-of-type {\n",
       "        vertical-align: middle;\n",
       "    }\n",
       "\n",
       "    .dataframe tbody tr th {\n",
       "        vertical-align: top;\n",
       "    }\n",
       "\n",
       "    .dataframe thead th {\n",
       "        text-align: right;\n",
       "    }\n",
       "</style>\n",
       "<table border=\"1\" class=\"dataframe\">\n",
       "  <thead>\n",
       "    <tr style=\"text-align: right;\">\n",
       "      <th></th>\n",
       "      <th>Inlet Temp (°C)</th>\n",
       "      <th>Outlet Temp (°C)</th>\n",
       "      <th>Flowrate (kg/s)</th>\n",
       "    </tr>\n",
       "  </thead>\n",
       "  <tbody>\n",
       "    <tr>\n",
       "      <th>0</th>\n",
       "      <td>30</td>\n",
       "      <td>60</td>\n",
       "      <td>1.5</td>\n",
       "    </tr>\n",
       "    <tr>\n",
       "      <th>1</th>\n",
       "      <td>35</td>\n",
       "      <td>65</td>\n",
       "      <td>1.6</td>\n",
       "    </tr>\n",
       "    <tr>\n",
       "      <th>2</th>\n",
       "      <td>40</td>\n",
       "      <td>70</td>\n",
       "      <td>1.8</td>\n",
       "    </tr>\n",
       "    <tr>\n",
       "      <th>3</th>\n",
       "      <td>45</td>\n",
       "      <td>72</td>\n",
       "      <td>2.0</td>\n",
       "    </tr>\n",
       "  </tbody>\n",
       "</table>\n",
       "</div>"
      ],
      "text/plain": [
       "   Inlet Temp (°C)  Outlet Temp (°C)  Flowrate (kg/s)\n",
       "0               30                60              1.5\n",
       "1               35                65              1.6\n",
       "2               40                70              1.8\n",
       "3               45                72              2.0"
      ]
     },
     "execution_count": 5,
     "metadata": {},
     "output_type": "execute_result"
    }
   ],
   "source": [
    "heat_exchanger_data = {\n",
    "    \"Inlet Temp (°C)\": [30, 35, 40, 45],\n",
    "    \"Outlet Temp (°C)\": [60, 65, 70, 72],\n",
    "    \"Flowrate (kg/s)\": [1.5, 1.6, 1.8, 2.0]\n",
    "}\n",
    "\n",
    "hx_df = pd.DataFrame(heat_exchanger_data)\n",
    "\n",
    "# Save to Excel\n",
    "hx_df.to_excel(\"heat_exchanger_data.xlsx\", index=False)\n",
    "\n",
    "# Read again\n",
    "hx_read = pd.read_excel(\"heat_exchanger_data.xlsx\")\n",
    "hx_read\n"
   ]
  },
  {
   "cell_type": "markdown",
   "id": "79ebd501",
   "metadata": {},
   "source": [
    "5. Quick Data Analysis"
   ]
  },
  {
   "cell_type": "code",
   "execution_count": 6,
   "id": "fcbb4e09",
   "metadata": {},
   "outputs": [
    {
     "name": "stdout",
     "output_type": "stream",
     "text": [
      "Average Outlet Temperature = 66.75 °C\n",
      "Inlet Temp (°C)     0\n",
      "Outlet Temp (°C)    0\n",
      "Flowrate (kg/s)     0\n",
      "dtype: int64\n"
     ]
    }
   ],
   "source": [
    "# Calculate average outlet temperature\n",
    "avg_outlet_temp = hx_read[\"Outlet Temp (°C)\"].mean()\n",
    "print(f\"Average Outlet Temperature = {avg_outlet_temp:.2f} °C\")\n",
    "\n",
    "# Check if any values are missing\n",
    "print(hx_read.isnull().sum())\n"
   ]
  },
  {
   "cell_type": "code",
   "execution_count": null,
   "id": "b9c931db",
   "metadata": {},
   "outputs": [],
   "source": []
  }
 ],
 "metadata": {
  "kernelspec": {
   "display_name": "Python 3",
   "language": "python",
   "name": "python3"
  },
  "language_info": {
   "codemirror_mode": {
    "name": "ipython",
    "version": 3
   },
   "file_extension": ".py",
   "mimetype": "text/x-python",
   "name": "python",
   "nbconvert_exporter": "python",
   "pygments_lexer": "ipython3",
   "version": "3.12.4"
  }
 },
 "nbformat": 4,
 "nbformat_minor": 5
}
