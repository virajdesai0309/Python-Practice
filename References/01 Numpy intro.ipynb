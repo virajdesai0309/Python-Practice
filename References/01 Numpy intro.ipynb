{
 "cells": [
  {
   "cell_type": "markdown",
   "metadata": {},
   "source": [
    "# 01 Introduction to Numpy Module\n",
    "---\n",
    "\n",
    "## Introduction 🤔\n",
    "\n",
    "### What is NumPy?\n",
    "[![NumPy](https://img.shields.io/badge/Numpy-013243?style=flat&logo=numpy&logoColor=white)](https://numpy.org/) stands for numeric python which is a python package for the computation and processing of the multidimensional and single dimensional array elements.\n",
    "\n",
    "**Travis Oliphant** created NumPy package in 2005 by injecting the features of the ancestor module Numeric into another module Numarray.\n",
    "\n",
    "It is an extension module of Python which is mostly written in \"C\". It provides various functions which are capable of performing the numeric computations with a high speed.\n",
    "\n",
    "NumPy provides various powerful data structures, implementing multi-dimensional arrays and matrices. These data structures are used for the optimal computations regarding arrays and matrices.\n",
    "\n",
    "In this tutorial, we will go through the numeric python library NumPy.\n",
    "\n",
    "---\n",
    "\n",
    "### The need of NumPy?\n",
    "With the revolution of data science, data analysis libraries like NumPy, SciPy, Pandas, etc. have seen a lot of growth. With a much easier syntax than other programming languages, python is the first choice language for the data scientist.\n",
    "\n",
    "NumPy provides a convenient and efficient way to handle the vast amount of data. NumPy is also very convenient with Matrix multiplication and data reshaping. NumPy is fast which makes it reasonable to work with a large set of data.\n",
    "\n",
    "There are the following advantages of using NumPy for data analysis.\n",
    "\n",
    "* NumPy performs array-oriented computing.\n",
    "* It efficiently implements the multidimensional arrays.\n",
    "* It performs scientific computations.\n",
    "* It is capable of performing Fourier Transform and reshaping the data stored in multidimensional arrays.\n",
    "* NumPy provides the in-built functions for linear algebra and random number generation.\n",
    "---\n",
    "NumPy when combined with SciPy and Mat-plotlib is used as the replacement to MATLAB as Python is more complete and easier programming language than MATLAB.\n"
   ]
  },
  {
   "cell_type": "markdown",
   "metadata": {},
   "source": [
    "## Creating Arrays"
   ]
  },
  {
   "cell_type": "code",
   "execution_count": 76,
   "metadata": {},
   "outputs": [],
   "source": [
    "import numpy as np #Importing numpy module\n",
    "import matplotlib.pyplot as plt #Importing matplotlib for plotting"
   ]
  },
  {
   "cell_type": "code",
   "execution_count": 77,
   "metadata": {},
   "outputs": [
    {
     "data": {
      "text/plain": [
       "array([ 8,  9,  5,  2,  5,  3,  7,  4,  6, 35, 46,  3,  6, 46,  3, 67])"
      ]
     },
     "execution_count": 77,
     "metadata": {},
     "output_type": "execute_result"
    }
   ],
   "source": [
    "x = np.array([8,9,5,2,5,3,7,4,6,35,46,3,6,46,3,67]) #Makes an array of your desired numbers\n",
    "x\n"
   ]
  },
  {
   "cell_type": "code",
   "execution_count": 78,
   "metadata": {},
   "outputs": [
    {
     "data": {
      "text/plain": [
       "array([0., 0.])"
      ]
     },
     "execution_count": 78,
     "metadata": {},
     "output_type": "execute_result"
    }
   ],
   "source": [
    "y = np.zeros(2) #Makes an array of zeroes\n",
    "y"
   ]
  },
  {
   "cell_type": "code",
   "execution_count": 79,
   "metadata": {},
   "outputs": [
    {
     "data": {
      "text/plain": [
       "array([1., 1., 1., 1.])"
      ]
     },
     "execution_count": 79,
     "metadata": {},
     "output_type": "execute_result"
    }
   ],
   "source": [
    "z = np.ones(4) #Makes an array of ones\n",
    "z"
   ]
  },
  {
   "cell_type": "code",
   "execution_count": 80,
   "metadata": {},
   "outputs": [
    {
     "data": {
      "text/plain": [
       "array([0.66451547, 0.87057818, 0.80232863, 0.1781389 , 0.87595003])"
      ]
     },
     "execution_count": 80,
     "metadata": {},
     "output_type": "execute_result"
    }
   ],
   "source": [
    "a = np.random.random(5) #Makes an array of your random numbers\n",
    "a"
   ]
  },
  {
   "cell_type": "code",
   "execution_count": 81,
   "metadata": {},
   "outputs": [
    {
     "data": {
      "text/plain": [
       "array([-0.74000638,  0.75561225,  1.55452783,  0.25034893, -1.43271991])"
      ]
     },
     "execution_count": 81,
     "metadata": {},
     "output_type": "execute_result"
    }
   ],
   "source": [
    "b = np.random.randn(5) #Makes an array of natural random numbersa #Calling a variable\n",
    "b"
   ]
  },
  {
   "cell_type": "code",
   "execution_count": 82,
   "metadata": {},
   "outputs": [
    {
     "data": {
      "text/plain": [
       "array([0.        , 0.11111111, 0.22222222, 0.33333333, 0.44444444,\n",
       "       0.55555556, 0.66666667, 0.77777778, 0.88888889, 1.        ])"
      ]
     },
     "execution_count": 82,
     "metadata": {},
     "output_type": "execute_result"
    }
   ],
   "source": [
    "q = np.linspace(0,1,10) #Makes an array of your desired range with equal intervals\n",
    "q"
   ]
  },
  {
   "cell_type": "code",
   "execution_count": 83,
   "metadata": {},
   "outputs": [
    {
     "data": {
      "text/plain": [
       "array([0, 1, 2, 3, 4, 5, 6, 7, 8, 9])"
      ]
     },
     "execution_count": 83,
     "metadata": {},
     "output_type": "execute_result"
    }
   ],
   "source": [
    "p = np.arange(0,10,1) #Makes an array/range of your desired range with equal intervals\n",
    "p"
   ]
  },
  {
   "cell_type": "markdown",
   "metadata": {},
   "source": [
    "## Array Operations"
   ]
  },
  {
   "cell_type": "code",
   "execution_count": 84,
   "metadata": {},
   "outputs": [
    {
     "data": {
      "text/plain": [
       "array([ 5,  6,  7,  8,  9, 10, 11, 12, 13, 14])"
      ]
     },
     "execution_count": 84,
     "metadata": {},
     "output_type": "execute_result"
    }
   ],
   "source": [
    "p+5 #Adding 5 to every element of array "
   ]
  },
  {
   "cell_type": "code",
   "execution_count": 85,
   "metadata": {},
   "outputs": [
    {
     "data": {
      "text/plain": [
       "array([False, False, False, False, False, False,  True,  True,  True,\n",
       "        True])"
      ]
     },
     "execution_count": 85,
     "metadata": {},
     "output_type": "execute_result"
    }
   ],
   "source": [
    "p>5 #Gives you a boolean array"
   ]
  },
  {
   "cell_type": "markdown",
   "metadata": {},
   "source": [
    "### Example of Sin funtion"
   ]
  },
  {
   "cell_type": "code",
   "execution_count": 86,
   "metadata": {},
   "outputs": [],
   "source": [
    "x = np.linspace(-10,10,2000) #Making a linear space array\n",
    "y = np.exp(x) #Defining a fxn"
   ]
  },
  {
   "cell_type": "code",
   "execution_count": 87,
   "metadata": {},
   "outputs": [
    {
     "data": {
      "image/png": "[encoded data removed]",
      "text/plain": [
       "<Figure size 432x288 with 1 Axes>"
      ]
     },
     "metadata": {
      "needs_background": "light"
     },
     "output_type": "display_data"
    }
   ],
   "source": [
    "plt.plot(x,y) #Ploting the data\n",
    "plt.xlabel('X',fontsize=20) #Labeling X axis\n",
    "plt.ylabel('exp(x)',fontsize=20) #Labeling Y axis\n",
    "plt.legend('y') #Legend \n",
    "plt.grid() #Grid on\n",
    "plt.show() #Used to plot"
   ]
  },
  {
   "cell_type": "code",
   "execution_count": 88,
   "metadata": {},
   "outputs": [],
   "source": [
    "x = np.linspace(-5,5,100) #Making a linear space array"
   ]
  },
  {
   "cell_type": "code",
   "execution_count": 89,
   "metadata": {},
   "outputs": [
    {
     "data": {
      "image/png": "[encoded data removed]",
      "text/plain": [
       "<Figure size 432x288 with 1 Axes>"
      ]
     },
     "metadata": {
      "needs_background": "light"
     },
     "output_type": "display_data"
    }
   ],
   "source": [
    "def x_square(x): #Defining a function\n",
    "    return x**2 \n",
    "\n",
    "plt.plot(x, x_square(x)) #PLoting\n",
    "plt.grid()"
   ]
  },
  {
   "cell_type": "markdown",
   "metadata": {},
   "source": [
    "## Array Indexing/Slicing"
   ]
  },
  {
   "cell_type": "code",
   "execution_count": 90,
   "metadata": {},
   "outputs": [
    {
     "data": {
      "text/plain": [
       "array([ 2,  4,  6,  8, 10])"
      ]
     },
     "execution_count": 90,
     "metadata": {},
     "output_type": "execute_result"
    }
   ],
   "source": [
    "x1 = np.array([2,4,6,8,10]) #Defining an array\n",
    "x1"
   ]
  },
  {
   "cell_type": "code",
   "execution_count": 91,
   "metadata": {},
   "outputs": [
    {
     "data": {
      "text/plain": [
       "8"
      ]
     },
     "execution_count": 91,
     "metadata": {},
     "output_type": "execute_result"
    }
   ],
   "source": [
    "x1[3] #Calls 3rd element of array"
   ]
  },
  {
   "cell_type": "code",
   "execution_count": 92,
   "metadata": {},
   "outputs": [
    {
     "data": {
      "text/plain": [
       "array([ 6,  8, 10])"
      ]
     },
     "execution_count": 92,
     "metadata": {},
     "output_type": "execute_result"
    }
   ],
   "source": [
    "x1[2:] #Calls all elements after 2nd postion"
   ]
  },
  {
   "cell_type": "code",
   "execution_count": 93,
   "metadata": {},
   "outputs": [
    {
     "data": {
      "text/plain": [
       "array([2, 4, 6])"
      ]
     },
     "execution_count": 93,
     "metadata": {},
     "output_type": "execute_result"
    }
   ],
   "source": [
    "x1[:-2] #Calls all elements before 2nd postion"
   ]
  },
  {
   "cell_type": "code",
   "execution_count": 94,
   "metadata": {},
   "outputs": [
    {
     "data": {
      "text/plain": [
       "array([False, False,  True,  True,  True])"
      ]
     },
     "execution_count": 94,
     "metadata": {},
     "output_type": "execute_result"
    }
   ],
   "source": [
    "x1>5 #Checks if given conditon is true of false"
   ]
  },
  {
   "cell_type": "code",
   "execution_count": 95,
   "metadata": {},
   "outputs": [
    {
     "data": {
      "text/plain": [
       "array([ 6,  8, 10])"
      ]
     },
     "execution_count": 95,
     "metadata": {},
     "output_type": "execute_result"
    }
   ],
   "source": [
    "x1[x1>5] #Checks and gives you values "
   ]
  },
  {
   "cell_type": "code",
   "execution_count": 96,
   "metadata": {},
   "outputs": [
    {
     "data": {
      "text/plain": [
       "array([4, 8])"
      ]
     },
     "execution_count": 96,
     "metadata": {},
     "output_type": "execute_result"
    }
   ],
   "source": [
    "x1[x1%4==0] #Checks and gives you values on given condition"
   ]
  },
  {
   "cell_type": "markdown",
   "metadata": {},
   "source": [
    "## Calculus / Statistical Functions"
   ]
  },
  {
   "cell_type": "code",
   "execution_count": 97,
   "metadata": {},
   "outputs": [],
   "source": [
    "y1 = np.linspace(0,10,2) #Defining a variable"
   ]
  },
  {
   "cell_type": "markdown",
   "metadata": {},
   "source": [
    "Mean, standard deviation, and percentiles of arrays:"
   ]
  },
  {
   "cell_type": "code",
   "execution_count": 98,
   "metadata": {},
   "outputs": [
    {
     "data": {
      "text/plain": [
       "5.0"
      ]
     },
     "execution_count": 98,
     "metadata": {},
     "output_type": "execute_result"
    }
   ],
   "source": [
    "np.mean(y1) #Gives you the mean"
   ]
  },
  {
   "cell_type": "code",
   "execution_count": 99,
   "metadata": {},
   "outputs": [
    {
     "data": {
      "text/plain": [
       "5.0"
      ]
     },
     "execution_count": 99,
     "metadata": {},
     "output_type": "execute_result"
    }
   ],
   "source": [
    "np.median(y1) #Gives you the median"
   ]
  },
  {
   "cell_type": "code",
   "execution_count": 100,
   "metadata": {},
   "outputs": [
    {
     "data": {
      "text/plain": [
       "5.0"
      ]
     },
     "execution_count": 100,
     "metadata": {},
     "output_type": "execute_result"
    }
   ],
   "source": [
    "np.std(y1) #Gives you the std deviation"
   ]
  },
  {
   "cell_type": "code",
   "execution_count": 101,
   "metadata": {},
   "outputs": [
    {
     "data": {
      "text/plain": [
       "9.0"
      ]
     },
     "execution_count": 101,
     "metadata": {},
     "output_type": "execute_result"
    }
   ],
   "source": [
    "np.percentile(y1,90) #Gives you the percentile"
   ]
  },
  {
   "cell_type": "code",
   "execution_count": 102,
   "metadata": {},
   "outputs": [
    {
     "data": {
      "text/plain": [
       "array([ 0., 10.])"
      ]
     },
     "execution_count": 102,
     "metadata": {},
     "output_type": "execute_result"
    }
   ],
   "source": [
    "y1 #Gives you the array"
   ]
  },
  {
   "cell_type": "markdown",
   "metadata": {},
   "source": [
    "## Integrals and derivatives"
   ]
  },
  {
   "cell_type": "code",
   "execution_count": 103,
   "metadata": {},
   "outputs": [],
   "source": [
    "a = np.linspace(1,10,1000) #Defiining an array\n",
    "b = np.sin(a) #Defining a function\n",
    "dydx = np.gradient(b,a) #Calling np.gradient for derivative\n",
    "y_intergal = np.cumsum(b) * (a[1]-a[0]) #Calling np.cumsum for integration"
   ]
  },
  {
   "cell_type": "code",
   "execution_count": 104,
   "metadata": {},
   "outputs": [
    {
     "data": {
      "text/plain": [
       "[<matplotlib.lines.Line2D at 0x206b3f80eb0>]"
      ]
     },
     "execution_count": 104,
     "metadata": {},
     "output_type": "execute_result"
    },
    {
     "data": {
      "image/png": "[encoded data removed]",
      "text/plain": [
       "<Figure size 432x288 with 1 Axes>"
      ]
     },
     "metadata": {
      "needs_background": "light"
     },
     "output_type": "display_data"
    }
   ],
   "source": [
    "#PLotting the data\n",
    "plt.plot(a,b)\n",
    "plt.plot(a,dydx)\n",
    "plt.plot(a,y_intergal)"
   ]
  },
  {
   "cell_type": "markdown",
   "metadata": {},
   "source": [
    "## Basic fluid flow examples in a pipe"
   ]
  },
  {
   "cell_type": "markdown",
   "metadata": {},
   "source": [
    "Liquid *n-hexane* flows at a rate of **m = 0.75 kg/s** in a pipe with inside diameter **D = 5 cm**. What are the volumetric flow rate, molar flow rate and velocity? What would these quantities be same if **Diameter of pipe is chaning from 5 cm to 2 cm.**\n",
    "\n",
    "**Assume the liquid n-hexane density as 659 kg/m3**"
   ]
  },
  {
   "cell_type": "code",
   "execution_count": 105,
   "metadata": {},
   "outputs": [
    {
     "data": {
      "text/plain": [
       "0.05"
      ]
     },
     "execution_count": 105,
     "metadata": {},
     "output_type": "execute_result"
    }
   ],
   "source": [
    "Mass_flow_rate = 0.75 #Mass flow rate in kg/s\n",
    "Density = 659 # Density in kg/m3\n",
    "Dia_of_pipe = 5 #Defining a pipe diameter\n",
    "Dia_of_pipe * 10**-2"
   ]
  },
  {
   "cell_type": "code",
   "execution_count": 106,
   "metadata": {},
   "outputs": [
    {
     "data": {
      "text/plain": [
       "0.0011380880121396055"
      ]
     },
     "execution_count": 106,
     "metadata": {},
     "output_type": "execute_result"
    }
   ],
   "source": [
    "Volumetric_Flow = Mass_flow_rate/Density #Finding volumetric flow rate\n",
    "Volumetric_Flow"
   ]
  },
  {
   "cell_type": "code",
   "execution_count": 107,
   "metadata": {},
   "outputs": [
    {
     "data": {
      "text/plain": [
       "8.70908183053288"
      ]
     },
     "execution_count": 107,
     "metadata": {},
     "output_type": "execute_result"
    }
   ],
   "source": [
    "Molar_flow_rate = Mass_flow_rate * 10**3 / 86.117\n",
    "Molar_flow_rate"
   ]
  },
  {
   "cell_type": "code",
   "execution_count": 108,
   "metadata": {},
   "outputs": [
    {
     "data": {
      "text/plain": [
       "0.001963495408493621"
      ]
     },
     "execution_count": 108,
     "metadata": {},
     "output_type": "execute_result"
    }
   ],
   "source": [
    "Area_of_pipe = (np.pi/4) * (Dia_of_pipe*10**-2)**2\n",
    "Area_of_pipe\n"
   ]
  },
  {
   "cell_type": "code",
   "execution_count": 109,
   "metadata": {},
   "outputs": [
    {
     "data": {
      "text/plain": [
       "0.579623464978071"
      ]
     },
     "execution_count": 109,
     "metadata": {},
     "output_type": "execute_result"
    }
   ],
   "source": [
    "Velocity = Volumetric_Flow/Area_of_pipe\n",
    "Velocity"
   ]
  },
  {
   "cell_type": "markdown",
   "metadata": {},
   "source": [
    "> #### Now solving using Numpy"
   ]
  },
  {
   "cell_type": "code",
   "execution_count": 110,
   "metadata": {},
   "outputs": [
    {
     "data": {
      "text/plain": [
       "array([0.02      , 0.02030303, 0.02060606, 0.02090909, 0.02121212,\n",
       "       0.02151515, 0.02181818, 0.02212121, 0.02242424, 0.02272727,\n",
       "       0.0230303 , 0.02333333, 0.02363636, 0.02393939, 0.02424242,\n",
       "       0.02454545, 0.02484848, 0.02515152, 0.02545455, 0.02575758,\n",
       "       0.02606061, 0.02636364, 0.02666667, 0.0269697 , 0.02727273,\n",
       "       0.02757576, 0.02787879, 0.02818182, 0.02848485, 0.02878788,\n",
       "       0.02909091, 0.02939394, 0.02969697, 0.03      , 0.03030303,\n",
       "       0.03060606, 0.03090909, 0.03121212, 0.03151515, 0.03181818,\n",
       "       0.03212121, 0.03242424, 0.03272727, 0.0330303 , 0.03333333,\n",
       "       0.03363636, 0.03393939, 0.03424242, 0.03454545, 0.03484848,\n",
       "       0.03515152, 0.03545455, 0.03575758, 0.03606061, 0.03636364,\n",
       "       0.03666667, 0.0369697 , 0.03727273, 0.03757576, 0.03787879,\n",
       "       0.03818182, 0.03848485, 0.03878788, 0.03909091, 0.03939394,\n",
       "       0.03969697, 0.04      , 0.04030303, 0.04060606, 0.04090909,\n",
       "       0.04121212, 0.04151515, 0.04181818, 0.04212121, 0.04242424,\n",
       "       0.04272727, 0.0430303 , 0.04333333, 0.04363636, 0.04393939,\n",
       "       0.04424242, 0.04454545, 0.04484848, 0.04515152, 0.04545455,\n",
       "       0.04575758, 0.04606061, 0.04636364, 0.04666667, 0.0469697 ,\n",
       "       0.04727273, 0.04757576, 0.04787879, 0.04818182, 0.04848485,\n",
       "       0.04878788, 0.04909091, 0.04939394, 0.04969697, 0.05      ])"
      ]
     },
     "execution_count": 110,
     "metadata": {},
     "output_type": "execute_result"
    }
   ],
   "source": [
    "Mass_flow_rate = 0.75 #Mass flow rate in kg/s\n",
    "Density = 659 # Density in kg/m3\n",
    "Dia_of_pipe = np.linspace(2,5,100) #Defining a pipe diameter\n",
    "Dia_of_pipe * 10**-2"
   ]
  },
  {
   "cell_type": "code",
   "execution_count": 111,
   "metadata": {},
   "outputs": [
    {
     "data": {
      "text/plain": [
       "0.0011380880121396055"
      ]
     },
     "execution_count": 111,
     "metadata": {},
     "output_type": "execute_result"
    }
   ],
   "source": [
    "Volumetric_Flow = Mass_flow_rate/Density #Finding volumetric flow rate\n",
    "Volumetric_Flow"
   ]
  },
  {
   "cell_type": "code",
   "execution_count": 112,
   "metadata": {},
   "outputs": [
    {
     "data": {
      "text/plain": [
       "8.70908183053288"
      ]
     },
     "execution_count": 112,
     "metadata": {},
     "output_type": "execute_result"
    }
   ],
   "source": [
    "Molar_flow_rate = Mass_flow_rate * 10**3 / 86.117\n",
    "Molar_flow_rate"
   ]
  },
  {
   "cell_type": "code",
   "execution_count": 113,
   "metadata": {},
   "outputs": [
    {
     "data": {
      "text/plain": [
       "array([0.00031416, 0.00032375, 0.00033349, 0.00034337, 0.00035339,\n",
       "       0.00036356, 0.00037388, 0.00038433, 0.00039493, 0.00040568,\n",
       "       0.00041657, 0.00042761, 0.00043878, 0.00045011, 0.00046157,\n",
       "       0.00047319, 0.00048494, 0.00049684, 0.00050889, 0.00052107,\n",
       "       0.00053341, 0.00054588, 0.00055851, 0.00057127, 0.00058418,\n",
       "       0.00059723, 0.00061043, 0.00062377, 0.00063726, 0.00065089,\n",
       "       0.00066467, 0.00067859, 0.00069265, 0.00070686, 0.00072121,\n",
       "       0.00073571, 0.00075035, 0.00076513, 0.00078006, 0.00079513,\n",
       "       0.00081035, 0.00082571, 0.00084122, 0.00085687, 0.00087266,\n",
       "       0.0008886 , 0.00090469, 0.00092091, 0.00093729, 0.0009538 ,\n",
       "       0.00097046, 0.00098726, 0.00100421, 0.00102131, 0.00103854,\n",
       "       0.00105592, 0.00107345, 0.00109112, 0.00110893, 0.00112689,\n",
       "       0.00114499, 0.00116324, 0.00118163, 0.00120017, 0.00121885,\n",
       "       0.00123767, 0.00125664, 0.00127575, 0.00129501, 0.00131441,\n",
       "       0.00133395, 0.00135364, 0.00137347, 0.00139345, 0.00141357,\n",
       "       0.00143384, 0.00145425, 0.0014748 , 0.0014955 , 0.00151634,\n",
       "       0.00153733, 0.00155846, 0.00157974, 0.00160116, 0.00162272,\n",
       "       0.00164443, 0.00166628, 0.00168828, 0.00171042, 0.00173271,\n",
       "       0.00175514, 0.00177771, 0.00180043, 0.00182329, 0.0018463 ,\n",
       "       0.00186945, 0.00189274, 0.00191618, 0.00193977, 0.0019635 ])"
      ]
     },
     "execution_count": 113,
     "metadata": {},
     "output_type": "execute_result"
    }
   ],
   "source": [
    "Area_of_pipe = (np.pi/4) * (Dia_of_pipe*10**-2)**2\n",
    "Area_of_pipe\n"
   ]
  },
  {
   "cell_type": "code",
   "execution_count": 114,
   "metadata": {},
   "outputs": [
    {
     "data": {
      "text/plain": [
       "array([3.62264666, 3.51531496, 3.41268357, 3.31448201, 3.22045895,\n",
       "       3.13038065, 3.04402948, 2.96120263, 2.88171089, 2.80537757,\n",
       "       2.73203754, 2.66153632, 2.59372926, 2.52848083, 2.46566388,\n",
       "       2.4051591 , 2.34685438, 2.29064434, 2.23642982, 2.18411749,\n",
       "       2.13361937, 2.08485253, 2.03773874, 1.99220412, 1.94817887,\n",
       "       1.90559701, 1.86439613, 1.82451715, 1.78590412, 1.74850403,\n",
       "       1.71226658, 1.6771441 , 1.6430913 , 1.61006518, 1.57802488,\n",
       "       1.54693156, 1.51674825, 1.4874398 , 1.45897271, 1.43131509,\n",
       "       1.40443653, 1.37830805, 1.35290199, 1.32819197, 1.3041528 ,\n",
       "       1.2807604 , 1.25799178, 1.23582495, 1.21423891, 1.19321352,\n",
       "       1.17272955, 1.15276856, 1.1333129 , 1.11434566, 1.09585061,\n",
       "       1.07781223, 1.06021559, 1.04304639, 1.0262909 , 1.00993593,\n",
       "       0.99396881, 0.97837738, 0.96314995, 0.94827527, 0.93374253,\n",
       "       0.91954133, 0.90566166, 0.89209389, 0.87882874, 0.86585727,\n",
       "       0.85317089, 0.8407613 , 0.8286205 , 0.81674079, 0.80511474,\n",
       "       0.79373517, 0.78259516, 0.77168805, 0.76100737, 0.75054691,\n",
       "       0.74030066, 0.7302628 , 0.72042772, 0.71079   , 0.70134439,\n",
       "       0.69208582, 0.68300939, 0.67411034, 0.66538408, 0.65682617,\n",
       "       0.64843232, 0.64019834, 0.63212021, 0.62419401, 0.61641597,\n",
       "       0.60878241, 0.60128977, 0.59393462, 0.58671359, 0.57962346])"
      ]
     },
     "execution_count": 114,
     "metadata": {},
     "output_type": "execute_result"
    }
   ],
   "source": [
    "Velocity = Volumetric_Flow/Area_of_pipe\n",
    "Velocity"
   ]
  },
  {
   "cell_type": "code",
   "execution_count": 115,
   "metadata": {},
   "outputs": [
    {
     "data": {
      "image/png": "[encoded data removed]",
      "text/plain": [
       "<Figure size 432x288 with 1 Axes>"
      ]
     },
     "metadata": {
      "needs_background": "light"
     },
     "output_type": "display_data"
    }
   ],
   "source": [
    "plt.plot(Dia_of_pipe,Velocity,'+--') #Ploting the data\n",
    "plt.xlabel('Diameter of Pipe',fontsize=20) #Labeling X axis\n",
    "plt.ylabel('Velocity of fluid in pipe',fontsize=20) #Labeling Y axis\n",
    "plt.grid() #Grid on\n",
    "plt.show() #Used to plot"
   ]
  },
  {
   "cell_type": "markdown",
   "metadata": {},
   "source": [
    "## Dealing with 2D functions"
   ]
  },
  {
   "cell_type": "markdown",
   "metadata": {},
   "source": [
    "Function in 2 dimensions. Try this..."
   ]
  },
  {
   "cell_type": "code",
   "execution_count": 116,
   "metadata": {},
   "outputs": [],
   "source": [
    "x = np.linspace(0,10,1000) #Defining an array\n",
    "y = np.linspace(0,5,1000) #Defining an array"
   ]
  },
  {
   "cell_type": "code",
   "execution_count": 117,
   "metadata": {},
   "outputs": [
    {
     "data": {
      "image/png": "[encoded data removed]",
      "text/plain": [
       "<Figure size 432x288 with 2 Axes>"
      ]
     },
     "metadata": {
      "needs_background": "light"
     },
     "output_type": "display_data"
    }
   ],
   "source": [
    "xv,yv = np.meshgrid(x,y) #Creating a mesh\n",
    "zv = xv**2+yv**2 #calling the function\n",
    "plt.contourf(xv,yv,zv,levels=40) #Calling contour\n",
    "plt.colorbar() #calling color bar for intensity\n",
    "plt.show() #used to plot"
   ]
  },
  {
   "cell_type": "markdown",
   "metadata": {},
   "source": [
    "## Basic Linear Algebra"
   ]
  },
  {
   "cell_type": "markdown",
   "metadata": {},
   "source": [
    "### Matrix Operations"
   ]
  },
  {
   "cell_type": "code",
   "execution_count": 118,
   "metadata": {},
   "outputs": [],
   "source": [
    "A = np.array([[1,2,3],[1,2,3],[1,2,3]]) #Craeating an array\n",
    "b1 = np.array([1,2,3]) #Craeating an array\n",
    "b2 = np.array([4,2,3]) #Craeating an array"
   ]
  },
  {
   "cell_type": "code",
   "execution_count": 119,
   "metadata": {},
   "outputs": [
    {
     "data": {
      "text/plain": [
       "array([[1, 1, 1],\n",
       "       [2, 2, 2],\n",
       "       [3, 3, 3]])"
      ]
     },
     "execution_count": 119,
     "metadata": {},
     "output_type": "execute_result"
    }
   ],
   "source": [
    "A.T #used for transpose"
   ]
  },
  {
   "cell_type": "code",
   "execution_count": 120,
   "metadata": {},
   "outputs": [
    {
     "data": {
      "text/plain": [
       "17"
      ]
     },
     "execution_count": 120,
     "metadata": {},
     "output_type": "execute_result"
    }
   ],
   "source": [
    "np.dot(b1,b2) #Used for dot product"
   ]
  },
  {
   "cell_type": "code",
   "execution_count": 121,
   "metadata": {},
   "outputs": [
    {
     "data": {
      "text/plain": [
       "array([ 0,  9, -6])"
      ]
     },
     "execution_count": 121,
     "metadata": {},
     "output_type": "execute_result"
    }
   ],
   "source": [
    "np.cross(b1,b2) #used for cross product"
   ]
  },
  {
   "cell_type": "markdown",
   "metadata": {},
   "source": [
    "### Systems of Equations\n",
    "\n",
    "$ 3x + 2y + z = 4$\n",
    "\n",
    "$ 5x -5y + 4z = 3$\n",
    "\n",
    "$ 6x +z = 0$"
   ]
  },
  {
   "cell_type": "code",
   "execution_count": 122,
   "metadata": {},
   "outputs": [],
   "source": [
    "A = np.array([[3,2,1],[5,-5,4],[6,0,1]])\n",
    "C = np.array([4,3,0])"
   ]
  },
  {
   "cell_type": "code",
   "execution_count": 123,
   "metadata": {},
   "outputs": [
    {
     "data": {
      "text/plain": [
       "array([-0.49056604,  1.26415094,  2.94339623])"
      ]
     },
     "execution_count": 123,
     "metadata": {},
     "output_type": "execute_result"
    }
   ],
   "source": [
    "np.linalg.solve(A,C) #used to find values of x y z variables"
   ]
  },
  {
   "cell_type": "markdown",
   "metadata": {},
   "source": [
    "### Finding Eigenvalues"
   ]
  },
  {
   "cell_type": "code",
   "execution_count": 124,
   "metadata": {},
   "outputs": [
    {
     "data": {
      "text/plain": [
       "array([[1, 2, 3],\n",
       "       [4, 5, 6],\n",
       "       [7, 8, 9]])"
      ]
     },
     "execution_count": 124,
     "metadata": {},
     "output_type": "execute_result"
    }
   ],
   "source": [
    "A = np.array([[1,2,3],[4,5,6],[7,8,9]])\n",
    "A"
   ]
  },
  {
   "cell_type": "code",
   "execution_count": 125,
   "metadata": {},
   "outputs": [
    {
     "data": {
      "text/plain": [
       "(array([ 1.61168440e+01, -1.11684397e+00, -1.30367773e-15]),\n",
       " array([[-0.23197069, -0.78583024,  0.40824829],\n",
       "        [-0.52532209, -0.08675134, -0.81649658],\n",
       "        [-0.8186735 ,  0.61232756,  0.40824829]]))"
      ]
     },
     "execution_count": 125,
     "metadata": {},
     "output_type": "execute_result"
    }
   ],
   "source": [
    "np.linalg.eig(A)"
   ]
  },
  {
   "cell_type": "markdown",
   "metadata": {},
   "source": [
    "## Examples to practice\n",
    "\n",
    "### Question 1\n",
    "\n",
    "Let $f(x,y) = e^{-(x^2+y^2)} \\cdot \\sin(x)$ for $-2 \\leq x \\leq 2$ and $-2 \\leq y \\leq 2$\n",
    "\n",
    "1. Make a contour plot of $f$\n",
    "2. Find the volume $|f(x,y)|$ in the specified $x$ and $y$ range\n",
    "3. Find the volume $|f(x,y)|$ only in the region where $\\sqrt{x^2+y^2}>0.5$ "
   ]
  },
  {
   "cell_type": "code",
   "execution_count": 126,
   "metadata": {},
   "outputs": [
    {
     "data": {
      "text/plain": [
       "<matplotlib.colorbar.Colorbar at 0x206b449c9a0>"
      ]
     },
     "execution_count": 126,
     "metadata": {},
     "output_type": "execute_result"
    },
    {
     "data": {
      "image/png": "[encoded data removed]",
      "text/plain": [
       "<Figure size 432x288 with 2 Axes>"
      ]
     },
     "metadata": {
      "needs_background": "light"
     },
     "output_type": "display_data"
    }
   ],
   "source": [
    "x = np.linspace(-2,2,1000)\n",
    "y = np.linspace(-2,2,1000)\n",
    "xv,yv = np.meshgrid(x,y)\n",
    "f = np.exp(-xv**2-yv**2)*np.sin(xv)\n",
    "g = np.exp(-x**2-y**2)*np.sin(x)\n",
    "plt.contourf(xv,yv,f,levels=1000)\n",
    "plt.colorbar()"
   ]
  },
  {
   "cell_type": "code",
   "execution_count": 127,
   "metadata": {},
   "outputs": [
    {
     "data": {
      "text/plain": [
       "[<matplotlib.lines.Line2D at 0x206b4217df0>]"
      ]
     },
     "execution_count": 127,
     "metadata": {},
     "output_type": "execute_result"
    },
    {
     "data": {
      "image/png": "[encoded data removed]",
      "text/plain": [
       "<Figure size 432x288 with 1 Axes>"
      ]
     },
     "metadata": {
      "needs_background": "light"
     },
     "output_type": "display_data"
    }
   ],
   "source": [
    "plt.plot(x,g)"
   ]
  },
  {
   "cell_type": "code",
   "execution_count": 128,
   "metadata": {},
   "outputs": [
    {
     "data": {
      "text/plain": [
       "1.4861858145125453"
      ]
     },
     "execution_count": 128,
     "metadata": {},
     "output_type": "execute_result"
    }
   ],
   "source": [
    "np.diff(x)[0]*np.diff(y)[0]*sum(np.abs(f.ravel()))"
   ]
  },
  {
   "cell_type": "code",
   "execution_count": 129,
   "metadata": {},
   "outputs": [
    {
     "data": {
      "text/plain": [
       "92700.93306683759"
      ]
     },
     "execution_count": 129,
     "metadata": {},
     "output_type": "execute_result"
    }
   ],
   "source": [
    "sum(np.abs(f.ravel()))"
   ]
  },
  {
   "cell_type": "code",
   "execution_count": 130,
   "metadata": {},
   "outputs": [
    {
     "data": {
      "text/plain": [
       "1.344765293020408"
      ]
     },
     "execution_count": 130,
     "metadata": {},
     "output_type": "execute_result"
    }
   ],
   "source": [
    "np.diff(x)[0]*np.diff(y)[0]*sum(np.abs(f[xv**2+yv**2>0.25].ravel()))"
   ]
  },
  {
   "cell_type": "markdown",
   "metadata": {},
   "source": [
    "### Question 2\n",
    "\n",
    "After examining a circuit full of resistors, you find that the voltage at 4 specified points is given by\n",
    "\n",
    "$ 3V_1 + 2V_2 + 3V_3 + 10V_4 = 4$\n",
    "\n",
    "$ 2V_1 - 2V_2 + 5V_3 + 8V_4 = 1$\n",
    "\n",
    "$ 3V_1 + 3V_2 + 4V_3 + 9V_4 = 3$\n",
    "\n",
    "$ 3V_1 + 4V_2 - 3V_3 - 7V_4 = 2$\n",
    "\n",
    "Find all the voltages"
   ]
  },
  {
   "cell_type": "code",
   "execution_count": 131,
   "metadata": {},
   "outputs": [],
   "source": [
    "A = np.array([[3,2,3,10],[2,-2,5,8],[3,3,4,9],[3,4,-3,-7]])\n",
    "B = np.array([4,1,3,2])\n",
    "C = np.linalg.solve(A,B)"
   ]
  },
  {
   "cell_type": "code",
   "execution_count": 132,
   "metadata": {},
   "outputs": [
    {
     "data": {
      "text/plain": [
       "array([ 0.78378378,  0.03603604, -0.67567568,  0.36036036])"
      ]
     },
     "execution_count": 132,
     "metadata": {},
     "output_type": "execute_result"
    }
   ],
   "source": [
    "C"
   ]
  }
 ],
 "metadata": {
  "kernelspec": {
   "display_name": "Python 3.9.2 64-bit",
   "language": "python",
   "name": "python3"
  },
  "language_info": {
   "codemirror_mode": {
    "name": "ipython",
    "version": 3
   },
   "file_extension": ".py",
   "mimetype": "text/x-python",
   "name": "python",
   "nbconvert_exporter": "python",
   "pygments_lexer": "ipython3",
   "version": "3.9.2"
  },
  "vscode": {
   "interpreter": {
    "hash": "04d3f64a3b4064fd924ec1789481681d8cf614ac32e465ddc035ca363d369555"
   }
  }
 },
 "nbformat": 4,
 "nbformat_minor": 4
}
