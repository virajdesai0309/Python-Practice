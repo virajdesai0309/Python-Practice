{
 "cells": [
  {
   "cell_type": "code",
   "execution_count": 1,
   "id": "6697919e",
   "metadata": {},
   "outputs": [],
   "source": [
    "import pyomo.environ as pyo\n",
    "\n",
    "# create model with optional problem title\n",
    "model = pyo.ConcreteModel(\"Production Planning: Version 1\")"
   ]
  },
  {
   "cell_type": "code",
   "execution_count": 2,
   "id": "fcaec973",
   "metadata": {},
   "outputs": [
    {
     "name": "stdout",
     "output_type": "stream",
     "text": [
      "0 Declarations: \n"
     ]
    }
   ],
   "source": [
    "model.pprint()"
   ]
  },
  {
   "cell_type": "code",
   "execution_count": 3,
   "id": "a8a0f04e",
   "metadata": {},
   "outputs": [
    {
     "name": "stdout",
     "output_type": "stream",
     "text": [
      "Model 'Production Planning: Version 1'\n",
      "\n",
      "  Variables:\n",
      "    None\n",
      "\n",
      "  Objectives:\n",
      "    None\n",
      "\n",
      "  Constraints:\n",
      "    None\n"
     ]
    }
   ],
   "source": [
    "model.display()"
   ]
  },
  {
   "cell_type": "code",
   "execution_count": 4,
   "id": "0bcd1f68",
   "metadata": {},
   "outputs": [
    {
     "name": "stdout",
     "output_type": "stream",
     "text": [
      "Model 'Production Planning: Version 1'\n",
      "\n",
      "  Variables:\n",
      "    x_M : Size=1, Index=None\n",
      "        Key  : Lower : Value : Upper : Fixed : Stale : Domain\n",
      "        None :     0 :  None :  None : False :  True :  Reals\n",
      "    x_A : Size=1, Index=None\n",
      "        Key  : Lower : Value : Upper : Fixed : Stale : Domain\n",
      "        None :     0 :  None :    80 : False :  True :  Reals\n",
      "    x_B : Size=1, Index=None\n",
      "        Key  : Lower : Value : Upper : Fixed : Stale : Domain\n",
      "        None :     0 :  None :   100 : False :  True :  Reals\n",
      "    y_U : Size=1, Index=None\n",
      "        Key  : Lower : Value : Upper : Fixed : Stale : Domain\n",
      "        None :     0 :  None :    40 : False :  True :  Reals\n",
      "    y_V : Size=1, Index=None\n",
      "        Key  : Lower : Value : Upper : Fixed : Stale : Domain\n",
      "        None :     0 :  None :  None : False :  True :  Reals\n",
      "\n",
      "  Objectives:\n",
      "    None\n",
      "\n",
      "  Constraints:\n",
      "    None\n"
     ]
    }
   ],
   "source": [
    "# create decision variables\n",
    "model.x_M = pyo.Var(bounds=(0, None))\n",
    "model.x_A = pyo.Var(bounds=(0, 80))\n",
    "model.x_B = pyo.Var(bounds=(0, 100))\n",
    "\n",
    "model.y_U = pyo.Var(bounds=(0, 40))\n",
    "model.y_V = pyo.Var(bounds=(0, None))\n",
    "\n",
    "# display updated model\n",
    "model.display()"
   ]
  },
  {
   "cell_type": "code",
   "execution_count": 5,
   "id": "2b1adc8b",
   "metadata": {},
   "outputs": [
    {
     "name": "stdout",
     "output_type": "stream",
     "text": [
      "270*y_U + 210*y_V\n",
      "10*x_M + 50*x_A + 40*x_B\n"
     ]
    }
   ],
   "source": [
    "# create expressions\n",
    "model.revenue = 270 * model.y_U + 210 * model.y_V\n",
    "model.cost = 10 * model.x_M + 50 * model.x_A + 40 * model.x_B\n",
    "\n",
    "# expressions can be printed\n",
    "print(model.revenue)\n",
    "print(model.cost)"
   ]
  },
  {
   "cell_type": "code",
   "execution_count": 6,
   "id": "bb817ee4",
   "metadata": {},
   "outputs": [],
   "source": [
    "@model.Objective(sense=pyo.maximize)\n",
    "def profit(m):\n",
    "    return m.revenue - m.cost"
   ]
  },
  {
   "cell_type": "code",
   "execution_count": 7,
   "id": "98176211",
   "metadata": {},
   "outputs": [
    {
     "name": "stdout",
     "output_type": "stream",
     "text": [
      "5 Var Declarations\n",
      "    x_A : Size=1, Index=None\n",
      "        Key  : Lower : Value : Upper : Fixed : Stale : Domain\n",
      "        None :     0 :  None :    80 : False :  True :  Reals\n",
      "    x_B : Size=1, Index=None\n",
      "        Key  : Lower : Value : Upper : Fixed : Stale : Domain\n",
      "        None :     0 :  None :   100 : False :  True :  Reals\n",
      "    x_M : Size=1, Index=None\n",
      "        Key  : Lower : Value : Upper : Fixed : Stale : Domain\n",
      "        None :     0 :  None :  None : False :  True :  Reals\n",
      "    y_U : Size=1, Index=None\n",
      "        Key  : Lower : Value : Upper : Fixed : Stale : Domain\n",
      "        None :     0 :  None :    40 : False :  True :  Reals\n",
      "    y_V : Size=1, Index=None\n",
      "        Key  : Lower : Value : Upper : Fixed : Stale : Domain\n",
      "        None :     0 :  None :  None : False :  True :  Reals\n",
      "\n",
      "1 Objective Declarations\n",
      "    profit : Size=1, Index=None, Active=True\n",
      "        Key  : Active : Sense    : Expression\n",
      "        None :   True : maximize : 270*y_U + 210*y_V - (10*x_M + 50*x_A + 40*x_B)\n",
      "\n",
      "3 Constraint Declarations\n",
      "    labor_A : Size=1, Index=None, Active=True\n",
      "        Key  : Lower : Body            : Upper : Active\n",
      "        None :  -Inf : y_U + y_V - x_A :   0.0 :   True\n",
      "    labor_B : Size=1, Index=None, Active=True\n",
      "        Key  : Lower : Body              : Upper : Active\n",
      "        None :  -Inf : 2*y_U + y_V - x_B :   0.0 :   True\n",
      "    raw_materials : Size=1, Index=None, Active=True\n",
      "        Key  : Lower : Body                 : Upper : Active\n",
      "        None :  -Inf : 10*y_U + 9*y_V - x_M :   0.0 :   True\n",
      "\n",
      "9 Declarations: x_M x_A x_B y_U y_V profit raw_materials labor_A labor_B\n"
     ]
    }
   ],
   "source": [
    "@model.Constraint()\n",
    "def raw_materials(m):\n",
    "    return 10 * m.y_U + 9 * m.y_V <= m.x_M\n",
    "\n",
    "\n",
    "@model.Constraint()\n",
    "def labor_A(m):\n",
    "    return 1 * m.y_U + 1 * m.y_V <= m.x_A\n",
    "\n",
    "\n",
    "@model.Constraint()\n",
    "def labor_B(m):\n",
    "    return 2 * m.y_U + 1 * m.y_V <= m.x_B\n",
    "\n",
    "\n",
    "model.pprint()"
   ]
  },
  {
   "cell_type": "code",
   "execution_count": 9,
   "id": "f5b14eaa",
   "metadata": {},
   "outputs": [
    {
     "name": "stdout",
     "output_type": "stream",
     "text": [
      "GLPSOL: GLPK LP/MIP Solver, v4.65\n",
      "Parameter(s) specified in the command line:\n",
      " --write C:\\Users\\desai\\AppData\\Local\\Temp\\tmp4ta6jp39.glpk.raw --wglp C:\\Users\\desai\\AppData\\Local\\Temp\\tmpjtcq5pen.glpk.glp\n",
      " --cpxlp C:\\Users\\desai\\AppData\\Local\\Temp\\tmpidhz4pjc.pyomo.lp\n",
      "Reading problem data from 'C:\\Users\\desai\\AppData\\Local\\Temp\\tmpidhz4pjc.pyomo.lp'...\n",
      "3 rows, 5 columns, 9 non-zeros\n",
      "37 lines were read\n",
      "Writing problem data to 'C:\\Users\\desai\\AppData\\Local\\Temp\\tmpjtcq5pen.glpk.glp'...\n",
      "31 lines were written\n",
      "GLPK Simplex Optimizer, v4.65\n",
      "3 rows, 5 columns, 9 non-zeros\n",
      "Preprocessing...\n",
      "2 rows, 4 columns, 6 non-zeros\n",
      "Scaling...\n",
      " A: min|aij| =  1.000e+00  max|aij| =  2.000e+00  ratio =  2.000e+00\n",
      "Problem data seem to be well scaled\n",
      "Constructing initial basis...\n",
      "Size of triangular part is 2\n",
      "*     0: obj =  -0.000000000e+00 inf =   0.000e+00 (2)\n",
      "*     5: obj =   2.600000000e+03 inf =   0.000e+00 (0)\n",
      "OPTIMAL LP SOLUTION FOUND\n",
      "Time used:   0.0 secs\n",
      "Memory used: 0.0 Mb (40412 bytes)\n",
      "Writing basic solution to 'C:\\Users\\desai\\AppData\\Local\\Temp\\tmp4ta6jp39.glpk.raw'...\n",
      "17 lines were written\n"
     ]
    }
   ],
   "source": [
    "results = pyo.SolverFactory('glpk').solve(model, tee=True)"
   ]
  },
  {
   "cell_type": "code",
   "execution_count": 10,
   "id": "316122a9",
   "metadata": {},
   "outputs": [
    {
     "name": "stdout",
     "output_type": "stream",
     "text": [
      "5 Var Declarations\n",
      "    x_A : Size=1, Index=None\n",
      "        Key  : Lower : Value : Upper : Fixed : Stale : Domain\n",
      "        None :     0 :  80.0 :    80 : False : False :  Reals\n",
      "    x_B : Size=1, Index=None\n",
      "        Key  : Lower : Value : Upper : Fixed : Stale : Domain\n",
      "        None :     0 : 100.0 :   100 : False : False :  Reals\n",
      "    x_M : Size=1, Index=None\n",
      "        Key  : Lower : Value : Upper : Fixed : Stale : Domain\n",
      "        None :     0 : 740.0 :  None : False : False :  Reals\n",
      "    y_U : Size=1, Index=None\n",
      "        Key  : Lower : Value : Upper : Fixed : Stale : Domain\n",
      "        None :     0 :  20.0 :    40 : False : False :  Reals\n",
      "    y_V : Size=1, Index=None\n",
      "        Key  : Lower : Value : Upper : Fixed : Stale : Domain\n",
      "        None :     0 :  60.0 :  None : False : False :  Reals\n",
      "\n",
      "1 Objective Declarations\n",
      "    profit : Size=1, Index=None, Active=True\n",
      "        Key  : Active : Sense    : Expression\n",
      "        None :   True : maximize : 270*y_U + 210*y_V - (10*x_M + 50*x_A + 40*x_B)\n",
      "\n",
      "3 Constraint Declarations\n",
      "    labor_A : Size=1, Index=None, Active=True\n",
      "        Key  : Lower : Body            : Upper : Active\n",
      "        None :  -Inf : y_U + y_V - x_A :   0.0 :   True\n",
      "    labor_B : Size=1, Index=None, Active=True\n",
      "        Key  : Lower : Body              : Upper : Active\n",
      "        None :  -Inf : 2*y_U + y_V - x_B :   0.0 :   True\n",
      "    raw_materials : Size=1, Index=None, Active=True\n",
      "        Key  : Lower : Body                 : Upper : Active\n",
      "        None :  -Inf : 10*y_U + 9*y_V - x_M :   0.0 :   True\n",
      "\n",
      "9 Declarations: x_M x_A x_B y_U y_V profit raw_materials labor_A labor_B\n"
     ]
    }
   ],
   "source": [
    "model.pprint()"
   ]
  },
  {
   "cell_type": "code",
   "execution_count": 11,
   "id": "42f12143",
   "metadata": {},
   "outputs": [
    {
     "name": "stdout",
     "output_type": "stream",
     "text": [
      "profit : Size=1, Index=None, Active=True\n",
      "    Key  : Active : Sense    : Expression\n",
      "    None :   True : maximize : 270*y_U + 210*y_V - (10*x_M + 50*x_A + 40*x_B)\n"
     ]
    }
   ],
   "source": [
    "# display a component of the model\n",
    "model.profit.pprint()"
   ]
  },
  {
   "cell_type": "code",
   "execution_count": 12,
   "id": "413ca879",
   "metadata": {},
   "outputs": [
    {
     "data": {
      "text/plain": [
       "2600.0"
      ]
     },
     "execution_count": 12,
     "metadata": {},
     "output_type": "execute_result"
    }
   ],
   "source": [
    "pyo.value(model.profit)"
   ]
  },
  {
   "cell_type": "code",
   "execution_count": 13,
   "id": "747af0a3",
   "metadata": {},
   "outputs": [
    {
     "name": "stdout",
     "output_type": "stream",
     "text": [
      " Profit =   2600.00\n",
      "Revenue =  18000.00\n",
      "   Cost =  15400.00\n"
     ]
    }
   ],
   "source": [
    "print(f\" Profit = {pyo.value(model.profit): 9.2f}\")\n",
    "print(f\"Revenue = {pyo.value(model.revenue): 9.2f}\")\n",
    "print(f\"   Cost = {pyo.value(model.cost): 9.2f}\")"
   ]
  },
  {
   "cell_type": "code",
   "execution_count": 15,
   "id": "9fe81d42",
   "metadata": {},
   "outputs": [
    {
     "name": "stdout",
     "output_type": "stream",
     "text": [
      "x_A = 80.0\n",
      "x_B = 100.0\n",
      "x_M = 740.0\n"
     ]
    }
   ],
   "source": [
    "print(\"x_A =\", model.x_A())\n",
    "print(\"x_B =\", model.x_B())\n",
    "print(\"x_M =\", model.x_M())"
   ]
  },
  {
   "cell_type": "code",
   "execution_count": 16,
   "id": "dfacf290",
   "metadata": {},
   "outputs": [
    {
     "name": "stdout",
     "output_type": "stream",
     "text": [
      "U price      270\n",
      "U demand     40\n",
      "V price      210\n",
      "V demand     None\n"
     ]
    }
   ],
   "source": [
    "products = {\n",
    "    \"U\": {\"price\": 270, \"demand\": 40},\n",
    "    \"V\": {\"price\": 210, \"demand\": None},\n",
    "}\n",
    "\n",
    "# print data\n",
    "for product, attributes in products.items():\n",
    "    for attribute, value in attributes.items():\n",
    "        print(f\"{product} {attribute:10s} {value}\")"
   ]
  },
  {
   "cell_type": "code",
   "execution_count": 17,
   "id": "af76c548",
   "metadata": {},
   "outputs": [
    {
     "name": "stdout",
     "output_type": "stream",
     "text": [
      "M        price      10\n",
      "M        available  None\n",
      "labor A  price      50\n",
      "labor A  available  80\n",
      "labor B  price      40\n",
      "labor B  available  100\n"
     ]
    }
   ],
   "source": [
    "resources = {\n",
    "    \"M\": {\"price\": 10, \"available\": None},\n",
    "    \"labor A\": {\"price\": 50, \"available\": 80},\n",
    "    \"labor B\": {\"price\": 40, \"available\": 100},\n",
    "}\n",
    "\n",
    "for resource, attributes in resources.items():\n",
    "    for attribute, value in attributes.items():\n",
    "        print(f\"{resource:8s} {attribute:10s} {value}\")"
   ]
  },
  {
   "cell_type": "code",
   "execution_count": 18,
   "id": "19151cae",
   "metadata": {},
   "outputs": [
    {
     "name": "stdout",
     "output_type": "stream",
     "text": [
      "U    M          10\n",
      "U    labor A    1\n",
      "U    labor B    2\n",
      "V    M          9\n",
      "V    labor A    1\n",
      "V    labor B    1\n"
     ]
    }
   ],
   "source": [
    "processes = {\n",
    "    \"U\": {\"M\": 10, \"labor A\": 1, \"labor B\": 2},\n",
    "    \"V\": {\"M\": 9, \"labor A\": 1, \"labor B\": 1},\n",
    "}\n",
    "\n",
    "for product, process in processes.items():\n",
    "    for resource, value in process.items():\n",
    "        print(f\"{product:4s} {resource:10s} {value}\")"
   ]
  },
  {
   "cell_type": "code",
   "execution_count": 22,
   "id": "27991555",
   "metadata": {},
   "outputs": [
    {
     "name": "stdout",
     "output_type": "stream",
     "text": [
      "Profit = 2600.0\n",
      "\n",
      "Production Report\n",
      " U  produced =  20.0\n",
      " V  produced =  60.0\n",
      "\n",
      "Resource Report\n",
      " M consumed = 740.0\n",
      " labor A consumed = 80.0\n",
      " labor B consumed = 100.0\n"
     ]
    }
   ],
   "source": [
    "class ProductionModel(pyo.ConcreteModel):\n",
    "    \"\"\"\n",
    "    A class representing a production model using Pyomo.\n",
    "    \"\"\"\n",
    "\n",
    "    def __init__(self, products, resources, processes):\n",
    "        \"\"\"\n",
    "        Initialize ProductionModel as an instance of a ConcreteModel.\n",
    "\n",
    "        :param products: A dictionary containing product information.\n",
    "        :param resources: A dictionary containing resource information.\n",
    "        :param processes: A dictionary containing process information.\n",
    "        \"\"\"\n",
    "        super().__init__(\"Production Model\")\n",
    "\n",
    "        # save data in the model instance\n",
    "        self.products = products\n",
    "        self.resources = resources\n",
    "        self.processes = processes\n",
    "\n",
    "        # flag to monitor solution status\n",
    "        self.solved = False\n",
    "\n",
    "    def build_model(self):\n",
    "        \"\"\"\n",
    "        Build the optimization model.\n",
    "        \"\"\"\n",
    "        # access the model\n",
    "        model = self.model()\n",
    "\n",
    "        # create sets to index variables and constraints\n",
    "        model.PRODUCTS = self.products.keys()\n",
    "        model.RESOURCES = self.resources.keys()\n",
    "\n",
    "        # decision variables\n",
    "        model.x = pyo.Var(\n",
    "            model.RESOURCES,\n",
    "            bounds=lambda model, resource: (0, self.resources[resource][\"available\"]),\n",
    "        )\n",
    "        model.y = pyo.Var(\n",
    "            model.PRODUCTS,\n",
    "            bounds=lambda model, product: (0, self.products[product][\"demand\"]),\n",
    "        )\n",
    "\n",
    "        # use expressions to break up complex objectives\n",
    "        model.revenue = pyo.quicksum(\n",
    "            self.products[product][\"price\"] * model.y[product]\n",
    "            for product in model.products\n",
    "        )\n",
    "        model.cost = pyo.quicksum(\n",
    "            self.resources[resource][\"price\"] * model.x[resource]\n",
    "            for resource in model.resources\n",
    "        )\n",
    "\n",
    "        # create objective\n",
    "        @model.Objective(sense=pyo.maximize)\n",
    "        def profit(model):\n",
    "            return model.revenue - model.cost\n",
    "\n",
    "        # create indexed constraint\n",
    "        @model.Constraint(model.RESOURCES)\n",
    "        def materials_used(model, resource):\n",
    "            return (\n",
    "                pyo.quicksum(\n",
    "                    self.processes[product][resource] * model.y[product]\n",
    "                    for product in model.PRODUCTS\n",
    "                )\n",
    "                <= model.x[resource]\n",
    "            )\n",
    "\n",
    "    def solve(self, solver=pyo.SolverFactory(\"glpk\")):\n",
    "        \"\"\"\n",
    "        Buildthe model, if necessary, then solve the optimization model.\n",
    "        \"\"\"\n",
    "        self.build_model()\n",
    "        solver.solve(self)\n",
    "        self.solved = True\n",
    "\n",
    "    def report(self):\n",
    "        \"\"\"\n",
    "        Solve, if necessary, then report the model solution.\n",
    "        \"\"\"\n",
    "        if not self.solved:\n",
    "            self.solve(pyo.SolverFactory(\"glpk\"))\n",
    "        print(f\"Profit = {pyo.value(self.profit)}\")\n",
    "        print(\"\\nProduction Report\")\n",
    "        for product in self.PRODUCTS:\n",
    "            print(f\" {product}  produced =  {pyo.value(self.y[product])}\")\n",
    "        print(\"\\nResource Report\")\n",
    "        for resource in self.RESOURCES:\n",
    "            print(f\" {resource} consumed = {pyo.value(self.x[resource])}\")\n",
    "\n",
    "\n",
    "m = ProductionModel(products, resources, processes)\n",
    "m.report()"
   ]
  }
 ],
 "metadata": {
  "kernelspec": {
   "display_name": "Python 3",
   "language": "python",
   "name": "python3"
  },
  "language_info": {
   "codemirror_mode": {
    "name": "ipython",
    "version": 3
   },
   "file_extension": ".py",
   "mimetype": "text/x-python",
   "name": "python",
   "nbconvert_exporter": "python",
   "pygments_lexer": "ipython3",
   "version": "3.12.4"
  }
 },
 "nbformat": 4,
 "nbformat_minor": 5
}
