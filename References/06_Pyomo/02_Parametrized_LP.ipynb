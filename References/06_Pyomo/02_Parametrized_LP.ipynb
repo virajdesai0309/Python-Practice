{
 "cells": [
  {
   "cell_type": "markdown",
   "id": "cc10329e",
   "metadata": {},
   "source": [
    "### 📦 **Example 2 – Parametrized LP**\n",
    "\n",
    "**Problem description:**\n",
    "You have multiple products and resources:\n",
    "\n",
    "* Each product has a profit.\n",
    "* Each resource has a limit.\n",
    "* Each product consumes resources at a certain rate.\n"
   ]
  },
  {
   "cell_type": "code",
   "execution_count": null,
   "id": "bc50ac8c",
   "metadata": {},
   "outputs": [],
   "source": [
    "# Sets\n",
    "\"\"\"\n",
    "A simple linear programming example using Pyomo to maximize profit from product manufacturing.\n",
    "\"\"\"\n",
    "products = ['A', 'B', 'C']\n",
    "resources = ['R1', 'R2']\n",
    "\n",
    "# Parameters\n",
    "\"\"\"\n",
    "Product profits, resource limits, and consumption rates.\n",
    "\"\"\"\n",
    "profits = {'A': 40, 'B': 30, 'C': 50}\n",
    "resource_limits = {'R1': 100, 'R2': 80}\n",
    "consumption = {\n",
    "    ('A','R1'): 2, ('A','R2'): 1,\n",
    "    ('B','R1'): 1, ('B','R2'): 2,\n",
    "    ('C','R1'): 3, ('C','R2'): 1\n",
    "}"
   ]
  },
  {
   "cell_type": "code",
   "execution_count": 2,
   "id": "e7de3af4",
   "metadata": {},
   "outputs": [
    {
     "name": "stdout",
     "output_type": "stream",
     "text": [
      "GLPSOL: GLPK LP/MIP Solver, v4.65\n",
      "Parameter(s) specified in the command line:\n",
      " --write C:\\Users\\desai\\AppData\\Local\\Temp\\tmp97slojhb.glpk.raw --wglp C:\\Users\\desai\\AppData\\Local\\Temp\\tmpdpzajqmn.glpk.glp\n",
      " --cpxlp C:\\Users\\desai\\AppData\\Local\\Temp\\tmp1xax9a7o.pyomo.lp\n",
      "Reading problem data from 'C:\\Users\\desai\\AppData\\Local\\Temp\\tmp1xax9a7o.pyomo.lp'...\n",
      "2 rows, 3 columns, 6 non-zeros\n",
      "27 lines were read\n",
      "Writing problem data to 'C:\\Users\\desai\\AppData\\Local\\Temp\\tmpdpzajqmn.glpk.glp'...\n",
      "19 lines were written\n",
      "GLPK Simplex Optimizer, v4.65\n",
      "2 rows, 3 columns, 6 non-zeros\n",
      "Preprocessing...\n",
      "2 rows, 3 columns, 6 non-zeros\n",
      "Scaling...\n",
      " A: min|aij| =  1.000e+00  max|aij| =  3.000e+00  ratio =  3.000e+00\n",
      "Problem data seem to be well scaled\n",
      "Constructing initial basis...\n",
      "Size of triangular part is 2\n",
      "*     0: obj =  -0.000000000e+00 inf =   0.000e+00 (3)\n",
      "*     3: obj =   2.200000000e+03 inf =   0.000e+00 (0)\n",
      "OPTIMAL LP SOLUTION FOUND\n",
      "Time used:   0.0 secs\n",
      "Memory used: 0.0 Mb (32380 bytes)\n",
      "Writing basic solution to 'C:\\Users\\desai\\AppData\\Local\\Temp\\tmp97slojhb.glpk.raw'...\n",
      "14 lines were written\n",
      "Optimal production quantities:\n",
      "  A: 40.0\n",
      "  B: 20.0\n",
      "  C: 0.0\n",
      "Total Profit: 2200.0\n"
     ]
    }
   ],
   "source": [
    "from pyomo.environ import ConcreteModel, Var, Objective, Constraint, SolverFactory, NonNegativeReals, maximize, Set, Param\n",
    "\n",
    "# Create the model\n",
    "model = ConcreteModel()\n",
    "\n",
    "# Sets\n",
    "model.PRODUCTS = Set(initialize=products)\n",
    "model.RESOURCES = Set(initialize=resources)\n",
    "\n",
    "# Parameters\n",
    "model.profit = Param(model.PRODUCTS, initialize=profits)\n",
    "model.resource_limit = Param(model.RESOURCES, initialize=resource_limits)\n",
    "model.consumption = Param(model.PRODUCTS, model.RESOURCES, initialize=consumption)\n",
    "\n",
    "# Variables\n",
    "model.production = Var(model.PRODUCTS, domain=NonNegativeReals)\n",
    "\n",
    "# Objective\n",
    "model.total_profit = Objective(expr = sum(model.profit[p] * model.production[p] for p in model.PRODUCTS), sense=maximize)\n",
    "\n",
    "# Constraints\n",
    "def resource_rule(model, r):\n",
    "    return sum(model.consumption[p, r] * model.production[p] for p in model.PRODUCTS) <= model.resource_limit[r]\n",
    "model.resource_constraint = Constraint(model.RESOURCES, rule=resource_rule)\n",
    "\n",
    "# Solve\n",
    "solver = SolverFactory('glpk')\n",
    "result = solver.solve(model, tee=True)\n",
    "\n",
    "# Print results\n",
    "print(\"Optimal production quantities:\")\n",
    "for p in model.PRODUCTS:\n",
    "    print(f\"  {p}: {model.production[p].value}\")\n",
    "print(\"Total Profit:\", model.total_profit())\n"
   ]
  }
 ],
 "metadata": {
  "kernelspec": {
   "display_name": "Python 3",
   "language": "python",
   "name": "python3"
  },
  "language_info": {
   "codemirror_mode": {
    "name": "ipython",
    "version": 3
   },
   "file_extension": ".py",
   "mimetype": "text/x-python",
   "name": "python",
   "nbconvert_exporter": "python",
   "pygments_lexer": "ipython3",
   "version": "3.12.4"
  }
 },
 "nbformat": 4,
 "nbformat_minor": 5
}
