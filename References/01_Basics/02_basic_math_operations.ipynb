{
 "cells": [
  {
   "cell_type": "markdown",
   "id": "06a2ad66",
   "metadata": {},
   "source": [
    "# 02_basic_math_operations.ipynb\n",
    "\n",
    "1. Introduction\n",
    "\n",
    "Short note: “In this notebook, we will learn basic mathematical operations in Python, using examples relevant to chemical engineering such as unit conversions, mass balance, and energy calculations.”\n",
    "\n",
    "---\n",
    "\n",
    "2. Arithmetic Operators in Python\n",
    "\n",
    "Explain with a table:\n",
    "\n",
    "| Operator | Description              | Example  |\n",
    "| -------- | ------------------------ | -------- |\n",
    "| `+`      | Addition                 | `a + b`  |\n",
    "| `-`      | Subtraction              | `a - b`  |\n",
    "| `*`      | Multiplication           | `a * b`  |\n",
    "| `/`      | Division (float)         | `a / b`  |\n",
    "| `//`     | Floor Division (integer) | `a // b` |\n",
    "| `%`      | Modulus (remainder)      | `a % b`  |\n",
    "| `**`     | Exponentiation           | `a ** b` |\n",
    "\n",
    "---\n",
    "3. Simple Examples\n"
   ]
  },
  {
   "cell_type": "code",
   "execution_count": 1,
   "id": "3b2d5a1e",
   "metadata": {},
   "outputs": [
    {
     "name": "stdout",
     "output_type": "stream",
     "text": [
      "Pressure drop: 1.7999999999999998 bar\n"
     ]
    }
   ],
   "source": [
    "# Example: Pressure drop calculation\n",
    "P1 = 5.0   # bar\n",
    "P2 = 3.2   # bar\n",
    "delta_P = P1 - P2\n",
    "print(\"Pressure drop:\", delta_P, \"bar\")\n"
   ]
  },
  {
   "cell_type": "markdown",
   "id": "b1a4700c",
   "metadata": {},
   "source": [
    "4. Addition & Subtraction"
   ]
  },
  {
   "cell_type": "code",
   "execution_count": 2,
   "id": "e358b91c",
   "metadata": {},
   "outputs": [
    {
     "name": "stdout",
     "output_type": "stream",
     "text": [
      "Net Heat Gain: 250 kW\n"
     ]
    }
   ],
   "source": [
    "# Heat gained = Heat in - Heat out\n",
    "Q_in = 1500  # kW\n",
    "Q_out = 1250 # kW\n",
    "Q_gain = Q_in - Q_out\n",
    "print(\"Net Heat Gain:\", Q_gain, \"kW\")\n"
   ]
  },
  {
   "cell_type": "markdown",
   "id": "21a0f73f",
   "metadata": {},
   "source": [
    "5. Multiplication & Division"
   ]
  },
  {
   "cell_type": "code",
   "execution_count": 3,
   "id": "e6cc6e3d",
   "metadata": {},
   "outputs": [
    {
     "name": "stdout",
     "output_type": "stream",
     "text": [
      "Mass flow rate (kg/h): 11978.400000000001\n"
     ]
    }
   ],
   "source": [
    "# Mass flow rate calculation\n",
    "density = 998.2   # kg/m³\n",
    "vol_flow = 12     # m³/h\n",
    "mass_flow = density * vol_flow\n",
    "print(\"Mass flow rate (kg/h):\", mass_flow)\n"
   ]
  },
  {
   "cell_type": "markdown",
   "id": "9ca44aad",
   "metadata": {},
   "source": [
    "6. Exponentiation"
   ]
  },
  {
   "cell_type": "code",
   "execution_count": 4,
   "id": "81f66a89",
   "metadata": {},
   "outputs": [
    {
     "name": "stdout",
     "output_type": "stream",
     "text": [
      "Pipe cross-sectional area: 0.19634954084936207 m²\n"
     ]
    }
   ],
   "source": [
    "# Example: Area of a circle (pipe cross-section)\n",
    "import math\n",
    "diameter = 0.5  # m\n",
    "area = math.pi * (diameter / 2) ** 2\n",
    "print(\"Pipe cross-sectional area:\", area, \"m²\")\n"
   ]
  },
  {
   "cell_type": "markdown",
   "id": "64bea1e9",
   "metadata": {},
   "source": [
    "7. Floor Division and Modulus"
   ]
  },
  {
   "cell_type": "code",
   "execution_count": 5,
   "id": "e04b00a5",
   "metadata": {},
   "outputs": [
    {
     "name": "stdout",
     "output_type": "stream",
     "text": [
      "Full cycles: 6 Remaining time: 5 hours\n"
     ]
    }
   ],
   "source": [
    "# Example: Batch process cycle counting\n",
    "total_time = 53  # hours\n",
    "cycle_time = 8   # hours\n",
    "num_full_cycles = total_time // cycle_time\n",
    "remaining_time = total_time % cycle_time\n",
    "print(\"Full cycles:\", num_full_cycles, \"Remaining time:\", remaining_time, \"hours\")\n"
   ]
  },
  {
   "cell_type": "markdown",
   "id": "ebf3627c",
   "metadata": {},
   "source": [
    "8. Practical Chemical Engineering Example\n",
    "\n",
    "Example: Pump power calculation."
   ]
  },
  {
   "cell_type": "code",
   "execution_count": 6,
   "id": "0a2fb1e5",
   "metadata": {},
   "outputs": [
    {
     "name": "stdout",
     "output_type": "stream",
     "text": [
      "Hydraulic Power: 14715.0 W\n",
      "Brake Power: 19620.0 W\n"
     ]
    }
   ],
   "source": [
    "# Given\n",
    "flow_rate = 0.05      # m³/s\n",
    "head = 30             # m\n",
    "rho = 1000            # kg/m³\n",
    "g = 9.81              # m/s²\n",
    "efficiency = 0.75\n",
    "\n",
    "# Hydraulic power (W)\n",
    "P_hydraulic = rho * g * head * flow_rate\n",
    "# Brake power (W)\n",
    "P_brake = P_hydraulic / efficiency\n",
    "\n",
    "print(\"Hydraulic Power:\", P_hydraulic, \"W\")\n",
    "print(\"Brake Power:\", P_brake, \"W\")\n"
   ]
  },
  {
   "cell_type": "markdown",
   "id": "762dbbc7",
   "metadata": {},
   "source": [
    "9. Order of Operations (BODMAS)"
   ]
  },
  {
   "cell_type": "code",
   "execution_count": 7,
   "id": "44461f7c",
   "metadata": {},
   "outputs": [
    {
     "name": "stdout",
     "output_type": "stream",
     "text": [
      "17\n"
     ]
    }
   ],
   "source": [
    "result = 5 + 3 * 2 ** 2\n",
    "print(result)  # 17\n"
   ]
  },
  {
   "cell_type": "markdown",
   "id": "cb07e19d",
   "metadata": {},
   "source": [
    "Explain how Python follows Parentheses → Exponent → Multiplication/Division → Addition/Subtraction."
   ]
  }
 ],
 "metadata": {
  "kernelspec": {
   "display_name": "Python 3",
   "language": "python",
   "name": "python3"
  },
  "language_info": {
   "codemirror_mode": {
    "name": "ipython",
    "version": 3
   },
   "file_extension": ".py",
   "mimetype": "text/x-python",
   "name": "python",
   "nbconvert_exporter": "python",
   "pygments_lexer": "ipython3",
   "version": "3.12.4"
  }
 },
 "nbformat": 4,
 "nbformat_minor": 5
}
