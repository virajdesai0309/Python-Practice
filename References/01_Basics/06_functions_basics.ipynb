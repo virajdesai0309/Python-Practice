{
 "cells": [
  {
   "cell_type": "markdown",
   "id": "c0674238",
   "metadata": {},
   "source": [
    "# 06_functions_basics.ipynb\n",
    "\n",
    "1. Introduction\n",
    "\n",
    "“Functions help us group reusable blocks of code so we don’t repeat ourselves. In chemical engineering, functions can be used to make property calculators, sizing formulas, and report generators.”\n",
    "\n",
    "---\n",
    "\n",
    "2. Defining and Calling a Function"
   ]
  },
  {
   "cell_type": "code",
   "execution_count": 1,
   "id": "9f83bef7",
   "metadata": {},
   "outputs": [
    {
     "name": "stdout",
     "output_type": "stream",
     "text": [
      "Welcome to Python for Chemical Engineers!\n"
     ]
    }
   ],
   "source": [
    "def greet():\n",
    "    print(\"Welcome to Python for Chemical Engineers!\")\n",
    "\n",
    "greet()"
   ]
  },
  {
   "cell_type": "markdown",
   "id": "a9393720",
   "metadata": {},
   "source": [
    "3. Functions with Parameters"
   ]
  },
  {
   "cell_type": "code",
   "execution_count": 2,
   "id": "9c9cf1d7",
   "metadata": {},
   "outputs": [
    {
     "name": "stdout",
     "output_type": "stream",
     "text": [
      "Reynolds Number: 124775\n"
     ]
    }
   ],
   "source": [
    "def reynolds_number(rho, v, D, mu):\n",
    "    \"\"\"\n",
    "    Calculate Reynolds number.\n",
    "    rho: Density (kg/m³)\n",
    "    v: Velocity (m/s)\n",
    "    D: Diameter (m)\n",
    "    mu: Viscosity (Pa·s)\n",
    "    \"\"\"\n",
    "    Re = (rho * v * D) / mu\n",
    "    return Re\n",
    "\n",
    "# Example\n",
    "Re = reynolds_number(998.2, 2.5, 0.05, 0.001)\n",
    "print(f\"Reynolds Number: {Re:.0f}\")\n"
   ]
  },
  {
   "cell_type": "markdown",
   "id": "1855ed27",
   "metadata": {},
   "source": [
    "4. Functions with Default Parameters"
   ]
  },
  {
   "cell_type": "code",
   "execution_count": 3,
   "id": "be5d5ddd",
   "metadata": {},
   "outputs": [
    {
     "name": "stdout",
     "output_type": "stream",
     "text": [
      "Pump Brake Power: 19620.00 W\n"
     ]
    }
   ],
   "source": [
    "def pump_power(flow_rate_m3s, head_m, rho=1000, g=9.81, efficiency=0.75):\n",
    "    \"\"\"\n",
    "    Calculate pump brake power in Watts.\n",
    "    \"\"\"\n",
    "    P_hydraulic = rho * g * head_m * flow_rate_m3s\n",
    "    P_brake = P_hydraulic / efficiency\n",
    "    return P_brake\n",
    "\n",
    "# Using default density, g, and efficiency\n",
    "power = pump_power(0.05, 30)\n",
    "print(f\"Pump Brake Power: {power:.2f} W\")\n"
   ]
  },
  {
   "cell_type": "markdown",
   "id": "ca8a9472",
   "metadata": {},
   "source": [
    "5. Multiple Return Values"
   ]
  },
  {
   "cell_type": "code",
   "execution_count": 4,
   "id": "8a354335",
   "metadata": {},
   "outputs": [
    {
     "name": "stdout",
     "output_type": "stream",
     "text": [
      "Heat Duty: 574.75 kW, 494285 kcal/h\n"
     ]
    }
   ],
   "source": [
    "def heat_duty(m_dot, cp, T_in, T_out):\n",
    "    \"\"\"\n",
    "    Calculate heat duty.\n",
    "    Returns: duty in kW and duty in kcal/h.\n",
    "    \"\"\"\n",
    "    duty_kw = m_dot * cp * (T_out - T_in) / 1000\n",
    "    duty_kcalh = duty_kw * 860\n",
    "    return duty_kw, duty_kcalh\n",
    "\n",
    "Q_kw, Q_kcalh = heat_duty(2.5, 4180, 25, 80)\n",
    "print(f\"Heat Duty: {Q_kw:.2f} kW, {Q_kcalh:.0f} kcal/h\")\n"
   ]
  },
  {
   "cell_type": "markdown",
   "id": "148e11aa",
   "metadata": {},
   "source": [
    "6. Docstrings and Help"
   ]
  },
  {
   "cell_type": "code",
   "execution_count": 5,
   "id": "6aa46965",
   "metadata": {},
   "outputs": [
    {
     "name": "stdout",
     "output_type": "stream",
     "text": [
      "Help on function reynolds_number in module __main__:\n",
      "\n",
      "reynolds_number(rho, v, D, mu)\n",
      "    Calculate Reynolds number.\n",
      "    rho: Density (kg/m³)\n",
      "    v: Velocity (m/s)\n",
      "    D: Diameter (m)\n",
      "    mu: Viscosity (Pa·s)\n",
      "\n"
     ]
    }
   ],
   "source": [
    "help(reynolds_number)\n"
   ]
  },
  {
   "cell_type": "markdown",
   "id": "1c4ec139",
   "metadata": {},
   "source": [
    "7. Practical Chemical Engineering Example"
   ]
  },
  {
   "cell_type": "code",
   "execution_count": 6,
   "id": "a8e9ffc5",
   "metadata": {},
   "outputs": [
    {
     "name": "stdout",
     "output_type": "stream",
     "text": [
      "Feed Water: 25.0 °C, 1.20 bar, 12 m³/h\n",
      "Cooling Water: 18.0 °C, 1.00 bar, 15 m³/h\n",
      "Steam: 180.0 °C, 10.00 bar, 3 m³/h\n"
     ]
    }
   ],
   "source": [
    "def stream_summary(name, T, P, flow):\n",
    "    return f\"{name}: {T:.1f} °C, {P:.2f} bar, {flow} m³/h\"\n",
    "\n",
    "# Multiple streams\n",
    "streams = [\n",
    "    stream_summary(\"Feed Water\", 25, 1.2, 12),\n",
    "    stream_summary(\"Cooling Water\", 18, 1.0, 15),\n",
    "    stream_summary(\"Steam\", 180, 10, 3)\n",
    "]\n",
    "\n",
    "for s in streams:\n",
    "    print(s)\n"
   ]
  }
 ],
 "metadata": {
  "kernelspec": {
   "display_name": "Python 3",
   "language": "python",
   "name": "python3"
  },
  "language_info": {
   "codemirror_mode": {
    "name": "ipython",
    "version": 3
   },
   "file_extension": ".py",
   "mimetype": "text/x-python",
   "name": "python",
   "nbconvert_exporter": "python",
   "pygments_lexer": "ipython3",
   "version": "3.12.4"
  }
 },
 "nbformat": 4,
 "nbformat_minor": 5
}
