{
 "cells": [
  {
   "cell_type": "markdown",
   "id": "ab20c082",
   "metadata": {},
   "source": [
    "# 04_lists_tuples_dicts.ipynb\n",
    "\n",
    "1. Introduction\n",
    "\n",
    "“In this notebook, we’ll explore three fundamental Python data structures: lists, tuples, and dictionaries, using examples from chemical engineering such as process stream data, equipment parameters, and plant records.”\n",
    "\n",
    "---\n",
    "\n",
    "2. Lists\n",
    "\n",
    "- Definition: Ordered, changeable, allows duplicates.\n",
    "\n",
    "- Example: List of stream names.\n"
   ]
  },
  {
   "cell_type": "code",
   "execution_count": 1,
   "id": "cdb2ad11",
   "metadata": {},
   "outputs": [
    {
     "name": "stdout",
     "output_type": "stream",
     "text": [
      "['Feed Water', 'Cooling Water', 'Process Air']\n",
      "<class 'list'>\n"
     ]
    }
   ],
   "source": [
    "streams = [\"Feed Water\", \"Cooling Water\", \"Process Air\"]\n",
    "print(streams)\n",
    "print(type(streams))\n"
   ]
  },
  {
   "cell_type": "markdown",
   "id": "fcabfcc4",
   "metadata": {},
   "source": [
    "Accessing elements"
   ]
  },
  {
   "cell_type": "code",
   "execution_count": 3,
   "id": "a0a15e9e",
   "metadata": {},
   "outputs": [
    {
     "name": "stdout",
     "output_type": "stream",
     "text": [
      "Feed Water\n",
      "Process Air\n"
     ]
    }
   ],
   "source": [
    "print(streams[0])   # First stream\n",
    "print(streams[-1])  # Last stream\n"
   ]
  },
  {
   "cell_type": "markdown",
   "id": "a3929460",
   "metadata": {},
   "source": [
    "Modifying lists"
   ]
  },
  {
   "cell_type": "code",
   "execution_count": 4,
   "id": "035dd1b7",
   "metadata": {},
   "outputs": [
    {
     "name": "stdout",
     "output_type": "stream",
     "text": [
      "['Feed Water', 'Chilled Water', 'Process Air']\n"
     ]
    }
   ],
   "source": [
    "streams[1] = \"Chilled Water\"\n",
    "print(streams)\n"
   ]
  },
  {
   "cell_type": "markdown",
   "id": "65140006",
   "metadata": {},
   "source": [
    "Adding and removing elements"
   ]
  },
  {
   "cell_type": "code",
   "execution_count": 5,
   "id": "646ca787",
   "metadata": {},
   "outputs": [
    {
     "name": "stdout",
     "output_type": "stream",
     "text": [
      "['Feed Water', 'Chilled Water', 'Steam']\n"
     ]
    }
   ],
   "source": [
    "streams.append(\"Steam\")\n",
    "streams.remove(\"Process Air\")\n",
    "print(streams)\n"
   ]
  },
  {
   "cell_type": "markdown",
   "id": "557cbc64",
   "metadata": {},
   "source": [
    "Useful list methods"
   ]
  },
  {
   "cell_type": "code",
   "execution_count": 6,
   "id": "88db2073",
   "metadata": {},
   "outputs": [
    {
     "name": "stdout",
     "output_type": "stream",
     "text": [
      "['Steam', 'Feed Water', 'Chilled Water']\n"
     ]
    }
   ],
   "source": [
    "streams.sort()\n",
    "streams.reverse()\n",
    "print(streams)\n"
   ]
  },
  {
   "cell_type": "markdown",
   "id": "a1ed241b",
   "metadata": {},
   "source": [
    "3. Tuples\n",
    "\n",
    "- Definition: Ordered, unchangeable, allows duplicates.\n",
    "\n",
    "- Example: Equipment dimensions."
   ]
  },
  {
   "cell_type": "code",
   "execution_count": 7,
   "id": "f1b2bc80",
   "metadata": {},
   "outputs": [
    {
     "name": "stdout",
     "output_type": "stream",
     "text": [
      "(1.2, 4.5)\n"
     ]
    }
   ],
   "source": [
    "# Diameter (m), Length (m)\n",
    "vessel_dimensions = (1.2, 4.5)\n",
    "print(vessel_dimensions)\n"
   ]
  },
  {
   "cell_type": "markdown",
   "id": "3a8c4f56",
   "metadata": {},
   "source": [
    "Tuple unpacking"
   ]
  },
  {
   "cell_type": "code",
   "execution_count": 8,
   "id": "71259335",
   "metadata": {},
   "outputs": [
    {
     "name": "stdout",
     "output_type": "stream",
     "text": [
      "Diameter: 1.2 m, Length: 4.5 m\n"
     ]
    }
   ],
   "source": [
    "diameter, length = vessel_dimensions\n",
    "print(f\"Diameter: {diameter} m, Length: {length} m\")"
   ]
  },
  {
   "cell_type": "markdown",
   "id": "63e91d8a",
   "metadata": {},
   "source": [
    "4. Dictionaries\n",
    "\n",
    "- Definition: Unordered, changeable, key–value pairs.\n",
    "\n",
    "- Example: Stream properties."
   ]
  },
  {
   "cell_type": "code",
   "execution_count": 9,
   "id": "6db66198",
   "metadata": {},
   "outputs": [
    {
     "name": "stdout",
     "output_type": "stream",
     "text": [
      "{'name': 'Feed Water', 'temperature_C': 25, 'pressure_bar': 1.2, 'flow_m3h': 12}\n",
      "Feed Water\n"
     ]
    }
   ],
   "source": [
    "stream_data = {\n",
    "    \"name\": \"Feed Water\",\n",
    "    \"temperature_C\": 25,\n",
    "    \"pressure_bar\": 1.2,\n",
    "    \"flow_m3h\": 12\n",
    "}\n",
    "print(stream_data)\n",
    "print(stream_data[\"name\"])\n"
   ]
  },
  {
   "cell_type": "markdown",
   "id": "f3133fb7",
   "metadata": {},
   "source": [
    "Adding and updating keys"
   ]
  },
  {
   "cell_type": "code",
   "execution_count": 10,
   "id": "ebe3bd10",
   "metadata": {},
   "outputs": [
    {
     "name": "stdout",
     "output_type": "stream",
     "text": [
      "{'name': 'Feed Water', 'temperature_C': 30, 'pressure_bar': 1.2, 'flow_m3h': 12, 'density_kgm3': 998.2}\n"
     ]
    }
   ],
   "source": [
    "stream_data[\"density_kgm3\"] = 998.2\n",
    "stream_data[\"temperature_C\"] = 30  # update\n",
    "print(stream_data)\n"
   ]
  },
  {
   "cell_type": "markdown",
   "id": "ab16c42e",
   "metadata": {},
   "source": [
    "Looping through dictionary"
   ]
  },
  {
   "cell_type": "code",
   "execution_count": 11,
   "id": "82e2c62f",
   "metadata": {},
   "outputs": [
    {
     "name": "stdout",
     "output_type": "stream",
     "text": [
      "name : Feed Water\n",
      "temperature_C : 30\n",
      "pressure_bar : 1.2\n",
      "flow_m3h : 12\n",
      "density_kgm3 : 998.2\n"
     ]
    }
   ],
   "source": [
    "for key, value in stream_data.items():\n",
    "    print(f\"{key} : {value}\")\n"
   ]
  },
  {
   "cell_type": "markdown",
   "id": "07d2fb72",
   "metadata": {},
   "source": [
    "5. Practical Chemical Engineering Example\n",
    "\n",
    "Store multiple streams in a list of dictionaries"
   ]
  },
  {
   "cell_type": "code",
   "execution_count": 12,
   "id": "864d82d1",
   "metadata": {},
   "outputs": [
    {
     "name": "stdout",
     "output_type": "stream",
     "text": [
      "Feed Water → Temp: 25 °C, Pressure: 1.2 bar, Flow: 12 m³/h\n",
      "Cooling Water → Temp: 18 °C, Pressure: 1.0 bar, Flow: 15 m³/h\n",
      "Process Air → Temp: 30 °C, Pressure: 5.0 bar, Flow: 8 m³/h\n"
     ]
    }
   ],
   "source": [
    "streams = [\n",
    "    {\"name\": \"Feed Water\", \"T_C\": 25, \"P_bar\": 1.2, \"flow_m3h\": 12},\n",
    "    {\"name\": \"Cooling Water\", \"T_C\": 18, \"P_bar\": 1.0, \"flow_m3h\": 15},\n",
    "    {\"name\": \"Process Air\", \"T_C\": 30, \"P_bar\": 5.0, \"flow_m3h\": 8}\n",
    "]\n",
    "\n",
    "# Print formatted stream summary\n",
    "for s in streams:\n",
    "    print(f\"{s['name']} → Temp: {s['T_C']} °C, Pressure: {s['P_bar']} bar, Flow: {s['flow_m3h']} m³/h\")\n"
   ]
  }
 ],
 "metadata": {
  "kernelspec": {
   "display_name": "Python 3",
   "language": "python",
   "name": "python3"
  },
  "language_info": {
   "codemirror_mode": {
    "name": "ipython",
    "version": 3
   },
   "file_extension": ".py",
   "mimetype": "text/x-python",
   "name": "python",
   "nbconvert_exporter": "python",
   "pygments_lexer": "ipython3",
   "version": "3.12.4"
  }
 },
 "nbformat": 4,
 "nbformat_minor": 5
}
