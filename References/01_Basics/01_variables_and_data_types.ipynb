{
 "cells": [
  {
   "cell_type": "markdown",
   "id": "220bb196",
   "metadata": {},
   "source": [
    "# 01_variables_and_data_types.ipynb\n",
    "\n",
    "1. Introduction\n",
    "\n",
    "- Short note: “In this notebook, we will learn about variables and data types in Python using examples from chemical engineering.”\n",
    "---\n",
    "2. Variables in Python\n",
    "\n",
    "Explain naming rules (letters, numbers, underscores, case-sensitive, no spaces).\n",
    "\n",
    "Example:"
   ]
  },
  {
   "cell_type": "code",
   "execution_count": 2,
   "id": "b20009d7",
   "metadata": {},
   "outputs": [
    {
     "name": "stdout",
     "output_type": "stream",
     "text": [
      "25 1.2 12\n",
      "The temperature of the stream is 25 °C\n",
      "The pressure of the stream is 1.2 bar\n",
      "The flow rate of the stream is 12 m³/h\n"
     ]
    }
   ],
   "source": [
    "# Assigning values to variables\n",
    "temperature_C = 25      # Temperature in °C\n",
    "pressure_bar = 1.2      # Pressure in bar\n",
    "flow_rate_m3_per_h = 12 # Flow rate in m³/h\n",
    "\n",
    "print(temperature_C, pressure_bar, flow_rate_m3_per_h)\n",
    "print(f\"The temperature of the stream is {temperature_C} °C\")\n",
    "print(f\"The pressure of the stream is {pressure_bar} bar\")\n",
    "print(f\"The flow rate of the stream is {flow_rate_m3_per_h} m³/h\")"
   ]
  },
  {
   "cell_type": "markdown",
   "id": "e73372d1",
   "metadata": {},
   "source": [
    "3. Data Types Overview\n",
    "\n",
    "- Integers (int): Whole numbers → number of trays in a distillation column.\n",
    "\n",
    "- Floating Point (float): Decimal numbers → temperature, density.\n",
    "\n",
    "- Strings (str): Text → stream names, units.\n",
    "\n",
    "- Boolean (bool): True/False → is the pump on?"
   ]
  },
  {
   "cell_type": "code",
   "execution_count": 3,
   "id": "2a491c2f",
   "metadata": {},
   "outputs": [
    {
     "name": "stdout",
     "output_type": "stream",
     "text": [
      "24 <class 'int'>\n",
      "998.2 <class 'float'>\n",
      "Feed Water <class 'str'>\n",
      "True <class 'bool'>\n"
     ]
    }
   ],
   "source": [
    "# Integer\n",
    "num_trays = 24\n",
    "print(num_trays, type(num_trays))\n",
    "\n",
    "# Float\n",
    "density_kg_per_m3 = 998.2\n",
    "print(density_kg_per_m3, type(density_kg_per_m3))\n",
    "\n",
    "# String\n",
    "stream_name = \"Feed Water\"\n",
    "print(stream_name, type(stream_name))\n",
    "\n",
    "# Boolean\n",
    "pump_on = True\n",
    "print(pump_on, type(pump_on))\n"
   ]
  },
  {
   "cell_type": "markdown",
   "id": "2e554df1",
   "metadata": {},
   "source": [
    "4. Type Casting\n",
    "\n",
    "- Converting between data types:"
   ]
  },
  {
   "cell_type": "code",
   "execution_count": 4,
   "id": "394d99d8",
   "metadata": {},
   "outputs": [
    {
     "name": "stdout",
     "output_type": "stream",
     "text": [
      "15.6 <class 'float'>\n"
     ]
    }
   ],
   "source": [
    "flow_rate_str = \"15.6\"        # String from a CSV file\n",
    "flow_rate_float = float(flow_rate_str)  # Convert to float\n",
    "print(flow_rate_float, type(flow_rate_float))\n"
   ]
  },
  {
   "cell_type": "markdown",
   "id": "af797f07",
   "metadata": {},
   "source": [
    "5. Multiple Assignments"
   ]
  },
  {
   "cell_type": "code",
   "execution_count": 5,
   "id": "7b34cb03",
   "metadata": {},
   "outputs": [
    {
     "name": "stdout",
     "output_type": "stream",
     "text": [
      "Inlet Temp: 25.0 °C, Outlet Temp: 80.0 °C, Heat Duty: 1500 kW\n"
     ]
    }
   ],
   "source": [
    "T_in, T_out, Q = 25.0, 80.0, 1500\n",
    "print(f\"Inlet Temp: {T_in} °C, Outlet Temp: {T_out} °C, Heat Duty: {Q} kW\")\n"
   ]
  },
  {
   "cell_type": "markdown",
   "id": "39653f44",
   "metadata": {},
   "source": [
    "6. Practical Chemical Engineering Example\n",
    "\n",
    "Example: Calculate the mass flow rate of water given density and volumetric flow rate."
   ]
  },
  {
   "cell_type": "code",
   "execution_count": 6,
   "id": "8951a942",
   "metadata": {},
   "outputs": [
    {
     "name": "stdout",
     "output_type": "stream",
     "text": [
      "Mass Flow Rate: 3.3273333333333337 kg/s\n"
     ]
    }
   ],
   "source": [
    "# Given\n",
    "density_kg_per_m3 = 998.2\n",
    "flow_rate_m3_per_h = 12\n",
    "\n",
    "# Convert to mass flow rate\n",
    "mass_flow_kg_per_h = density_kg_per_m3 * flow_rate_m3_per_h\n",
    "mass_flow_kg_per_s = mass_flow_kg_per_h / 3600\n",
    "\n",
    "print(\"Mass Flow Rate:\", mass_flow_kg_per_s, \"kg/s\")\n"
   ]
  }
 ],
 "metadata": {
  "kernelspec": {
   "display_name": "Python 3",
   "language": "python",
   "name": "python3"
  },
  "language_info": {
   "codemirror_mode": {
    "name": "ipython",
    "version": 3
   },
   "file_extension": ".py",
   "mimetype": "text/x-python",
   "name": "python",
   "nbconvert_exporter": "python",
   "pygments_lexer": "ipython3",
   "version": "3.12.4"
  }
 },
 "nbformat": 4,
 "nbformat_minor": 5
}
