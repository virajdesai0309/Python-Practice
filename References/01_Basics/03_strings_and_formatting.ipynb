{
 "cells": [
  {
   "cell_type": "markdown",
   "id": "0e4917ec",
   "metadata": {},
   "source": [
    "# 03_strings_and_formatting.ipynb\n",
    "\n",
    "1. Introduction\n",
    "\n",
    "Brief: “Strings in Python are used to store and manipulate text, such as stream names, units, and process descriptions. In this notebook, we will learn how to work with strings and format them for reports.”\n",
    "\n",
    "---\n",
    "\n",
    "2. Creating Strings"
   ]
  },
  {
   "cell_type": "code",
   "execution_count": 1,
   "id": "2ada7493",
   "metadata": {},
   "outputs": [
    {
     "name": "stdout",
     "output_type": "stream",
     "text": [
      "This is a feed stream\n",
      "entering the heat exchanger\n",
      "at 25 °C.\n"
     ]
    }
   ],
   "source": [
    "# Single quotes\n",
    "stream1 = 'Feed Water'\n",
    "\n",
    "# Double quotes\n",
    "stream2 = \"Cooling Water\"\n",
    "\n",
    "# Triple quotes for multiline strings\n",
    "description = \"\"\"This is a feed stream\n",
    "entering the heat exchanger\n",
    "at 25 °C.\"\"\"\n",
    "print(description)"
   ]
  },
  {
   "cell_type": "markdown",
   "id": "c58aca32",
   "metadata": {},
   "source": [
    "3. String Indexing and Slicing"
   ]
  },
  {
   "cell_type": "code",
   "execution_count": 2,
   "id": "696bc590",
   "metadata": {},
   "outputs": [
    {
     "name": "stdout",
     "output_type": "stream",
     "text": [
      "D\n",
      "n\n",
      "Dist\n",
      "llation\n"
     ]
    }
   ],
   "source": [
    "process = \"Distillation\"\n",
    "print(process[0])    # First letter\n",
    "print(process[-1])   # Last letter\n",
    "print(process[0:4])  # First 4 characters\n",
    "print(process[5:])   # From index 5 to end\n"
   ]
  },
  {
   "cell_type": "markdown",
   "id": "6280d75b",
   "metadata": {},
   "source": [
    "4. Common String Methods"
   ]
  },
  {
   "cell_type": "code",
   "execution_count": 3,
   "id": "07cf87d3",
   "metadata": {},
   "outputs": [
    {
     "name": "stdout",
     "output_type": "stream",
     "text": [
      "FEED GAS\n",
      "feed gas\n",
      "Feed Water\n",
      "['Feed', 'Gas']\n"
     ]
    }
   ],
   "source": [
    "stream = \"Feed Gas\"\n",
    "\n",
    "print(stream.upper())       # Uppercase\n",
    "print(stream.lower())       # Lowercase\n",
    "print(stream.replace(\"Gas\", \"Water\")) # Replace text\n",
    "print(stream.split())       # Split into list\n"
   ]
  },
  {
   "cell_type": "markdown",
   "id": "1961409a",
   "metadata": {},
   "source": [
    "5. Concatenation (Joining Strings)"
   ]
  },
  {
   "cell_type": "code",
   "execution_count": 4,
   "id": "b051ac1e",
   "metadata": {},
   "outputs": [
    {
     "name": "stdout",
     "output_type": "stream",
     "text": [
      "25 °C\n"
     ]
    }
   ],
   "source": [
    "unit = \"°C\"\n",
    "temperature = \"25\"\n",
    "output = temperature + \" \" + unit\n",
    "print(output)\n"
   ]
  },
  {
   "cell_type": "markdown",
   "id": "c7481093",
   "metadata": {},
   "source": [
    "6. String Formatting — f-Strings (Recommended)"
   ]
  },
  {
   "cell_type": "code",
   "execution_count": 5,
   "id": "765fd4a1",
   "metadata": {},
   "outputs": [
    {
     "name": "stdout",
     "output_type": "stream",
     "text": [
      "Stream: Feed Water, Temperature: 25.0 °C, Pressure: 1.2 bar\n"
     ]
    }
   ],
   "source": [
    "T = 25.0\n",
    "P = 1.2\n",
    "stream_name = \"Feed Water\"\n",
    "\n",
    "print(f\"Stream: {stream_name}, Temperature: {T} °C, Pressure: {P} bar\")\n"
   ]
  },
  {
   "cell_type": "markdown",
   "id": "1cd523e4",
   "metadata": {},
   "source": [
    "7. String Formatting — .format() Method"
   ]
  },
  {
   "cell_type": "code",
   "execution_count": 6,
   "id": "5c4145dd",
   "metadata": {},
   "outputs": [
    {
     "name": "stdout",
     "output_type": "stream",
     "text": [
      "Stream: Feed Water, Temperature: 25.0 °C, Pressure: 1.2 bar\n"
     ]
    }
   ],
   "source": [
    "print(\"Stream: {}, Temperature: {} °C, Pressure: {} bar\".format(stream_name, T, P))"
   ]
  },
  {
   "cell_type": "markdown",
   "id": "ced5ae9b",
   "metadata": {},
   "source": [
    "8. Controlling Decimal Places"
   ]
  },
  {
   "cell_type": "code",
   "execution_count": 7,
   "id": "cca28b03",
   "metadata": {},
   "outputs": [
    {
     "name": "stdout",
     "output_type": "stream",
     "text": [
      "Flow Rate: 12.35 m³/h\n"
     ]
    }
   ],
   "source": [
    "flow_rate = 12.34567\n",
    "print(f\"Flow Rate: {flow_rate:.2f} m³/h\")  # 2 decimal places"
   ]
  },
  {
   "cell_type": "markdown",
   "id": "980902a4",
   "metadata": {},
   "source": [
    "9. Practical Chemical Engineering Example\n",
    "\n",
    "Formatted Process Summary"
   ]
  },
  {
   "cell_type": "code",
   "execution_count": 8,
   "id": "84d0604f",
   "metadata": {},
   "outputs": [
    {
     "name": "stdout",
     "output_type": "stream",
     "text": [
      "\n",
      "Process Stream Report\n",
      "---------------------\n",
      "Stream Name   : Process Air\n",
      "Temperature   : 298.15 K\n",
      "Pressure      : 5.00 bar\n",
      "Flow Rate     : 1,200 Nm³/h\n",
      "\n"
     ]
    }
   ],
   "source": [
    "stream_name = \"Process Air\"\n",
    "T = 298.15  # K\n",
    "P = 5.0     # bar\n",
    "flow = 1200 # Nm³/h\n",
    "\n",
    "summary = f\"\"\"\n",
    "Process Stream Report\n",
    "---------------------\n",
    "Stream Name   : {stream_name}\n",
    "Temperature   : {T:.2f} K\n",
    "Pressure      : {P:.2f} bar\n",
    "Flow Rate     : {flow:,} Nm³/h\n",
    "\"\"\"\n",
    "\n",
    "print(summary)\n"
   ]
  },
  {
   "cell_type": "markdown",
   "id": "ff8326c9",
   "metadata": {},
   "source": [
    "10. Escape Characters"
   ]
  },
  {
   "cell_type": "code",
   "execution_count": 9,
   "id": "b09019f5",
   "metadata": {},
   "outputs": [
    {
     "name": "stdout",
     "output_type": "stream",
     "text": [
      "This is line 1\n",
      "This is line 2\n",
      "Column A\tColumn B\n",
      "He said, \"Pump is running\"\n"
     ]
    }
   ],
   "source": [
    "print(\"This is line 1\\nThis is line 2\")  # New line\n",
    "print(\"Column A\\tColumn B\")              # Tab\n",
    "print(\"He said, \\\"Pump is running\\\"\")    # Quotes\n"
   ]
  }
 ],
 "metadata": {
  "kernelspec": {
   "display_name": "Python 3",
   "language": "python",
   "name": "python3"
  },
  "language_info": {
   "codemirror_mode": {
    "name": "ipython",
    "version": 3
   },
   "file_extension": ".py",
   "mimetype": "text/x-python",
   "name": "python",
   "nbconvert_exporter": "python",
   "pygments_lexer": "ipython3",
   "version": "3.12.4"
  }
 },
 "nbformat": 4,
 "nbformat_minor": 5
}
