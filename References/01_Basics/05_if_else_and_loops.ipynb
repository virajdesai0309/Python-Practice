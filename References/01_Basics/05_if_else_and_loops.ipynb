{
 "cells": [
  {
   "cell_type": "markdown",
   "id": "513a10ba",
   "metadata": {},
   "source": [
    "# 05_if_else_and_loops.ipynb\n",
    "\n",
    "1. Introduction\n",
    "\n",
    "\n",
    "    “In this notebook, we will learn how to use if–else statements and loops in Python, which are essential for decision-making and repetitive tasks in chemical engineering — such as safety checks, process control logic, and batch calculations.”\n",
    "\n",
    "---\n",
    "\n",
    "Part 1 – If–Else Statements\n",
    "\n",
    "2. Basic If Statement"
   ]
  },
  {
   "cell_type": "code",
   "execution_count": 1,
   "id": "66abaea1",
   "metadata": {},
   "outputs": [
    {
     "name": "stdout",
     "output_type": "stream",
     "text": [
      "Warning: Temperature above boiling point of water!\n"
     ]
    }
   ],
   "source": [
    "temperature = 120  # °C\n",
    "\n",
    "if temperature > 100:\n",
    "    print(\"Warning: Temperature above boiling point of water!\")\n"
   ]
  },
  {
   "cell_type": "markdown",
   "id": "089de1bb",
   "metadata": {},
   "source": [
    "3. If–Else Example"
   ]
  },
  {
   "cell_type": "code",
   "execution_count": 2,
   "id": "d5280b56",
   "metadata": {},
   "outputs": [
    {
     "name": "stdout",
     "output_type": "stream",
     "text": [
      "Pressure within safe limit.\n"
     ]
    }
   ],
   "source": [
    "pressure = 1.5  # bar\n",
    "\n",
    "if pressure > 2:\n",
    "    print(\"Pressure too high!\")\n",
    "else:\n",
    "    print(\"Pressure within safe limit.\")\n"
   ]
  },
  {
   "cell_type": "markdown",
   "id": "63fd6fbb",
   "metadata": {},
   "source": [
    "4. If–Elif–Else Example"
   ]
  },
  {
   "cell_type": "code",
   "execution_count": 3,
   "id": "e14c04fb",
   "metadata": {},
   "outputs": [
    {
     "name": "stdout",
     "output_type": "stream",
     "text": [
      "Flow rate normal.\n"
     ]
    }
   ],
   "source": [
    "flow_rate = 8  # m³/h\n",
    "\n",
    "if flow_rate < 5:\n",
    "    print(\"Low flow alarm!\")\n",
    "elif flow_rate > 15:\n",
    "    print(\"High flow alarm!\")\n",
    "else:\n",
    "    print(\"Flow rate normal.\")\n"
   ]
  },
  {
   "cell_type": "markdown",
   "id": "a15b4c80",
   "metadata": {},
   "source": [
    "5. Logical Operators in Conditions"
   ]
  },
  {
   "cell_type": "code",
   "execution_count": 4,
   "id": "479a0f6a",
   "metadata": {},
   "outputs": [
    {
     "name": "stdout",
     "output_type": "stream",
     "text": [
      "System operating under high temperature and pressure.\n"
     ]
    }
   ],
   "source": [
    "T = 85   # °C\n",
    "P = 1.2  # bar\n",
    "\n",
    "if T > 80 and P > 1:\n",
    "    print(\"System operating under high temperature and pressure.\")\n"
   ]
  },
  {
   "cell_type": "markdown",
   "id": "54e41303",
   "metadata": {},
   "source": [
    "Part 2 – Loops\n",
    "\n",
    "6. For Loop – Iterating Over a List"
   ]
  },
  {
   "cell_type": "code",
   "execution_count": 5,
   "id": "7dd11532",
   "metadata": {},
   "outputs": [
    {
     "name": "stdout",
     "output_type": "stream",
     "text": [
      "Processing stream: Feed Water\n",
      "Processing stream: Cooling Water\n",
      "Processing stream: Process Air\n"
     ]
    }
   ],
   "source": [
    "streams = [\"Feed Water\", \"Cooling Water\", \"Process Air\"]\n",
    "\n",
    "for stream in streams:\n",
    "    print(f\"Processing stream: {stream}\")\n"
   ]
  },
  {
   "cell_type": "markdown",
   "id": "38b1f275",
   "metadata": {},
   "source": [
    "7. For Loop with Range"
   ]
  },
  {
   "cell_type": "code",
   "execution_count": 6,
   "id": "d85da96c",
   "metadata": {},
   "outputs": [
    {
     "name": "stdout",
     "output_type": "stream",
     "text": [
      "Batch 1 completed.\n",
      "Batch 2 completed.\n",
      "Batch 3 completed.\n",
      "Batch 4 completed.\n",
      "Batch 5 completed.\n"
     ]
    }
   ],
   "source": [
    "for i in range(1, 6):\n",
    "    print(f\"Batch {i} completed.\")\n"
   ]
  },
  {
   "cell_type": "markdown",
   "id": "8024a45b",
   "metadata": {},
   "source": [
    "8. While Loop Example"
   ]
  },
  {
   "cell_type": "code",
   "execution_count": 7,
   "id": "b4e42e33",
   "metadata": {},
   "outputs": [
    {
     "name": "stdout",
     "output_type": "stream",
     "text": [
      "Tank level: 0 m\n",
      "Tank level: 1 m\n",
      "Tank level: 2 m\n",
      "Tank level: 3 m\n",
      "Tank level: 4 m\n"
     ]
    }
   ],
   "source": [
    "level = 0\n",
    "while level < 5:\n",
    "    print(f\"Tank level: {level} m\")\n",
    "    level += 1\n"
   ]
  },
  {
   "cell_type": "markdown",
   "id": "75388830",
   "metadata": {},
   "source": [
    "9. Break and Continue"
   ]
  },
  {
   "cell_type": "code",
   "execution_count": 8,
   "id": "1cb723e3",
   "metadata": {},
   "outputs": [
    {
     "name": "stdout",
     "output_type": "stream",
     "text": [
      "Temperature OK: 75 °C\n",
      "Temperature OK: 90 °C\n",
      "Overheating detected! Stopping process.\n"
     ]
    }
   ],
   "source": [
    "temperatures = [60, 75, 90, 105, 80]\n",
    "\n",
    "for T in temperatures:\n",
    "    if T > 100:\n",
    "        print(\"Overheating detected! Stopping process.\")\n",
    "        break\n",
    "    if T < 65:\n",
    "        continue  # skip if too cold\n",
    "    print(f\"Temperature OK: {T} °C\")\n"
   ]
  },
  {
   "cell_type": "markdown",
   "id": "ad0e6696",
   "metadata": {},
   "source": [
    "Part 3 – Practical Chemical Engineering Example\n",
    "\n",
    "10. Process Alarm Logic"
   ]
  },
  {
   "cell_type": "code",
   "execution_count": 9,
   "id": "fdcfd4a6",
   "metadata": {},
   "outputs": [
    {
     "name": "stdout",
     "output_type": "stream",
     "text": [
      "Feed Water is within safe operating range.\n",
      "ALERT: Steam exceeds safe limits!\n",
      "Cooling Water is within safe operating range.\n"
     ]
    }
   ],
   "source": [
    "streams = [\n",
    "    {\"name\": \"Feed Water\", \"T_C\": 25, \"P_bar\": 1.2},\n",
    "    {\"name\": \"Steam\", \"T_C\": 180, \"P_bar\": 10},\n",
    "    {\"name\": \"Cooling Water\", \"T_C\": 18, \"P_bar\": 1.0}\n",
    "]\n",
    "\n",
    "for s in streams:\n",
    "    if s[\"T_C\"] > 150 or s[\"P_bar\"] > 8:\n",
    "        print(f\"ALERT: {s['name']} exceeds safe limits!\")\n",
    "    else:\n",
    "        print(f\"{s['name']} is within safe operating range.\")\n"
   ]
  }
 ],
 "metadata": {
  "kernelspec": {
   "display_name": "Python 3",
   "language": "python",
   "name": "python3"
  },
  "language_info": {
   "codemirror_mode": {
    "name": "ipython",
    "version": 3
   },
   "file_extension": ".py",
   "mimetype": "text/x-python",
   "name": "python",
   "nbconvert_exporter": "python",
   "pygments_lexer": "ipython3",
   "version": "3.12.4"
  }
 },
 "nbformat": 4,
 "nbformat_minor": 5
}
