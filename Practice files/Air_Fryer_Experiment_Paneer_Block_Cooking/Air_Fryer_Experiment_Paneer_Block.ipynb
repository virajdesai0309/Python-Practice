{
  "nbformat": 4,
  "nbformat_minor": 0,
  "metadata": {
    "colab": {
      "provenance": []
    },
    "kernelspec": {
      "name": "python3",
      "display_name": "Python 3"
    },
    "language_info": {
      "name": "python"
    }
  },
  "cells": [
    {
      "cell_type": "markdown",
      "source": [
        "# Paneer Cooking Simulation in an Air Fryer Using Python\n",
        "\n",
        "This simulation models the heat distribution during the cooking of paneer in an air fryer using the heat diffusion equation. We load an image of the paneer, convert it to a binary mask, and simulate heat transfer over time. The heat diffusion properties of the paneer are modeled using Python's `numba` to efficiently solve the heat equation. The result is visualized as a contour plot and an animated GIF showing the cooking process over time.\n",
        "\n",
        "Inspiration taken from → [Turkey Cooking](https://github.com/lukepolson/youtube_channel/blob/main/Python%20Metaphysics%20Series/vid9.ipynb)"
      ],
      "metadata": {
        "id": "fTyfnQhmW1rm"
      }
    },
    {
      "cell_type": "code",
      "execution_count": 1,
      "metadata": {
        "id": "netL7aBhOIQl"
      },
      "outputs": [],
      "source": [
        "import numpy as np\n",
        "import matplotlib.pyplot as plt\n",
        "from matplotlib import animation\n",
        "from mpl_toolkits.mplot3d import Axes3D\n",
        "from matplotlib.animation import PillowWriter\n",
        "from matplotlib import cm\n",
        "from skimage import color\n",
        "from skimage import io, transform\n",
        "import numba\n",
        "from numba import jit"
      ]
    },
    {
      "cell_type": "code",
      "source": [
        "# Create a 2D grid with 100x100 points\n",
        "edge = np.linspace(0, 1, 100)\n",
        "xv, yv = np.meshgrid(edge, edge)"
      ],
      "metadata": {
        "id": "h1fLCNQGOZO7"
      },
      "execution_count": 2,
      "outputs": []
    },
    {
      "cell_type": "markdown",
      "source": [
        "#### Code explanation:\n",
        "\n",
        "1.   `from google.colab import files`: Imports the files module from the google.colab library, which provides file upload functionality.\n",
        "2.   `uploaded = files.upload()`: Opens a file picker that allows you to choose one or more files from your local system to upload. The uploaded files are stored in the uploaded variable as a dictionary, with file names as keys and the file data as values."
      ],
      "metadata": {
        "id": "Hro4dWAgXzom"
      }
    },
    {
      "cell_type": "code",
      "source": [
        "from google.colab import files\n",
        "uploaded = files.upload()"
      ],
      "metadata": {
        "colab": {
          "base_uri": "https://localhost:8080/",
          "height": 74
        },
        "id": "f9R-0xKtO58x",
        "outputId": "1fccc27c-c173-4c61-e43d-f5ba5752a50b"
      },
      "execution_count": 3,
      "outputs": [
        {
          "output_type": "display_data",
          "data": {
            "text/plain": [
              "<IPython.core.display.HTML object>"
            ],
            "text/html": [
              "\n",
              "     <input type=\"file\" id=\"files-52a38668-5a64-43be-a64c-406c4f8e0c06\" name=\"files[]\" multiple disabled\n",
              "        style=\"border:none\" />\n",
              "     <output id=\"result-52a38668-5a64-43be-a64c-406c4f8e0c06\">\n",
              "      Upload widget is only available when the cell has been executed in the\n",
              "      current browser session. Please rerun this cell to enable.\n",
              "      </output>\n",
              "      <script>// Copyright 2017 Google LLC\n",
              "//\n",
              "// Licensed under the Apache License, Version 2.0 (the \"License\");\n",
              "// you may not use this file except in compliance with the License.\n",
              "// You may obtain a copy of the License at\n",
              "//\n",
              "//      http://www.apache.org/licenses/LICENSE-2.0\n",
              "//\n",
              "// Unless required by applicable law or agreed to in writing, software\n",
              "// distributed under the License is distributed on an \"AS IS\" BASIS,\n",
              "// WITHOUT WARRANTIES OR CONDITIONS OF ANY KIND, either express or implied.\n",
              "// See the License for the specific language governing permissions and\n",
              "// limitations under the License.\n",
              "\n",
              "/**\n",
              " * @fileoverview Helpers for google.colab Python module.\n",
              " */\n",
              "(function(scope) {\n",
              "function span(text, styleAttributes = {}) {\n",
              "  const element = document.createElement('span');\n",
              "  element.textContent = text;\n",
              "  for (const key of Object.keys(styleAttributes)) {\n",
              "    element.style[key] = styleAttributes[key];\n",
              "  }\n",
              "  return element;\n",
              "}\n",
              "\n",
              "// Max number of bytes which will be uploaded at a time.\n",
              "const MAX_PAYLOAD_SIZE = 100 * 1024;\n",
              "\n",
              "function _uploadFiles(inputId, outputId) {\n",
              "  const steps = uploadFilesStep(inputId, outputId);\n",
              "  const outputElement = document.getElementById(outputId);\n",
              "  // Cache steps on the outputElement to make it available for the next call\n",
              "  // to uploadFilesContinue from Python.\n",
              "  outputElement.steps = steps;\n",
              "\n",
              "  return _uploadFilesContinue(outputId);\n",
              "}\n",
              "\n",
              "// This is roughly an async generator (not supported in the browser yet),\n",
              "// where there are multiple asynchronous steps and the Python side is going\n",
              "// to poll for completion of each step.\n",
              "// This uses a Promise to block the python side on completion of each step,\n",
              "// then passes the result of the previous step as the input to the next step.\n",
              "function _uploadFilesContinue(outputId) {\n",
              "  const outputElement = document.getElementById(outputId);\n",
              "  const steps = outputElement.steps;\n",
              "\n",
              "  const next = steps.next(outputElement.lastPromiseValue);\n",
              "  return Promise.resolve(next.value.promise).then((value) => {\n",
              "    // Cache the last promise value to make it available to the next\n",
              "    // step of the generator.\n",
              "    outputElement.lastPromiseValue = value;\n",
              "    return next.value.response;\n",
              "  });\n",
              "}\n",
              "\n",
              "/**\n",
              " * Generator function which is called between each async step of the upload\n",
              " * process.\n",
              " * @param {string} inputId Element ID of the input file picker element.\n",
              " * @param {string} outputId Element ID of the output display.\n",
              " * @return {!Iterable<!Object>} Iterable of next steps.\n",
              " */\n",
              "function* uploadFilesStep(inputId, outputId) {\n",
              "  const inputElement = document.getElementById(inputId);\n",
              "  inputElement.disabled = false;\n",
              "\n",
              "  const outputElement = document.getElementById(outputId);\n",
              "  outputElement.innerHTML = '';\n",
              "\n",
              "  const pickedPromise = new Promise((resolve) => {\n",
              "    inputElement.addEventListener('change', (e) => {\n",
              "      resolve(e.target.files);\n",
              "    });\n",
              "  });\n",
              "\n",
              "  const cancel = document.createElement('button');\n",
              "  inputElement.parentElement.appendChild(cancel);\n",
              "  cancel.textContent = 'Cancel upload';\n",
              "  const cancelPromise = new Promise((resolve) => {\n",
              "    cancel.onclick = () => {\n",
              "      resolve(null);\n",
              "    };\n",
              "  });\n",
              "\n",
              "  // Wait for the user to pick the files.\n",
              "  const files = yield {\n",
              "    promise: Promise.race([pickedPromise, cancelPromise]),\n",
              "    response: {\n",
              "      action: 'starting',\n",
              "    }\n",
              "  };\n",
              "\n",
              "  cancel.remove();\n",
              "\n",
              "  // Disable the input element since further picks are not allowed.\n",
              "  inputElement.disabled = true;\n",
              "\n",
              "  if (!files) {\n",
              "    return {\n",
              "      response: {\n",
              "        action: 'complete',\n",
              "      }\n",
              "    };\n",
              "  }\n",
              "\n",
              "  for (const file of files) {\n",
              "    const li = document.createElement('li');\n",
              "    li.append(span(file.name, {fontWeight: 'bold'}));\n",
              "    li.append(span(\n",
              "        `(${file.type || 'n/a'}) - ${file.size} bytes, ` +\n",
              "        `last modified: ${\n",
              "            file.lastModifiedDate ? file.lastModifiedDate.toLocaleDateString() :\n",
              "                                    'n/a'} - `));\n",
              "    const percent = span('0% done');\n",
              "    li.appendChild(percent);\n",
              "\n",
              "    outputElement.appendChild(li);\n",
              "\n",
              "    const fileDataPromise = new Promise((resolve) => {\n",
              "      const reader = new FileReader();\n",
              "      reader.onload = (e) => {\n",
              "        resolve(e.target.result);\n",
              "      };\n",
              "      reader.readAsArrayBuffer(file);\n",
              "    });\n",
              "    // Wait for the data to be ready.\n",
              "    let fileData = yield {\n",
              "      promise: fileDataPromise,\n",
              "      response: {\n",
              "        action: 'continue',\n",
              "      }\n",
              "    };\n",
              "\n",
              "    // Use a chunked sending to avoid message size limits. See b/62115660.\n",
              "    let position = 0;\n",
              "    do {\n",
              "      const length = Math.min(fileData.byteLength - position, MAX_PAYLOAD_SIZE);\n",
              "      const chunk = new Uint8Array(fileData, position, length);\n",
              "      position += length;\n",
              "\n",
              "      const base64 = btoa(String.fromCharCode.apply(null, chunk));\n",
              "      yield {\n",
              "        response: {\n",
              "          action: 'append',\n",
              "          file: file.name,\n",
              "          data: base64,\n",
              "        },\n",
              "      };\n",
              "\n",
              "      let percentDone = fileData.byteLength === 0 ?\n",
              "          100 :\n",
              "          Math.round((position / fileData.byteLength) * 100);\n",
              "      percent.textContent = `${percentDone}% done`;\n",
              "\n",
              "    } while (position < fileData.byteLength);\n",
              "  }\n",
              "\n",
              "  // All done.\n",
              "  yield {\n",
              "    response: {\n",
              "      action: 'complete',\n",
              "    }\n",
              "  };\n",
              "}\n",
              "\n",
              "scope.google = scope.google || {};\n",
              "scope.google.colab = scope.google.colab || {};\n",
              "scope.google.colab._files = {\n",
              "  _uploadFiles,\n",
              "  _uploadFilesContinue,\n",
              "};\n",
              "})(self);\n",
              "</script> "
            ]
          },
          "metadata": {}
        },
        {
          "output_type": "stream",
          "name": "stdout",
          "text": [
            "Saving Paneer.jpg to Paneer (5).jpg\n"
          ]
        }
      ]
    },
    {
      "cell_type": "markdown",
      "source": [
        "### Code Explanation\n",
        "\n",
        "1. **Load the uploaded image:**\n",
        "   ```python\n",
        "   img = color.rgb2gray(io.imread('Paneer.jpg'))\n",
        "   ```\n",
        "   - **`io.imread('Paneer.jpg')`**: This function reads the image file named 'Paneer.jpg' that was uploaded to the Google Colab environment. The file name should match the exact name you used when uploading.\n",
        "   - **`color.rgb2gray(...)`**: Converts the RGB image to grayscale. This is useful if you want to work with a single channel image, simplifying the subsequent processing.\n",
        "\n",
        "2. **Resize the image:**\n",
        "   ```python\n",
        "   img_resized = transform.resize(img, (100, 100))\n",
        "   ```\n",
        "   - **`transform.resize(img, (100, 100))`**: This function resizes the grayscale image to a 100x100 pixel grid, which will match the dimensions of the heat map grid used in the simulation. Resizing is important to ensure that the image data aligns with the model's spatial resolution.\n",
        "\n",
        "3. **Flip the image:**\n",
        "   ```python\n",
        "   img = np.flip(img_resized, axis=0)\n",
        "   ```\n",
        "   - **`np.flip(img_resized, axis=0)`**: This function flips the resized image vertically (along the 0-axis). Flipping may be necessary to align the image correctly with the heat map or to reflect the orientation of the object being modeled."
      ],
      "metadata": {
        "id": "YBasy_pUaqKV"
      }
    },
    {
      "cell_type": "code",
      "source": [
        "# Load the uploaded image by referencing its file name\n",
        "img = color.rgb2gray(io.imread('Paneer.jpg'))\n",
        "# Resize the image to match the 100x100 heat map grid\n",
        "img_resized = transform.resize(img, (100, 100))\n",
        "# Flipping the image\n",
        "img = np.flip(img_resized, axis=0)"
      ],
      "metadata": {
        "id": "TJhF5Uz6Oh5M"
      },
      "execution_count": 4,
      "outputs": []
    },
    {
      "cell_type": "code",
      "source": [
        "# Initial display of paneer outline\n",
        "plt.contourf(img)"
      ],
      "metadata": {
        "colab": {
          "base_uri": "https://localhost:8080/",
          "height": 448
        },
        "id": "SzXUbqwOPK_J",
        "outputId": "615c3eb3-2b78-4bf0-faa7-05515fc415dd"
      },
      "execution_count": 5,
      "outputs": [
        {
          "output_type": "execute_result",
          "data": {
            "text/plain": [
              "<matplotlib.contour.QuadContourSet at 0x7825e1f03520>"
            ]
          },
          "metadata": {},
          "execution_count": 5
        },
        {
          "output_type": "display_data",
          "data": {
            "text/plain": [
              "<Figure size 640x480 with 1 Axes>"
            ],
            "image/png": "[encoded data removed]"
          },
          "metadata": {}
        }
      ]
    },
    {
      "cell_type": "markdown",
      "source": [
        "### Code Explanation\n",
        "\n",
        "1. **Create a boolean mask for the paneer area:**\n",
        "   ```python\n",
        "   paneer_bool = img < 0.9\n",
        "   ```\n",
        "   - **`img < 0.9`**: This expression creates a boolean mask (`paneer_bool`) where each pixel in the grayscale image (`img`) is evaluated. If the pixel value is less than 0.9, the corresponding position in `paneer_bool` is set to `True`, indicating that this pixel is considered part of the paneer area. Conversely, pixels with values equal to or greater than 0.9 are set to `False`, indicating they are not part of the paneer.\n",
        "\n",
        "2. **Modify specific row in the boolean mask:**\n",
        "   ```python\n",
        "   paneer_bool[30, :] = False\n",
        "   ```\n",
        "   - **`paneer_bool[30, :] = False`**: This line sets all values in row 30 of the `paneer_bool` mask to `False`. This means that the entire row 30 is excluded from the paneer area, which might be necessary if this row corresponds to a part of the image that should not be included in the simulation (e.g., an area with a different object or background)."
      ],
      "metadata": {
        "id": "digce-Jta8Zd"
      }
    },
    {
      "cell_type": "markdown",
      "source": [
        "### Code Explanation\n",
        "\n",
        "1. **Adjust thermal diffusivity for paneer:**\n",
        "   ```python\n",
        "   a_paneer = 1.0e-7  # lower than turkey due to higher water content\n",
        "   ```\n",
        "   - **`a_paneer = 1.0e-7`**: This variable represents the thermal diffusivity of paneer, which is set to a lower value compared to turkey. The reduced diffusivity is attributed to the higher water content in paneer, affecting how heat spreads through the material. Thermal diffusivity is an important parameter in heat transfer, as it indicates how quickly a material can conduct heat relative to its capacity to store heat.\n",
        "\n",
        "2. **Set initial and air fryer temperatures:**\n",
        "   ```python\n",
        "   raw_paneer_temp = 273.15 + 25  # Room temperature paneer (25°C)\n",
        "   airfryer_temp = 273.15 + 180   # Air fryer set to 180°C\n",
        "   ```\n",
        "   - **`raw_paneer_temp = 273.15 + 25`**: This line calculates the initial temperature of the paneer at room temperature (25°C) in Kelvin. The conversion from Celsius to Kelvin is done by adding 273.15.\n",
        "   - **`airfryer_temp = 273.15 + 180`**: This line sets the air fryer temperature to 180°C in Kelvin.\n",
        "\n",
        "3. **Initialize the heat map:**\n",
        "   ```python\n",
        "   init_heat = np.zeros([100, 100]) + airfryer_temp\n",
        "   ```\n",
        "   - **`np.zeros([100, 100]) + airfryer_temp`**: This line creates a 100x100 array (`init_heat`) initialized with the air fryer temperature (180°C in Kelvin). This array represents the initial heat distribution across the grid, where all cells start at the air fryer temperature.\n",
        "\n",
        "4. **Set initial temperatures for the paneer area:**\n",
        "   ```python\n",
        "   init_heat[paneer_bool] = raw_paneer_temp\n",
        "   ```\n",
        "   - **`init_heat[paneer_bool] = raw_paneer_temp`**: This line updates the `init_heat` array to set the temperature of the paneer region (defined by the boolean mask `paneer_bool`) to the raw paneer temperature (25°C in Kelvin). This creates a temperature profile where the paneer starts at a lower temperature compared to the surrounding air fryer environment."
      ],
      "metadata": {
        "id": "66F0EFfVbLlZ"
      }
    },
    {
      "cell_type": "code",
      "source": [
        "# Create a boolean mask for the paneer area\n",
        "paneer_bool = img < 0.9\n",
        "# Set the non-paneer area to False\n",
        "paneer_bool[30,:] = False"
      ],
      "metadata": {
        "id": "lf8Yt1LoQhuY"
      },
      "execution_count": 15,
      "outputs": []
    },
    {
      "cell_type": "code",
      "source": [
        "# Adjust thermal diffusivity for paneer\n",
        "a_paneer = 1.0e-7  # lower than turkey due to higher water content\n",
        "\n",
        "# Set initial and air fryer temperatures\n",
        "raw_paneer_temp = 273.15 + 25  # Room temperature paneer (25°C)\n",
        "airfryer_temp = 273.15 + 180   # Air fryer set to 180°C\n",
        "init_heat = np.zeros([100, 100]) + airfryer_temp\n",
        "init_heat[paneer_bool] = raw_paneer_temp"
      ],
      "metadata": {
        "id": "cmPGA0N4QiAq"
      },
      "execution_count": 17,
      "outputs": []
    },
    {
      "cell_type": "markdown",
      "source": [
        "### Code Explanation\n",
        "\n",
        "1. **Plot initial temperature distribution:**\n",
        "   ```python\n",
        "   plt.contourf(init_heat)\n",
        "   ```\n",
        "   - **`plt.contourf(init_heat)`**: This line generates a filled contour plot of the `init_heat` array, which represents the initial temperature distribution across the 100x100 grid. The `contourf` function creates a visualization where different temperature ranges are displayed using varying colors. This allows for an intuitive understanding of how the initial temperatures are distributed in the cooking environment, highlighting the area of the paneer at a lower temperature compared to the surrounding air fryer environment."
      ],
      "metadata": {
        "id": "U_bNl0wkbP5V"
      }
    },
    {
      "cell_type": "code",
      "source": [
        "# Plot initial temperature distribution\n",
        "plt.contourf(init_heat)"
      ],
      "metadata": {
        "colab": {
          "base_uri": "https://localhost:8080/",
          "height": 448
        },
        "id": "5DWSxyvNQk2C",
        "outputId": "e6171705-af0c-4b10-8518-30c5cd3e08c7"
      },
      "execution_count": 18,
      "outputs": [
        {
          "output_type": "execute_result",
          "data": {
            "text/plain": [
              "<matplotlib.contour.QuadContourSet at 0x7825e0d890c0>"
            ]
          },
          "metadata": {},
          "execution_count": 18
        },
        {
          "output_type": "display_data",
          "data": {
            "text/plain": [
              "<Figure size 640x480 with 1 Axes>"
            ],
            "image/png": "[encoded data removed]"
          },
          "metadata": {}
        }
      ]
    },
    {
      "cell_type": "markdown",
      "source": [
        "### Code Explanation\n",
        "\n",
        "1. **Simulation parameters:**\n",
        "   ```python\n",
        "   times = 36000  # total time in seconds (10 hours)\n",
        "   ```\n",
        "   - **`times = 36000`**: This variable defines the total duration of the simulation in seconds. In this case, it is set to 36,000 seconds, which corresponds to 10 hours. This total time represents how long the paneer will be simulated while cooking in the air fryer.\n",
        "\n",
        "2. **Time intervals for snapshots:**\n",
        "   ```python\n",
        "   times_snapshot = 3600  # time intervals for snapshots\n",
        "   ```\n",
        "   - **`times_snapshot = 3600`**: This variable sets the time interval for taking snapshots of the heat distribution throughout the simulation. Here, it is set to 3,600 seconds (1 hour). This means that at every hour, the current temperature distribution of the paneer and the surrounding air will be recorded.\n",
        "\n",
        "3. **Calculate number of frames:**\n",
        "   ```python\n",
        "   f = int(times / times_snapshot)\n",
        "   ```\n",
        "   - **`f = int(times / times_snapshot)`**: This line calculates the total number of snapshots (frames) that will be taken during the simulation. It divides the total simulation time by the snapshot interval. For a total time of 36,000 seconds and a snapshot interval of 3,600 seconds, `f` will be equal to 10, indicating that 10 frames will be collected throughout the simulation.\n",
        "\n",
        "4. **Initialize heat frames:**\n",
        "   ```python\n",
        "   heat_frames = np.zeros([times_snapshot, 100, 100])\n",
        "   ```\n",
        "   - **`heat_frames = np.zeros([times_snapshot, 100, 100])`**: This line initializes a 3D NumPy array named `heat_frames`, which will store the temperature distribution at each snapshot. The array has dimensions corresponding to the number of snapshots (time intervals) and the 100x100 grid size, with each element initialized to zero.\n",
        "\n",
        "5. **Set the initial heat distribution:**\n",
        "   ```python\n",
        "   heat_frames[0] = init_heat\n",
        "   ```\n",
        "   - **`heat_frames[0] = init_heat`**: This line assigns the initial heat distribution (`init_heat`) to the first frame of the `heat_frames` array. This sets up the simulation to begin with the previously defined temperature profile, providing a starting point for further calculations in the heat transfer simulation."
      ],
      "metadata": {
        "id": "2sofctnJbWr9"
      }
    },
    {
      "cell_type": "code",
      "source": [
        "# Simulation parameters\n",
        "times = 36000  # total time in seconds (10 hours)\n",
        "times_snapshot = 3600  # time intervals for snapshots\n",
        "f = int(times / times_snapshot)\n",
        "heat_frames = np.zeros([times_snapshot, 100, 100])\n",
        "heat_frames[0] = init_heat"
      ],
      "metadata": {
        "id": "7qgvO0Z3ReP3"
      },
      "execution_count": 19,
      "outputs": []
    },
    {
      "cell_type": "markdown",
      "source": [
        "### Code Explanation\n",
        "\n",
        "1. **Grid size:**\n",
        "   ```python\n",
        "   x = 0.5\n",
        "   ```\n",
        "   - **`x = 0.5`**: This variable represents a parameter related to the grid size. While the exact role of `x` is not specified in this snippet, it could potentially be used for calculations involving spatial resolution or dimensions relevant to the simulation. It could denote a characteristic size of the cooking area or the individual grid cell.\n",
        "\n",
        "2. **Grid spacing (dx):**\n",
        "   ```python\n",
        "   dx = 0.5 / 100\n",
        "   ```\n",
        "   - **`dx = 0.5 / 100`**: This line calculates the grid spacing (the distance between adjacent points in the grid). It divides the total grid size (0.5) by 100, resulting in a grid spacing of 0.005. This small value indicates a fine resolution in the temperature grid, allowing for more accurate modeling of heat distribution and transfer within the paneer as it cooks.\n",
        "\n",
        "3. **Time step (dt):**\n",
        "   ```python\n",
        "   dt = 1\n",
        "   ```\n",
        "   - **`dt = 1`**: This variable sets the time step for the simulation, defining the increment of time at which calculations will be performed. In this case, `dt` is set to 1 second, meaning that the simulation will update the heat distribution every second. This choice of time step allows for detailed tracking of temperature changes and heat transfer dynamics over the course of the cooking process."
      ],
      "metadata": {
        "id": "RM74LbZXbf-G"
      }
    },
    {
      "cell_type": "code",
      "source": [
        "# Grid and time-step sizes\n",
        "x = 0.5\n",
        "dx = 0.5 / 100\n",
        "dt = 1"
      ],
      "metadata": {
        "id": "c1FseJZnRicI"
      },
      "execution_count": 20,
      "outputs": []
    },
    {
      "cell_type": "markdown",
      "source": [
        "### Code Explanation\n",
        "\n",
        "1. **Function Declaration:**\n",
        "   ```python\n",
        "   @numba.jit(\"f8[:,:,:](f8[:,:,:], b1[:,:])\", nopython=True, nogil=True)\n",
        "   def solve_heat(heatmap, is_paneer):\n",
        "   ```\n",
        "   - **`@numba.jit(...)`**: This decorator from the Numba library optimizes the function for performance by compiling it to machine code, allowing for faster execution. The parameters specify the input types and output types of the function.\n",
        "     - **`f8[:,:,:]`**: The function returns a 3D array of type float64 (double precision).\n",
        "     - **`b1[:,:]`**: The second parameter, `is_paneer`, is a 2D boolean array indicating the positions of the paneer.\n",
        "   - **`def solve_heat(heatmap, is_paneer):`**: This is the function definition. It takes two arguments:\n",
        "     - **`heatmap`**: A 3D array storing the temperature distributions over time.\n",
        "     - **`is_paneer`**: A boolean mask indicating which grid cells contain paneer.\n",
        "\n",
        "2. **Initialization:**\n",
        "   ```python\n",
        "   cs = heatmap[0].copy()  # current state\n",
        "   length = len(cs[0])\n",
        "   cf = 0  # current frame\n",
        "   ```\n",
        "   - **`cs = heatmap[0].copy()`**: This line initializes `cs` as a copy of the first time frame in the heatmap, representing the current temperature state.\n",
        "   - **`length = len(cs[0])`**: Determines the size of one dimension of the heatmap (assuming it is square, `length` will be the number of grid points along one side).\n",
        "   - **`cf = 0`**: Initializes a counter for the current frame to keep track of how many frames have been updated in the heatmap.\n",
        "\n",
        "3. **Time Loop:**\n",
        "   ```python\n",
        "   for t in range(1, times):\n",
        "   ```\n",
        "   - **`for t in range(1, times):`**: This loop iterates over time steps from 1 to `times` (36000 seconds).\n",
        "\n",
        "4. **State Update:**\n",
        "   ```python\n",
        "   ns = cs.copy()  # new state\n",
        "   for i in range(1, length - 1):\n",
        "       for j in range(1, length - 1):\n",
        "           if is_paneer[j][i]:\n",
        "               a = a_paneer\n",
        "               ns[j][i] = cs[j][i] + a * dt / dx**2 * (cs[j+1][i] + cs[j-1][i] +\\\n",
        "                                                       cs[j][i+1] + cs[j][i-1] -\\\n",
        "                                                       4 * cs[j][i])\n",
        "   ```\n",
        "   - **`ns = cs.copy()`**: Creates a copy of the current state to calculate the new state.\n",
        "   - **Nested Loops**: Iterate over each grid cell (excluding the borders) using indices `i` and `j`.\n",
        "   - **`if is_paneer[j][i]:`**: Checks if the current cell is part of the paneer.\n",
        "     - If true, calculates the new temperature for that cell based on the heat diffusion equation:\n",
        "       - **`a = a_paneer`**: Sets `a` to the thermal diffusivity for paneer.\n",
        "       - The temperature update formula uses the average of the temperatures of the four neighboring cells (`cs[j+1][i]`, `cs[j-1][i]`, `cs[j][i+1]`, `cs[j][i-1]`) and applies the heat diffusion equation.\n",
        "\n",
        "5. **Updating State and Snapshot:**\n",
        "   ```python\n",
        "   cs = ns.copy()\n",
        "   if t % f == 0:\n",
        "       cf = cf + 1\n",
        "       heatmap[cf] = cs\n",
        "   ```\n",
        "   - **`cs = ns.copy()`**: Updates the current state to the new state for the next iteration.\n",
        "   - **`if t % f == 0:`**: Checks if the current time step is a snapshot interval.\n",
        "     - If true, increments the frame counter (`cf`) and stores the current state in the heatmap at the appropriate frame index.\n",
        "\n",
        "6. **Return Value:**\n",
        "   ```python\n",
        "   return heatmap\n",
        "   ```\n",
        "   - **`return heatmap`**: The function returns the updated heatmap containing the temperature distribution over time."
      ],
      "metadata": {
        "id": "FBEgRuSMbpvu"
      }
    },
    {
      "cell_type": "code",
      "source": [
        "@numba.jit(\"f8[:,:,:](f8[:,:,:], b1[:,:])\", nopython=True, nogil=True)\n",
        "def solve_heat(heatmap, is_paneer):\n",
        "    cs = heatmap[0].copy()  # current state\n",
        "    length = len(cs[0])\n",
        "    cf = 0  # current frame\n",
        "    for t in range(1, times):\n",
        "        ns = cs.copy()  # new state\n",
        "        for i in range(1, length - 1):\n",
        "            for j in range(1, length - 1):\n",
        "                if is_paneer[j][i]:\n",
        "                    a = a_paneer\n",
        "                    ns[j][i] = cs[j][i] + a * dt / dx**2 * (cs[j+1][i] + cs[j-1][i] +\\\n",
        "                                                        cs[j][i+1] + cs[j][i-1] -\\\n",
        "                                                        4 * cs[j][i])\n",
        "        cs = ns.copy()\n",
        "        if t % f == 0:\n",
        "            cf = cf + 1\n",
        "            heatmap[cf] = cs\n",
        "\n",
        "    return heatmap"
      ],
      "metadata": {
        "id": "3MZa98-zRkBf"
      },
      "execution_count": 21,
      "outputs": []
    },
    {
      "cell_type": "markdown",
      "source": [
        "### Code with Comments\n",
        "\n",
        "```python\n",
        "# Run the heat equation solver for paneer cooking simulation\n",
        "heat_frames = solve_heat(heat_frames, paneer_bool)\n",
        "\n",
        "# Convert temperature from Kelvin to Celsius for better visualization\n",
        "heat_frames -= 273.15  # Convert back to Celsius for display\n",
        "```\n",
        "\n",
        "### Explanation of the Code\n",
        "\n",
        "1. **Run the Heat Equation Solver:**\n",
        "   ```python\n",
        "   heat_frames = solve_heat(heat_frames, paneer_bool)\n",
        "   ```\n",
        "   - **`heat_frames = solve_heat(...)`**: Calls the `solve_heat` function, passing the `heat_frames` array (which contains the initial temperature distribution) and the `paneer_bool` boolean mask (indicating where the paneer is located) as arguments.\n",
        "   - The function executes the heat diffusion simulation for the specified number of time steps and updates the `heat_frames` array with the temperature data over time.\n",
        "\n",
        "2. **Convert Temperature to Celsius:**\n",
        "   ```python\n",
        "   heat_frames -= 273.15  # Convert back to Celsius for display\n",
        "   ```\n",
        "   - **`heat_frames -= 273.15`**: Adjusts the temperature values in the `heat_frames` array by subtracting 273.15 to convert temperatures from Kelvin back to Celsius. This conversion is necessary for proper display and interpretation of the temperature data, as the initial temperatures were set in Kelvin during the simulation.\n",
        "\n",
        "This snippet effectively runs the paneer cooking simulation and prepares the resulting temperature data for visualization in a more intuitive Celsius scale."
      ],
      "metadata": {
        "id": "iFvGSDqXbx72"
      }
    },
    {
      "cell_type": "code",
      "source": [
        "# Run the heat equation solver for paneer cooking simulation\n",
        "heat_frames = solve_heat(heat_frames, paneer_bool)\n",
        "heat_frames -= 273.15  # Convert back to Celsius for display"
      ],
      "metadata": {
        "id": "P9RQEMvFRoG-"
      },
      "execution_count": 22,
      "outputs": []
    },
    {
      "cell_type": "markdown",
      "source": [
        "### Code with Comments\n",
        "\n",
        "```python\n",
        "# Visualization using 'inferno' colormap\n",
        "my_cmap = plt.get_cmap('inferno')  # Get the 'inferno' colormap for better temperature visualization\n",
        "\n",
        "plt.figure(figsize=(8, 8))  # Create a new figure with specified size\n",
        "# Plot a filled contour of the temperature at a specific time frame (frame 1000)\n",
        "a = plt.contourf(heat_frames[1000], 100, cmap=my_cmap,\n",
        "                 vmin=raw_paneer_temp - 273.15, vmax=airfryer_temp - 273.15)\n",
        "plt.colorbar(a)  # Add a colorbar to indicate the temperature scale\n",
        "```\n",
        "\n",
        "### Explanation of the Code\n",
        "\n",
        "1. **Set Colormap for Visualization:**\n",
        "   ```python\n",
        "   my_cmap = plt.get_cmap('inferno')  # Get the 'inferno' colormap for better temperature visualization\n",
        "   ```\n",
        "   - **`my_cmap = plt.get_cmap('inferno')`**: Retrieves the 'inferno' colormap from Matplotlib, which is a perceptually uniform colormap suitable for representing temperature data. This colormap provides a clear visual representation of varying temperatures, enhancing the visualization's interpretability.\n",
        "\n",
        "2. **Create a New Figure:**\n",
        "   ```python\n",
        "   plt.figure(figsize=(8, 8))  # Create a new figure with specified size\n",
        "   ```\n",
        "   - **`plt.figure(figsize=(8, 8))`**: Initializes a new figure with a specified size of 8 inches by 8 inches. This sets up the canvas for plotting the contour of the temperature data.\n",
        "\n",
        "3. **Plot the Filled Contour:**\n",
        "   ```python\n",
        "   a = plt.contourf(heat_frames[1000], 100, cmap=my_cmap,\n",
        "                    vmin=raw_paneer_temp - 273.15, vmax=airfryer_temp - 273.15)\n",
        "   ```\n",
        "   - **`plt.contourf(...)`**: Creates a filled contour plot of the temperature distribution at a specific time frame (frame 1000 in this case).\n",
        "   - **`heat_frames[1000]`**: Represents the temperature distribution at the 1000th time step of the simulation.\n",
        "   - **`cmap=my_cmap`**: Applies the previously defined 'inferno' colormap for visual representation.\n",
        "   - **`vmin` and `vmax`**: Set the minimum and maximum values for the colormap, adjusted from Kelvin to Celsius by subtracting 273.15 from the raw paneer and air fryer temperatures, ensuring that the color mapping reflects the actual temperature range of interest.\n",
        "\n",
        "4. **Add a Colorbar:**\n",
        "   ```python\n",
        "   plt.colorbar(a)  # Add a colorbar to indicate the temperature scale\n",
        "   ```\n",
        "   - **`plt.colorbar(a)`**: Adds a colorbar to the plot, providing a reference for the temperature scale used in the filled contour plot. This allows viewers to understand the temperature distribution in the context of the color gradient displayed."
      ],
      "metadata": {
        "id": "wcDt6dKtb4wF"
      }
    },
    {
      "cell_type": "code",
      "source": [
        "# Visualization using 'inferno' colormap\n",
        "my_cmap = plt.get_cmap('inferno')\n",
        "plt.figure(figsize=(8, 8))\n",
        "a = plt.contourf(heat_frames[1000], 100, cmap=my_cmap, vmin=raw_paneer_temp - 273.15, vmax=airfryer_temp - 273.15)\n",
        "plt.colorbar(a)"
      ],
      "metadata": {
        "colab": {
          "base_uri": "https://localhost:8080/",
          "height": 694
        },
        "id": "R10gGOlHRqiX",
        "outputId": "af30639a-8dad-4ac9-a4d8-e06c7e813638"
      },
      "execution_count": 23,
      "outputs": [
        {
          "output_type": "execute_result",
          "data": {
            "text/plain": [
              "<matplotlib.colorbar.Colorbar at 0x7825bdfb3160>"
            ]
          },
          "metadata": {},
          "execution_count": 23
        },
        {
          "output_type": "display_data",
          "data": {
            "text/plain": [
              "<Figure size 800x800 with 2 Axes>"
            ],
            "image/png": "[encoded data removed]"
          },
          "metadata": {}
        }
      ]
    },
    {
      "cell_type": "markdown",
      "source": [
        "### Code with Comments\n",
        "\n",
        "```python\n",
        "# Animation function for cooking process\n",
        "def animate(i):\n",
        "    ax.clear()  # Clear the previous frame's data from the axes\n",
        "    # Create a filled contour plot for the current frame of heat distribution\n",
        "    ax.contourf(heat_frames[10 * i], 100, cmap=my_cmap,\n",
        "                vmin=raw_paneer_temp - 273.15, vmax=airfryer_temp - 273.15)\n",
        "    return fig,  # Return the figure for updating the animation\n",
        "\n",
        "# Create and save the animation\n",
        "fig, ax = plt.subplots(figsize=(8, 6))  # Create a new figure and axes with specified size\n",
        "# Generate the animation using the animate function for 359 frames\n",
        "ani = animation.FuncAnimation(fig, animate,\n",
        "                               frames=359, interval=50)  # Update every 50 milliseconds\n",
        "# Save the animation as a GIF file named 'paneer_cooked.gif'\n",
        "ani.save('paneer_cooked.gif', writer='pillow', fps=30)  # Set frames per second to 30\n",
        "```\n",
        "\n",
        "### Explanation of the Code\n",
        "\n",
        "1. **Animation Function Definition:**\n",
        "   ```python\n",
        "   def animate(i):\n",
        "       ax.clear()  # Clear the previous frame's data from the axes\n",
        "   ```\n",
        "   - **`def animate(i):`**: Defines the function that will be called for each frame of the animation. The parameter `i` represents the current frame index.\n",
        "   - **`ax.clear()`**: Clears the axes to remove the previous frame's content. This ensures that the new frame can be drawn without overlapping with the old one.\n",
        "\n",
        "2. **Create Contour Plot for Current Frame:**\n",
        "   ```python\n",
        "   ax.contourf(heat_frames[10 * i], 100, cmap=my_cmap,\n",
        "                vmin=raw_paneer_temp - 273.15, vmax=airfryer_temp - 273.15)\n",
        "   ```\n",
        "   - **`ax.contourf(...)`**: Plots a filled contour plot of the heat distribution for the current frame (`10 * i` selects the specific time frame).\n",
        "   - **`heat_frames[10 * i]`**: Accesses the temperature distribution at the `10 * i` time step. This selection updates every frame to simulate the cooking process.\n",
        "   - **`cmap=my_cmap`**: Applies the previously defined colormap for the visualization.\n",
        "   - **`vmin` and `vmax`**: Set the minimum and maximum values for the colormap, converting the temperature values from Kelvin to Celsius.\n",
        "\n",
        "3. **Return Figure for Animation:**\n",
        "   ```python\n",
        "   return fig,  # Return the figure for updating the animation\n",
        "   ```\n",
        "   - **`return fig,`**: Returns the updated figure to the animation function. The comma indicates that this is a tuple, which is the expected return type for the animation function.\n",
        "\n",
        "4. **Create and Save Animation:**\n",
        "   ```python\n",
        "   fig, ax = plt.subplots(figsize=(8, 6))  # Create a new figure and axes with specified size\n",
        "   ```\n",
        "   - **`fig, ax = plt.subplots(figsize=(8, 6))`**: Initializes a new figure and axes for the animation with the specified dimensions.\n",
        "\n",
        "5. **Generate Animation:**\n",
        "   ```python\n",
        "   ani = animation.FuncAnimation(fig, animate,\n",
        "                                  frames=359, interval=50)  # Update every 50 milliseconds\n",
        "   ```\n",
        "   - **`ani = animation.FuncAnimation(...)`**: Creates the animation by repeatedly calling the `animate` function.\n",
        "   - **`frames=359`**: Specifies the number of frames to be generated for the animation.\n",
        "   - **`interval=50`**: Sets the time interval between frames in milliseconds.\n",
        "\n",
        "6. **Save Animation as GIF:**\n",
        "   ```python\n",
        "   ani.save('paneer_cooked.gif', writer='pillow', fps=30)  # Set frames per second to 30\n",
        "   ```\n",
        "   - **`ani.save('paneer_cooked.gif', writer='pillow', fps=30)`**: Saves the generated animation as a GIF file named 'paneer_cooked.gif' using the Pillow writer, with a frame rate of 30 frames per second."
      ],
      "metadata": {
        "id": "B1Cvmj9ycAA8"
      }
    },
    {
      "cell_type": "code",
      "source": [
        "# Animation function for cooking process\n",
        "def animate(i):\n",
        "    ax.clear()\n",
        "    ax.contourf(heat_frames[10*i], 100, cmap=my_cmap, vmin=raw_paneer_temp - 273.15, vmax=airfryer_temp - 273.15)\n",
        "    return fig,\n",
        "\n",
        "# Create and save the animation\n",
        "fig, ax = plt.subplots(figsize=(8, 6))\n",
        "ani = animation.FuncAnimation(fig, animate,\n",
        "                               frames=359, interval=50)\n",
        "ani.save('paneer_cooked.gif', writer='pillow', fps=30)"
      ],
      "metadata": {
        "colab": {
          "base_uri": "https://localhost:8080/",
          "height": 522
        },
        "id": "Vc3ggTefRsv-",
        "outputId": "84e884a6-0624-4597-f1fd-1b0a8e68a96b"
      },
      "execution_count": 24,
      "outputs": [
        {
          "output_type": "display_data",
          "data": {
            "text/plain": [
              "<Figure size 800x600 with 1 Axes>"
            ],
            "image/png": "[encoded data removed]"
          },
          "metadata": {}
        }
      ]
    },
    {
      "cell_type": "markdown",
      "source": [
        "### Code with Comments\n",
        "\n",
        "```python\n",
        "# Create a time array from 0 to 10 hours, matching the length of heat_frames\n",
        "t = np.linspace(0, 10, len(heat_frames))\n",
        "\n",
        "# Calculate the average temperature for the paneer over all heat frames\n",
        "avg_temp = np.array([heat_frame[paneer_bool].mean() for heat_frame in heat_frames])\n",
        "# Calculate the minimum temperature for the paneer over all heat frames\n",
        "min_temp = np.array([heat_frame[paneer_bool].min() for heat_frame in heat_frames])\n",
        "# Calculate the standard deviation of the temperature for the paneer over all heat frames\n",
        "std_temp = np.array([heat_frame[paneer_bool].std() for heat_frame in heat_frames])\n",
        "\n",
        "# Plot the average temperature over time\n",
        "plt.plot(t, avg_temp, label='Average Temperature')\n",
        "# Plot the minimum temperature over time\n",
        "plt.plot(t, min_temp, label='Minimum Temperature')\n",
        "# Draw a horizontal line representing the cooking temperature threshold\n",
        "plt.axhline(80, color='k', ls='--', label='Cooking Temperature')\n",
        "# Label the x-axis\n",
        "plt.xlabel('Time [hours]')\n",
        "# Label the y-axis\n",
        "plt.ylabel('Temp [°C]')\n",
        "# Add a grid to the plot for better readability\n",
        "plt.grid()\n",
        "# Show the legend for the plot\n",
        "plt.legend()\n",
        "# Display the plot\n",
        "plt.show()\n",
        "```\n",
        "\n",
        "### Explanation of the Code\n",
        "\n",
        "1. **Time Array Creation:**\n",
        "   ```python\n",
        "   t = np.linspace(0, 10, len(heat_frames))\n",
        "   ```\n",
        "   - **`np.linspace(0, 10, len(heat_frames))`**: Generates an array of evenly spaced values from 0 to 10 hours, where the number of values corresponds to the number of heat frames in the simulation.\n",
        "\n",
        "2. **Average Temperature Calculation:**\n",
        "   ```python\n",
        "   avg_temp = np.array([heat_frame[paneer_bool].mean() for heat_frame in heat_frames])\n",
        "   ```\n",
        "   - **`avg_temp`**: Uses a list comprehension to iterate through each heat frame and calculate the average temperature of the paneer area defined by `paneer_bool`. The result is stored as a NumPy array.\n",
        "\n",
        "3. **Minimum Temperature Calculation:**\n",
        "   ```python\n",
        "   min_temp = np.array([heat_frame[paneer_bool].min() for heat_frame in heat_frames])\n",
        "   ```\n",
        "   - **`min_temp`**: Similarly calculates the minimum temperature for the paneer area for each heat frame and stores it as a NumPy array.\n",
        "\n",
        "4. **Standard Deviation Calculation:**\n",
        "   ```python\n",
        "   std_temp = np.array([heat_frame[paneer_bool].std() for heat_frame in heat_frames])\n",
        "   ```\n",
        "   - **`std_temp`**: Calculates the standard deviation of the temperatures in the paneer area for each heat frame, storing the results in a NumPy array. (Though this variable is defined, it is not used in the plot below.)\n",
        "\n",
        "5. **Plotting the Average Temperature:**\n",
        "   ```python\n",
        "   plt.plot(t, avg_temp, label='Average Temperature')\n",
        "   ```\n",
        "   - **`plt.plot(...)`**: Plots the average temperature against time, labeling the line as \"Average Temperature\".\n",
        "\n",
        "6. **Plotting the Minimum Temperature:**\n",
        "   ```python\n",
        "   plt.plot(t, min_temp, label='Minimum Temperature')\n",
        "   ```\n",
        "   - **`plt.plot(...)`**: Plots the minimum temperature against time, labeling the line as \"Minimum Temperature\".\n",
        "\n",
        "7. **Cooking Temperature Line:**\n",
        "   ```python\n",
        "   plt.axhline(80, color='k', ls='--', label='Cooking Temperature')\n",
        "   ```\n",
        "   - **`plt.axhline(...)`**: Draws a horizontal dashed line at the y-value of 80°C, representing the cooking temperature threshold.\n",
        "\n",
        "8. **Axes Labels:**\n",
        "   ```python\n",
        "   plt.xlabel('Time [hours]')\n",
        "   plt.ylabel('Temp [°C]')\n",
        "   ```\n",
        "   - **`plt.xlabel(...)`** and **`plt.ylabel(...)`**: Label the x-axis as \"Time [hours]\" and the y-axis as \"Temp [°C]\".\n",
        "\n",
        "9. **Adding Grid and Legend:**\n",
        "   ```python\n",
        "   plt.grid()  # Add a grid for better readability\n",
        "   plt.legend()  # Show the legend for the plot\n",
        "   ```\n",
        "\n",
        "10. **Displaying the Plot:**\n",
        "    ```python\n",
        "    plt.show()  # Display the plot\n",
        "    ```"
      ],
      "metadata": {
        "id": "sk1Y6INqcV_u"
      }
    },
    {
      "cell_type": "code",
      "source": [
        "# Plotting temperature evolution over time\n",
        "t = np.linspace(0, 10, len(heat_frames))\n",
        "avg_temp = np.array([heat_frame[paneer_bool].mean() for heat_frame in heat_frames])\n",
        "min_temp = np.array([heat_frame[paneer_bool].min() for heat_frame in heat_frames])\n",
        "std_temp = np.array([heat_frame[paneer_bool].std() for heat_frame in heat_frames])\n",
        "\n",
        "plt.plot(t, avg_temp, label='Average Temperature')\n",
        "plt.plot(t, min_temp, label='Minimum Temperature')\n",
        "plt.axhline(80, color='k', ls='--', label='Cooking Temperature')\n",
        "plt.xlabel('Time [hours]')\n",
        "plt.ylabel('Temp [°C]')\n",
        "plt.grid()\n",
        "plt.legend()\n",
        "plt.show()"
      ],
      "metadata": {
        "colab": {
          "base_uri": "https://localhost:8080/",
          "height": 449
        },
        "id": "3l6JMlKpRxSO",
        "outputId": "aaf2cbd6-ed12-484e-e253-57d3094044ec"
      },
      "execution_count": 25,
      "outputs": [
        {
          "output_type": "display_data",
          "data": {
            "text/plain": [
              "<Figure size 640x480 with 1 Axes>"
            ],
            "image/png": "[encoded data removed]"
          },
          "metadata": {}
        }
      ]
    },
    {
      "cell_type": "code",
      "source": [
        "!ls\n"
      ],
      "metadata": {
        "colab": {
          "base_uri": "https://localhost:8080/"
        },
        "id": "aFebKL_MSNFX",
        "outputId": "ca334c52-ac0f-4485-b4de-b65875040c17"
      },
      "execution_count": 26,
      "outputs": [
        {
          "output_type": "stream",
          "name": "stdout",
          "text": [
            "'Paneer (1).jpg'  'Paneer (3).jpg'  'Paneer (5).jpg'\t Paneer.jpg\n",
            "'Paneer (2).jpg'  'Paneer (4).jpg'   paneer_cooked.gif\t sample_data\n"
          ]
        }
      ]
    },
    {
      "cell_type": "code",
      "source": [
        "from google.colab import files\n",
        "files.download('paneer_cooked.gif')"
      ],
      "metadata": {
        "id": "xp_WDwHCSqrr"
      },
      "execution_count": null,
      "outputs": []
    },
    {
      "cell_type": "code",
      "source": [],
      "metadata": {
        "id": "b3GstkIlSsdq"
      },
      "execution_count": null,
      "outputs": []
    }
  ]
}